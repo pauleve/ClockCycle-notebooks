{
 "cells": [
  {
   "cell_type": "code",
   "execution_count": null,
   "metadata": {
    "scrolled": true
   },
   "outputs": [],
   "source": [
    "from IPython.display import HTML, display\n",
    "from tabulate import tabulate\n",
    "import json\n",
    "import pypint\n",
    "from tqdm.notebook import tqdm"
   ]
  },
  {
   "cell_type": "markdown",
   "metadata": {},
   "source": [
    "## Phases and markers\n",
    "\n",
    "From [2 - Markers](2%20-%20Markers.ipynb)"
   ]
  },
  {
   "cell_type": "code",
   "execution_count": null,
   "metadata": {},
   "outputs": [],
   "source": [
    "markers = json.load(open(\"generated/markers.json\"))\n",
    "phases = list(markers.keys())"
   ]
  },
  {
   "cell_type": "markdown",
   "metadata": {},
   "source": [
    "## Initial state\n",
    "\n",
    "From [3 - Initial state](3%20-%20Initial%20state.ipynb)"
   ]
  },
  {
   "cell_type": "code",
   "execution_count": null,
   "metadata": {},
   "outputs": [],
   "source": [
    "inis = json.load(open(\"generated/inis.json\"))"
   ]
  },
  {
   "cell_type": "markdown",
   "metadata": {},
   "source": [
    "## Dynamical models"
   ]
  },
  {
   "cell_type": "code",
   "execution_count": null,
   "metadata": {},
   "outputs": [],
   "source": [
    "ans = {code: pypint.load(f\"generated/merge-{code}.an\") for code in tqdm(inis)}"
   ]
  },
  {
   "cell_type": "markdown",
   "metadata": {},
   "source": [
    "## B. Reach each phase with other phases to zero"
   ]
  },
  {
   "cell_type": "code",
   "execution_count": null,
   "metadata": {
    "scrolled": true
   },
   "outputs": [],
   "source": [
    "results = []\n",
    "codes = list(sorted(inis.keys()))\n",
    "for code in tqdm(codes):\n",
    "    res_ini = [code]\n",
    "    an = ans[code]\n",
    "    for phase in tqdm(phases, desc=code, leave=bool(code == codes[0])):\n",
    "        if phase == \"M\":\n",
    "            continue # computed by another program\n",
    "        res = []\n",
    "        for marker in tqdm(markers[phase], desc=phase, leave=False):\n",
    "            goal = {marker: 1}\n",
    "            for p in phases:\n",
    "                if p == phase:\n",
    "                    continue\n",
    "                for m in markers[p]:\n",
    "                    goal[m] = 0\n",
    "\n",
    "            reach = an.reachability(goal, reduce_for_goal=True, tool=\"mole\")\n",
    "            res.append(reach)\n",
    "        res_ini.append(\"{}/{}\".format(sum(res), len(res)))\n",
    "    results.append(res_ini)\n",
    "results = sorted(results, key=lambda x: x[0])"
   ]
  },
  {
   "cell_type": "code",
   "execution_count": null,
   "metadata": {
    "scrolled": true
   },
   "outputs": [],
   "source": [
    "display(HTML(tabulate(results, headers=[\"Precursor state\"] + list(markers.keys()), tablefmt=\"html\")))"
   ]
  },
  {
   "cell_type": "code",
   "execution_count": null,
   "metadata": {},
   "outputs": [],
   "source": []
  }
 ],
 "metadata": {
  "kernelspec": {
   "display_name": "Python 3",
   "language": "python",
   "name": "python3"
  },
  "language_info": {
   "codemirror_mode": {
    "name": "ipython",
    "version": 3
   },
   "file_extension": ".py",
   "mimetype": "text/x-python",
   "name": "python",
   "nbconvert_exporter": "python",
   "pygments_lexer": "ipython3",
   "version": "3.9.2"
  }
 },
 "nbformat": 4,
 "nbformat_minor": 4
}
