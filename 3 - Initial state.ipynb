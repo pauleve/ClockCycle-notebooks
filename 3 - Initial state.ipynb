{
 "cells": [
  {
   "cell_type": "code",
   "execution_count": 1,
   "metadata": {},
   "outputs": [],
   "source": [
    "import csbgnpy.pd.io.cd\n",
    "import csbgnpy.pd.io.sbgnml\n",
    "import sbgn2an.utils\n",
    "import sbgn2an.ini"
   ]
  },
  {
   "cell_type": "markdown",
   "metadata": {},
   "source": [
    "## Merged map\n",
    "\n",
    "From [1 - Merge CYCLE and CLOCK](1%20-%20Merge%20CYCLE%20and%20CLOCK.ipynb)"
   ]
  },
  {
   "cell_type": "code",
   "execution_count": 2,
   "metadata": {},
   "outputs": [],
   "source": [
    "merge = csbgnpy.pd.io.sbgnml.read(\"generated/MERGE.sbgnml\")"
   ]
  },
  {
   "cell_type": "markdown",
   "metadata": {},
   "source": [
    "## Initial state"
   ]
  },
  {
   "cell_type": "markdown",
   "metadata": {},
   "source": [
    "We compute all initial states that respect the constraints given in the paper, and that contains the pRB:E2F1:DP2 complex."
   ]
  },
  {
   "cell_type": "code",
   "execution_count": 3,
   "metadata": {
    "scrolled": false
   },
   "outputs": [
    {
     "name": "stdout",
     "output_type": "stream",
     "text": [
      "24\n"
     ]
    }
   ],
   "source": [
    "inis = sbgn2an.ini.get_ini(merge, in_ini=[merge.get_entity(\"Complex([SubMacromolecule([][@|@|@|@]pRB*)|SubMacromolecule([][@]DP1*)|SubMacromolecule([][@Ser364|@Ser31|@Ser403|@Lys|@]E2F1)][][]pRB*/E2F1/DP1*#Compartment(nucleoplasm))\", by_string=True)])\n",
    "print(len(inis))"
   ]
  },
  {
   "cell_type": "markdown",
   "metadata": {},
   "source": [
    "We obtain 24 possible initial states.\n",
    "We check the difference between each initial state.\n",
    "For this we first compute the intersection of all initial states."
   ]
  },
  {
   "cell_type": "code",
   "execution_count": 4,
   "metadata": {},
   "outputs": [],
   "source": [
    "inter = set([e.id for e in inis[0]])\n",
    "for ini in inis[1:]:\n",
    "    inter = inter.intersection(set([e.id for e in ini]))"
   ]
  },
  {
   "cell_type": "code",
   "execution_count": 5,
   "metadata": {
    "scrolled": true
   },
   "outputs": [
    {
     "name": "stdout",
     "output_type": "stream",
     "text": [
      "[106, 106, 106, 106, 106, 106, 106, 106, 106, 106, 106, 106, 106, 106, 106, 106, 106, 106, 106, 106, 106, 106, 106, 106]\n",
      "102\n"
     ]
    }
   ],
   "source": [
    "print([len(ini) for ini in inis])\n",
    "print(len(inter))"
   ]
  },
  {
   "cell_type": "markdown",
   "metadata": {},
   "source": [
    "Each of the 24 initial states is constituted of 104 entities, 100 of which are common to all initial states.\n",
    "Hence we check the nature of the entities that do not belong to all initial states."
   ]
  },
  {
   "cell_type": "code",
   "execution_count": 6,
   "metadata": {
    "scrolled": false
   },
   "outputs": [
    {
     "name": "stdout",
     "output_type": "stream",
     "text": [
      "['SimpleChemical([][]NAM#Compartment([]nucleoplasm))', 'SimpleChemical([][]NAD+#Compartment([]nucleoplasm))', 'Macromolecule([][@|@|@Ser15|@Ser20]p53#Compartment([]nucleoplasm))', 'Macromolecule([][]E2F4#Compartment([]nucleoplasm))', 'Macromolecule([][]DP2*#Compartment([]cytoplasm))', 'SimpleChemical([][]NMN#Compartment([]nucleoplasm))', 'Macromolecule([][]E2F4#Compartment([]cytoplasm))', 'Macromolecule([][@|@|@Ser15|@Ser20]p53#Compartment([]cytoplasm))', 'Macromolecule([][]DP2*#Compartment([]nucleoplasm))']\n"
     ]
    }
   ],
   "source": [
    "tot_diff = set([])\n",
    "for ini in inis:\n",
    "    ini = set([e.id for e in ini])\n",
    "    diff = ini.difference(inter)\n",
    "    tot_diff = tot_diff.union(diff)\n",
    "    \n",
    "print([str(merge.get_entity(e, by_id=True)) for e in tot_diff])\n"
   ]
  },
  {
   "cell_type": "markdown",
   "metadata": {},
   "source": [
    "For each initial state, the 4 entities that do not belong to all initial states are to be chosen as follows (2 x 2 x 2 x 3 = 24 possibilities): \n",
    "\n",
    "* p53: \"Macromolecule([][@|@|@Ser15|@Ser20]p53#Compartment([]cytoplasm))\" or \"Macromolecule([][@|@|@Ser15|@Ser20]p53#Compartment([]nucleoplasm))\"\n",
    "* E2F4: \"Macromolecule([][]E2F4#Compartment([]cytoplasm))\" or \"Macromolecule([][]E2F4#Compartment([]nucleoplasm))\"\n",
    "* DP2: \"Macromolecule([][]DP2\\*#Compartment([]cytoplasm))\" or \"Macromolecule([][]DP2*#Compartment([]nucleoplasm))\"\n",
    "* NAD+/NAM/NMN: \"SimpleChemical([][]NAD+#Compartment([]nucleoplasm))\" or \"SimpleChemical([][]NAM#Compartment([]nucleoplasm))\" or \"SimpleChemical([][]NMN#Compartment([]nucleoplasm))\"\n",
    "\n",
    "For p53, E2F4, DP2, the entities have two localizations (cytoplasm and nucleoplasm) and cycling translocation processes from one localization to the other.\n",
    "For the NAD+/NAM/NMN entities, there is a cycle producing the three entities (NAD+->NAM->NMN->NAD+).\n",
    "\n",
    "We choose the initial state with the p53, E2F4 and DP2 entities located in the cytoplasm, and with the NAD+ entity."
   ]
  },
  {
   "cell_type": "code",
   "execution_count": 7,
   "metadata": {},
   "outputs": [
    {
     "name": "stdout",
     "output_type": "stream",
     "text": [
      "1\n",
      "Stored 'ini' (list)\n"
     ]
    }
   ],
   "source": [
    "p53 = \"Macromolecule([][@|@|@Ser15|@Ser20]p53#Compartment([]cytoplasm))\"\n",
    "e2f4 = \"Macromolecule([][]E2F4#Compartment([]cytoplasm))\"\n",
    "dp2 = \"Macromolecule([][]DP2*#Compartment([]cytoplasm))\"\n",
    "nad = \"SimpleChemical([][]NAD+#Compartment([]nucleoplasm))\"\n",
    "\n",
    "final_inis = []\n",
    "for ini in inis:\n",
    "    if merge.get_entity(p53, by_string=True) in ini and merge.get_entity(e2f4, by_string=True) in ini and merge.get_entity(dp2, by_string=True) in ini and merge.get_entity(nad, by_string=True) in ini:\n",
    "        final_inis.append(ini)\n",
    "        \n",
    "print(len(final_inis))\n",
    "ini = final_inis[0]\n",
    "%store ini"
   ]
  }
 ],
 "metadata": {
  "kernelspec": {
   "display_name": "Python 3",
   "language": "python",
   "name": "python3"
  },
  "language_info": {
   "codemirror_mode": {
    "name": "ipython",
    "version": 3
   },
   "file_extension": ".py",
   "mimetype": "text/x-python",
   "name": "python",
   "nbconvert_exporter": "python",
   "pygments_lexer": "ipython3",
   "version": "3.8.5"
  }
 },
 "nbformat": 4,
 "nbformat_minor": 2
}
