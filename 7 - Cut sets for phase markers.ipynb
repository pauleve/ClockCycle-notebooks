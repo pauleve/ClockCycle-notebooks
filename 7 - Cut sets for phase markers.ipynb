{
 "cells": [
  {
   "cell_type": "code",
   "execution_count": 1,
   "metadata": {},
   "outputs": [
    {
     "data": {
      "text/markdown": [
       "This notebook has been executed using the docker image `pauleve/clockcycle:v1`"
      ],
      "text/plain": [
       "<IPython.core.display.Markdown object>"
      ]
     },
     "metadata": {},
     "output_type": "display_data"
    }
   ],
   "source": [
    "from functools import reduce\n",
    "import csbgnpy.pd.io.sbgnml\n",
    "import pypint\n",
    "import multiprocessing\n",
    "from IPython.display import display\n",
    "import networkx as nx\n",
    "from tqdm.notebook import tqdm"
   ]
  },
  {
   "cell_type": "markdown",
   "metadata": {},
   "source": [
    "## Merged map\n",
    "\n",
    "From [1 - Merge CYCLE and CLOCK](1%20-%20Merge%20CYCLE%20and%20CLOCK.ipynb)"
   ]
  },
  {
   "cell_type": "code",
   "execution_count": 2,
   "metadata": {},
   "outputs": [],
   "source": [
    "merge_file = \"generated/MERGE.sbgnml\"\n",
    "merge = csbgnpy.pd.io.sbgnml.read(merge_file)"
   ]
  },
  {
   "cell_type": "code",
   "execution_count": 3,
   "metadata": {},
   "outputs": [],
   "source": [
    "clock = csbgnpy.pd.io.sbgnml.read(\"generated/CLOCK.sbgnml\")\n",
    "cycle = csbgnpy.pd.io.sbgnml.read(\"generated/CYCLE.sbgnml\")\n",
    "clock_ids = set([e.id for e in clock.entities])# + [p.id for p in clock.processes])\n",
    "cycle_ids = set([e.id for e in cycle.entities])# + [p.id for p in cycle.processes])\n",
    "clock_only = clock_ids - cycle_ids\n",
    "cycle_only = cycle_ids - clock_ids"
   ]
  },
  {
   "cell_type": "markdown",
   "metadata": {},
   "source": [
    "## Markers\n",
    "\n",
    "From [2 - Markers.ipynb](2%20-%20Markers.ipynb):"
   ]
  },
  {
   "cell_type": "code",
   "execution_count": 4,
   "metadata": {},
   "outputs": [],
   "source": [
    "%store -r cycle_markers\n",
    "%store -r clock_markers"
   ]
  },
  {
   "cell_type": "markdown",
   "metadata": {},
   "source": [
    "## Initial state\n",
    "\n",
    "From [3 - Initial state](3%20-%20Initial%20state.ipynb)"
   ]
  },
  {
   "cell_type": "code",
   "execution_count": 5,
   "metadata": {},
   "outputs": [],
   "source": [
    "%store -r inis"
   ]
  },
  {
   "cell_type": "markdown",
   "metadata": {},
   "source": [
    "To ids:"
   ]
  },
  {
   "cell_type": "code",
   "execution_count": 6,
   "metadata": {},
   "outputs": [],
   "source": [
    "inis = {code: [e.id for e in ini] for code, ini in inis.items()}"
   ]
  },
  {
   "cell_type": "markdown",
   "metadata": {},
   "source": [
    "### Conversion to internal identifiers"
   ]
  },
  {
   "cell_type": "code",
   "execution_count": 7,
   "metadata": {},
   "outputs": [],
   "source": [
    "def get_map(a):\n",
    "    if a in clock_only:\n",
    "        return \"CLOCK\"\n",
    "    if a in cycle_only:\n",
    "        return \"CYCLE\"\n",
    "    return \"MERGE\"\n",
    "def pretty_node(a):\n",
    "    if a.startswith(\"epn_\"):\n",
    "        e = merge.get_entity(a, by_id=True)\n",
    "    else:\n",
    "        e = merge.get_process(a, by_id=True)\n",
    "    return \"{}::{}\".format(get_map(a), str(e))\n",
    "def get_entity_id(spec):\n",
    "    e = merge.get_entity(spec, by_string=True)\n",
    "    if not e:\n",
    "        raise Exception(f\"No entity found for '{spec}'\")\n",
    "    return e.id"
   ]
  },
  {
   "cell_type": "code",
   "execution_count": 8,
   "metadata": {
    "scrolled": true
   },
   "outputs": [],
   "source": [
    "an_cycle_markers = dict([(p, [(get_entity_id(m),1) for m in ms]) \\\n",
    "                         for p,ms in cycle_markers.items()])\n",
    "an_clock_markers = dict([(p, [(get_entity_id(m),1) for m in ms]) \\\n",
    "                         for p,ms in clock_markers.items()])"
   ]
  },
  {
   "cell_type": "code",
   "execution_count": 9,
   "metadata": {},
   "outputs": [],
   "source": [
    "def pretty_mutations(m):\n",
    "    return dict([(pretty_node(a), i) for (a,i) in sorted(m.items())])\n",
    "\n",
    "def has_proc(m):\n",
    "    for e in m:\n",
    "        if e.startswith(\"proc_\"):\n",
    "            return True\n",
    "    return False\n",
    "\n",
    "def unpretty_node(a):\n",
    "    name = \"::\".join(a.split(\"::\")[1:])\n",
    "    entity = merge.get_entity(name, by_string=True)\n",
    "    return entity.id\n",
    "\n",
    "def unpretty_mutations(m):\n",
    "    return dict([(unpretty_node(a), i) for (a,i) in m.items()])"
   ]
  },
  {
   "cell_type": "code",
   "execution_count": 10,
   "metadata": {},
   "outputs": [],
   "source": [
    "def oneshot_mutations_for_cut(an, markers, **kwargs):\n",
    "    ms = []\n",
    "    for marker in markers:\n",
    "        ms += an.oneshot_mutations_for_cut(marker, **kwargs)\n",
    "    return ms"
   ]
  },
  {
   "cell_type": "code",
   "execution_count": 11,
   "metadata": {},
   "outputs": [],
   "source": [
    "def check_mutation_for_cut(an, markers, locks):\n",
    "    for marker in markers:\n",
    "        wt_reach = an.reachability(marker)\n",
    "        mu_reach = an.lock(locks).reachability(marker)\n",
    "        if wt_reach and not mu_reach:\n",
    "            print(\"mutation is cutting {}\".format(pretty_node(marker[0])))"
   ]
  },
  {
   "cell_type": "code",
   "execution_count": 12,
   "metadata": {},
   "outputs": [],
   "source": [
    "def list_interesting(ms, interest):\n",
    "    i2m = {}\n",
    "    for mi, m in enumerate(ms):\n",
    "        li = [(a,i) for (a,i) in m.items() if a in interest]\n",
    "        arity = len(m)\n",
    "        for (a,i) in li:\n",
    "            a = pretty_node(a)\n",
    "            if (a,i) not in i2m:\n",
    "                i2m[(a,i)] = set()\n",
    "            i2m[(a,i)].add(arity)\n",
    "            #if arity not in i2m[(a,i)]:\n",
    "            #    i2m[(a,i)][arity] = []\n",
    "            #i2m[(a,i)][arity].append(mi)\n",
    "    si2m = {}\n",
    "    for k, v in sorted(i2m.items()):\n",
    "        si2m[k] = v\n",
    "    return si2m"
   ]
  },
  {
   "cell_type": "code",
   "execution_count": 13,
   "metadata": {},
   "outputs": [
    {
     "data": {
      "application/vnd.jupyter.widget-view+json": {
       "model_id": "af5f373e1714464fa6ebdd433ea42cce",
       "version_major": 2,
       "version_minor": 0
      },
      "text/plain": [
       "HBox(children=(HTML(value=''), FloatProgress(value=0.0, max=24.0), HTML(value='')))"
      ]
     },
     "metadata": {},
     "output_type": "display_data"
    },
    {
     "name": "stdout",
     "output_type": "stream",
     "text": [
      "\n"
     ]
    }
   ],
   "source": [
    "ans = {code: pypint.load(merge_file, initial_state=ini)\n",
    "           for code, ini in tqdm(inis.items())}"
   ]
  },
  {
   "cell_type": "code",
   "execution_count": 14,
   "metadata": {},
   "outputs": [],
   "source": [
    "def list_cutsets(an, markers, scope, **opts):\n",
    "    ms = an.cutsets(markers, quiet=True, **opts)\n",
    "    return frozenset(list_interesting(ms, scope).keys())"
   ]
  },
  {
   "cell_type": "markdown",
   "metadata": {},
   "source": [
    "## CYCLE cut sets"
   ]
  },
  {
   "cell_type": "code",
   "execution_count": 15,
   "metadata": {},
   "outputs": [
    {
     "data": {
      "application/vnd.jupyter.widget-view+json": {
       "model_id": "2b9ee2507f834e4a921cd96ea03b5c77",
       "version_major": 2,
       "version_minor": 0
      },
      "text/plain": [
       "HBox(children=(HTML(value=''), FloatProgress(value=0.0, max=6.0), HTML(value='')))"
      ]
     },
     "metadata": {},
     "output_type": "display_data"
    },
    {
     "data": {
      "application/vnd.jupyter.widget-view+json": {
       "model_id": "687a847a0a5e4552a33d34927c820a7c",
       "version_major": 2,
       "version_minor": 0
      },
      "text/plain": [
       "HBox(children=(HTML(value='earlyG1'), FloatProgress(value=0.0, max=24.0), HTML(value='')))"
      ]
     },
     "metadata": {},
     "output_type": "display_data"
    },
    {
     "name": "stdout",
     "output_type": "stream",
     "text": [
      "\n"
     ]
    },
    {
     "data": {
      "application/vnd.jupyter.widget-view+json": {
       "model_id": "c7ab5cf508204f68949572fe294c8d30",
       "version_major": 2,
       "version_minor": 0
      },
      "text/plain": [
       "HBox(children=(HTML(value='lateG1'), FloatProgress(value=0.0, max=24.0), HTML(value='')))"
      ]
     },
     "metadata": {},
     "output_type": "display_data"
    },
    {
     "name": "stdout",
     "output_type": "stream",
     "text": [
      "\n"
     ]
    },
    {
     "data": {
      "application/vnd.jupyter.widget-view+json": {
       "model_id": "746d70da960c4c11992fed73f95078d4",
       "version_major": 2,
       "version_minor": 0
      },
      "text/plain": [
       "HBox(children=(HTML(value='earlyS'), FloatProgress(value=0.0, max=24.0), HTML(value='')))"
      ]
     },
     "metadata": {},
     "output_type": "display_data"
    },
    {
     "name": "stdout",
     "output_type": "stream",
     "text": [
      "\n"
     ]
    },
    {
     "data": {
      "application/vnd.jupyter.widget-view+json": {
       "model_id": "0f5258c62bbe43728d27431306c58a79",
       "version_major": 2,
       "version_minor": 0
      },
      "text/plain": [
       "HBox(children=(HTML(value='lateS'), FloatProgress(value=0.0, max=24.0), HTML(value='')))"
      ]
     },
     "metadata": {},
     "output_type": "display_data"
    },
    {
     "name": "stdout",
     "output_type": "stream",
     "text": [
      "\n"
     ]
    },
    {
     "data": {
      "application/vnd.jupyter.widget-view+json": {
       "model_id": "3f39bdb44ac0456bad5fab9834ab267c",
       "version_major": 2,
       "version_minor": 0
      },
      "text/plain": [
       "HBox(children=(HTML(value='G2'), FloatProgress(value=0.0, max=24.0), HTML(value='')))"
      ]
     },
     "metadata": {},
     "output_type": "display_data"
    },
    {
     "name": "stdout",
     "output_type": "stream",
     "text": [
      "\n"
     ]
    },
    {
     "data": {
      "application/vnd.jupyter.widget-view+json": {
       "model_id": "c38d61b8775845e78ca83b7c140b8c34",
       "version_major": 2,
       "version_minor": 0
      },
      "text/plain": [
       "HBox(children=(HTML(value='M'), FloatProgress(value=0.0, max=24.0), HTML(value='')))"
      ]
     },
     "metadata": {},
     "output_type": "display_data"
    },
    {
     "name": "stdout",
     "output_type": "stream",
     "text": [
      "\n",
      "\n"
     ]
    }
   ],
   "source": [
    "cuts = {}\n",
    "for phase in tqdm(an_cycle_markers):\n",
    "    cuts[phase] = {code: list_cutsets(an, an_cycle_markers[phase], clock_ids, \n",
    "                                      exclude_initial_state=False)\n",
    "                        for code, an in tqdm(ans.items(), phase)}"
   ]
  },
  {
   "cell_type": "code",
   "execution_count": 16,
   "metadata": {},
   "outputs": [
    {
     "data": {
      "text/plain": [
       "{'earlyG1': 1, 'lateG1': 1, 'earlyS': 1, 'lateS': 1, 'G2': 3, 'M': 5}"
      ]
     },
     "execution_count": 16,
     "metadata": {},
     "output_type": "execute_result"
    }
   ],
   "source": [
    "{phase: len(set(r.values())) for phase, r in cuts.items()}"
   ]
  },
  {
   "cell_type": "code",
   "execution_count": 17,
   "metadata": {},
   "outputs": [
    {
     "name": "stdout",
     "output_type": "stream",
     "text": [
      "Stored 'cycle_cuts' (dict)\n"
     ]
    }
   ],
   "source": [
    "cycle_cuts = cuts\n",
    "%store cycle_cuts"
   ]
  },
  {
   "cell_type": "code",
   "execution_count": 18,
   "metadata": {},
   "outputs": [],
   "source": [
    "def summary(spec):\n",
    "    (a,i) = spec\n",
    "    name = a.split(\"#\")[0].split('(')[-1].split(']')[-1]\n",
    "    mut = \"absent\" if i == 0 else \"present\"\n",
    "    return (name, mut)\n",
    "\n",
    "def reindex(results):\n",
    "    imutations = {}\n",
    "    for phase, mut in results.items():\n",
    "        imutations[phase] = {}\n",
    "        for code, value in mut.items():\n",
    "            value = frozenset([summary(m) for m in value])\n",
    "            if value not in imutations[phase]:\n",
    "                imutations[phase][value] = {code}\n",
    "            else:\n",
    "                imutations[phase][value].add(code)\n",
    "    return imutations"
   ]
  },
  {
   "cell_type": "code",
   "execution_count": 19,
   "metadata": {
    "scrolled": false
   },
   "outputs": [
    {
     "data": {
      "text/plain": [
       "{'earlyG1': {frozenset({('HSP90', 'present')}): {'1111',\n",
       "   '1112',\n",
       "   '1121',\n",
       "   '1122',\n",
       "   '1211',\n",
       "   '1212',\n",
       "   '1221',\n",
       "   '1222',\n",
       "   '2111',\n",
       "   '2112',\n",
       "   '2121',\n",
       "   '2122',\n",
       "   '2211',\n",
       "   '2212',\n",
       "   '2221',\n",
       "   '2222',\n",
       "   '3111',\n",
       "   '3112',\n",
       "   '3121',\n",
       "   '3122',\n",
       "   '3211',\n",
       "   '3212',\n",
       "   '3221',\n",
       "   '3222'}},\n",
       " 'lateG1': {frozenset({('HSP90', 'present')}): {'1111',\n",
       "   '1112',\n",
       "   '1121',\n",
       "   '1122',\n",
       "   '1211',\n",
       "   '1212',\n",
       "   '1221',\n",
       "   '1222',\n",
       "   '2111',\n",
       "   '2112',\n",
       "   '2121',\n",
       "   '2122',\n",
       "   '2211',\n",
       "   '2212',\n",
       "   '2221',\n",
       "   '2222',\n",
       "   '3111',\n",
       "   '3112',\n",
       "   '3121',\n",
       "   '3122',\n",
       "   '3211',\n",
       "   '3212',\n",
       "   '3221',\n",
       "   '3222'}},\n",
       " 'earlyS': {frozenset(): {'1111',\n",
       "   '1112',\n",
       "   '1121',\n",
       "   '1122',\n",
       "   '1211',\n",
       "   '1212',\n",
       "   '1221',\n",
       "   '1222',\n",
       "   '2111',\n",
       "   '2112',\n",
       "   '2121',\n",
       "   '2122',\n",
       "   '2211',\n",
       "   '2212',\n",
       "   '2221',\n",
       "   '2222',\n",
       "   '3111',\n",
       "   '3112',\n",
       "   '3121',\n",
       "   '3122',\n",
       "   '3211',\n",
       "   '3212',\n",
       "   '3221',\n",
       "   '3222'}},\n",
       " 'lateS': {frozenset({('HSP90', 'present')}): {'1111',\n",
       "   '1112',\n",
       "   '1121',\n",
       "   '1122',\n",
       "   '1211',\n",
       "   '1212',\n",
       "   '1221',\n",
       "   '1222',\n",
       "   '2111',\n",
       "   '2112',\n",
       "   '2121',\n",
       "   '2122',\n",
       "   '2211',\n",
       "   '2212',\n",
       "   '2221',\n",
       "   '2222',\n",
       "   '3111',\n",
       "   '3112',\n",
       "   '3121',\n",
       "   '3122',\n",
       "   '3211',\n",
       "   '3212',\n",
       "   '3221',\n",
       "   '3222'}},\n",
       " 'G2': {frozenset({('ARNTL', 'present'),\n",
       "             ('ARNTL/CLOCK', 'present'),\n",
       "             ('ARNTL/CLOCK/CSNK2A', 'present'),\n",
       "             ('ARNTL/CSNK2A', 'present'),\n",
       "             ('Bmal1', 'present'),\n",
       "             ('CLOCK', 'present'),\n",
       "             ('CRY1', 'present'),\n",
       "             ('CRY2', 'present'),\n",
       "             ('CSNK1D', 'present'),\n",
       "             ('CSNK1E', 'present'),\n",
       "             ('CSNK2A', 'present'),\n",
       "             ('Clock', 'present'),\n",
       "             ('Cry1', 'present'),\n",
       "             ('Cry2', 'present'),\n",
       "             ('DYRK1A', 'present'),\n",
       "             ('FBXL3', 'present'),\n",
       "             ('HAUSP', 'present'),\n",
       "             ('MIZ1', 'present'),\n",
       "             ('MYC/MIZ1', 'absent'),\n",
       "             ('NAD+', 'present'),\n",
       "             ('NMN', 'present'),\n",
       "             ('NMNAT', 'present'),\n",
       "             ('NR1D1', 'absent'),\n",
       "             ('PARP1', 'present'),\n",
       "             ('PER', 'present'),\n",
       "             ('PER/CRY/CSNK1', 'present'),\n",
       "             ('PER/CRY/CSNK1/CLOCK/ARNTL', 'absent'),\n",
       "             ('PER/CRY/CSNK1/CLOCK/ARNTL', 'present'),\n",
       "             ('PER/CRY/CSNK1D', 'present'),\n",
       "             ('PER/CRY1', 'present'),\n",
       "             ('PER1', 'present'),\n",
       "             ('PER2', 'present'),\n",
       "             ('PRKA', 'present'),\n",
       "             ('Per1', 'present'),\n",
       "             ('Per2', 'present'),\n",
       "             ('RORG', 'present'),\n",
       "             ('Rorc', 'present'),\n",
       "             ('SIRT1', 'present'),\n",
       "             ('USP2', 'present'),\n",
       "             ('WEE1', 'present'),\n",
       "             ('Wee1', 'present'),\n",
       "             ('βTRCP', 'present')}): {'3111',\n",
       "   '3112',\n",
       "   '3121',\n",
       "   '3122',\n",
       "   '3211',\n",
       "   '3212',\n",
       "   '3221',\n",
       "   '3222'},\n",
       "  frozenset({('ARNTL', 'present'),\n",
       "             ('ARNTL/CLOCK', 'present'),\n",
       "             ('ARNTL/CLOCK/CSNK2A', 'present'),\n",
       "             ('ARNTL/CSNK2A', 'present'),\n",
       "             ('Bmal1', 'present'),\n",
       "             ('CLOCK', 'present'),\n",
       "             ('CRY1', 'present'),\n",
       "             ('CRY2', 'present'),\n",
       "             ('CSNK1D', 'present'),\n",
       "             ('CSNK1E', 'present'),\n",
       "             ('CSNK2A', 'present'),\n",
       "             ('Clock', 'present'),\n",
       "             ('Cry1', 'present'),\n",
       "             ('Cry2', 'present'),\n",
       "             ('DYRK1A', 'present'),\n",
       "             ('FBXL3', 'present'),\n",
       "             ('HAUSP', 'present'),\n",
       "             ('MIZ1', 'present'),\n",
       "             ('MYC/MIZ1', 'absent'),\n",
       "             ('NAD+', 'present'),\n",
       "             ('NR1D1', 'absent'),\n",
       "             ('PARP1', 'present'),\n",
       "             ('PER', 'present'),\n",
       "             ('PER/CRY/CSNK1', 'present'),\n",
       "             ('PER/CRY/CSNK1/CLOCK/ARNTL', 'absent'),\n",
       "             ('PER/CRY/CSNK1/CLOCK/ARNTL', 'present'),\n",
       "             ('PER/CRY/CSNK1D', 'present'),\n",
       "             ('PER/CRY1', 'present'),\n",
       "             ('PER1', 'present'),\n",
       "             ('PER2', 'present'),\n",
       "             ('PRKA', 'present'),\n",
       "             ('Per1', 'present'),\n",
       "             ('Per2', 'present'),\n",
       "             ('RORG', 'present'),\n",
       "             ('Rorc', 'present'),\n",
       "             ('SIRT1', 'present'),\n",
       "             ('USP2', 'present'),\n",
       "             ('WEE1', 'present'),\n",
       "             ('Wee1', 'present'),\n",
       "             ('βTRCP', 'present')}): {'1111',\n",
       "   '1112',\n",
       "   '1121',\n",
       "   '1122',\n",
       "   '1211',\n",
       "   '1212',\n",
       "   '1221',\n",
       "   '1222'},\n",
       "  frozenset(): {'2111',\n",
       "   '2112',\n",
       "   '2121',\n",
       "   '2122',\n",
       "   '2211',\n",
       "   '2212',\n",
       "   '2221',\n",
       "   '2222'}},\n",
       " 'M': {frozenset({('ARNTL', 'present'),\n",
       "             ('ARNTL/CLOCK', 'present'),\n",
       "             ('ARNTL/CLOCK/CSNK2A', 'present'),\n",
       "             ('ARNTL/CSNK2A', 'present'),\n",
       "             ('Bmal1', 'present'),\n",
       "             ('CCNB1/CDK1', 'present'),\n",
       "             ('CLOCK', 'present'),\n",
       "             ('CRY1', 'present'),\n",
       "             ('CRY2', 'present'),\n",
       "             ('CSNK1D', 'present'),\n",
       "             ('CSNK1E', 'present'),\n",
       "             ('CSNK2A', 'present'),\n",
       "             ('Clock', 'present'),\n",
       "             ('Cry1', 'present'),\n",
       "             ('Cry2', 'present'),\n",
       "             ('DYRK1A', 'present'),\n",
       "             ('FBXL3', 'present'),\n",
       "             ('HAUSP', 'present'),\n",
       "             ('MIZ1', 'present'),\n",
       "             ('MYC/MIZ1', 'absent'),\n",
       "             ('NAD+', 'present'),\n",
       "             ('NMN', 'present'),\n",
       "             ('NMNAT', 'present'),\n",
       "             ('NR1D1', 'absent'),\n",
       "             ('PARP1', 'present'),\n",
       "             ('PER', 'present'),\n",
       "             ('PER/CRY/CSNK1', 'present'),\n",
       "             ('PER/CRY/CSNK1/CLOCK', 'present'),\n",
       "             ('PER/CRY/CSNK1/CLOCK/ARNTL', 'absent'),\n",
       "             ('PER/CRY/CSNK1/CLOCK/ARNTL', 'present'),\n",
       "             ('PER/CRY/CSNK1D', 'present'),\n",
       "             ('PER/CRY1', 'present'),\n",
       "             ('PER1', 'present'),\n",
       "             ('PER2', 'present'),\n",
       "             ('PER2/TP53', 'present'),\n",
       "             ('PRKA', 'present'),\n",
       "             ('Per1', 'present'),\n",
       "             ('Per2', 'present'),\n",
       "             ('RORG', 'present'),\n",
       "             ('Rorc', 'present'),\n",
       "             ('SIRT1', 'present'),\n",
       "             ('TP53', 'present'),\n",
       "             ('USP2', 'present'),\n",
       "             ('WEE1', 'present'),\n",
       "             ('Wee1', 'present'),\n",
       "             ('βTRCP', 'present')}): {'3111', '3121', '3211', '3221'},\n",
       "  frozenset({('ARNTL', 'present'),\n",
       "             ('ARNTL/CLOCK', 'present'),\n",
       "             ('ARNTL/CLOCK/CSNK2A', 'present'),\n",
       "             ('ARNTL/CSNK2A', 'present'),\n",
       "             ('Bmal1', 'present'),\n",
       "             ('CCNB1/CDK1', 'present'),\n",
       "             ('CLOCK', 'present'),\n",
       "             ('CRY1', 'present'),\n",
       "             ('CRY2', 'present'),\n",
       "             ('CSNK1D', 'present'),\n",
       "             ('CSNK1E', 'present'),\n",
       "             ('CSNK2A', 'present'),\n",
       "             ('Clock', 'present'),\n",
       "             ('Cry1', 'present'),\n",
       "             ('Cry2', 'present'),\n",
       "             ('DYRK1A', 'present'),\n",
       "             ('FBXL3', 'present'),\n",
       "             ('HAUSP', 'present'),\n",
       "             ('MIZ1', 'present'),\n",
       "             ('MYC/MIZ1', 'absent'),\n",
       "             ('NAD+', 'present'),\n",
       "             ('NR1D1', 'absent'),\n",
       "             ('PARP1', 'present'),\n",
       "             ('PER', 'present'),\n",
       "             ('PER/CRY/CSNK1', 'present'),\n",
       "             ('PER/CRY/CSNK1/CLOCK', 'present'),\n",
       "             ('PER/CRY/CSNK1/CLOCK/ARNTL', 'absent'),\n",
       "             ('PER/CRY/CSNK1/CLOCK/ARNTL', 'present'),\n",
       "             ('PER/CRY/CSNK1D', 'present'),\n",
       "             ('PER/CRY1', 'present'),\n",
       "             ('PER1', 'present'),\n",
       "             ('PER2', 'present'),\n",
       "             ('PER2/TP53', 'present'),\n",
       "             ('PRKA', 'present'),\n",
       "             ('Per1', 'present'),\n",
       "             ('Per2', 'present'),\n",
       "             ('RORG', 'present'),\n",
       "             ('Rorc', 'present'),\n",
       "             ('SIRT1', 'present'),\n",
       "             ('TP53', 'present'),\n",
       "             ('USP2', 'present'),\n",
       "             ('WEE1', 'present'),\n",
       "             ('Wee1', 'present'),\n",
       "             ('βTRCP', 'present')}): {'1111', '1121', '1211', '1221'},\n",
       "  frozenset({('ARNTL', 'present'),\n",
       "             ('ARNTL/CLOCK', 'present'),\n",
       "             ('ARNTL/CLOCK/CSNK2A', 'present'),\n",
       "             ('ARNTL/CSNK2A', 'present'),\n",
       "             ('Bmal1', 'present'),\n",
       "             ('CCNB1/CDK1', 'present'),\n",
       "             ('CLOCK', 'present'),\n",
       "             ('CRY1', 'present'),\n",
       "             ('CRY2', 'present'),\n",
       "             ('CSNK1D', 'present'),\n",
       "             ('CSNK1E', 'present'),\n",
       "             ('CSNK2A', 'present'),\n",
       "             ('Clock', 'present'),\n",
       "             ('Cry1', 'present'),\n",
       "             ('Cry2', 'present'),\n",
       "             ('DYRK1A', 'present'),\n",
       "             ('FBXL3', 'present'),\n",
       "             ('HAUSP', 'present'),\n",
       "             ('MDM2', 'present'),\n",
       "             ('MIZ1', 'present'),\n",
       "             ('MYC/MIZ1', 'absent'),\n",
       "             ('NAD+', 'present'),\n",
       "             ('NMN', 'present'),\n",
       "             ('NMNAT', 'present'),\n",
       "             ('NR1D1', 'absent'),\n",
       "             ('PARP1', 'present'),\n",
       "             ('PER', 'present'),\n",
       "             ('PER/CRY/CSNK1', 'present'),\n",
       "             ('PER/CRY/CSNK1/CLOCK', 'present'),\n",
       "             ('PER/CRY/CSNK1/CLOCK/ARNTL', 'absent'),\n",
       "             ('PER/CRY/CSNK1/CLOCK/ARNTL', 'present'),\n",
       "             ('PER/CRY/CSNK1D', 'present'),\n",
       "             ('PER/CRY1', 'present'),\n",
       "             ('PER1', 'present'),\n",
       "             ('PER2', 'present'),\n",
       "             ('PER2/TP53', 'present'),\n",
       "             ('PRKA', 'present'),\n",
       "             ('Per1', 'present'),\n",
       "             ('Per2', 'present'),\n",
       "             ('RORG', 'present'),\n",
       "             ('Rorc', 'present'),\n",
       "             ('SIRT1', 'present'),\n",
       "             ('TP53', 'present'),\n",
       "             ('USP2', 'present'),\n",
       "             ('WEE1', 'present'),\n",
       "             ('Wee1', 'present'),\n",
       "             ('βTRCP', 'present')}): {'3112', '3122', '3212', '3222'},\n",
       "  frozenset({('ARNTL', 'present'),\n",
       "             ('ARNTL/CLOCK', 'present'),\n",
       "             ('ARNTL/CLOCK/CSNK2A', 'present'),\n",
       "             ('ARNTL/CSNK2A', 'present'),\n",
       "             ('Bmal1', 'present'),\n",
       "             ('CCNB1/CDK1', 'present'),\n",
       "             ('CLOCK', 'present'),\n",
       "             ('CRY1', 'present'),\n",
       "             ('CRY2', 'present'),\n",
       "             ('CSNK1D', 'present'),\n",
       "             ('CSNK1E', 'present'),\n",
       "             ('CSNK2A', 'present'),\n",
       "             ('Clock', 'present'),\n",
       "             ('Cry1', 'present'),\n",
       "             ('Cry2', 'present'),\n",
       "             ('DYRK1A', 'present'),\n",
       "             ('FBXL3', 'present'),\n",
       "             ('HAUSP', 'present'),\n",
       "             ('MDM2', 'present'),\n",
       "             ('MIZ1', 'present'),\n",
       "             ('MYC/MIZ1', 'absent'),\n",
       "             ('NAD+', 'present'),\n",
       "             ('NR1D1', 'absent'),\n",
       "             ('PARP1', 'present'),\n",
       "             ('PER', 'present'),\n",
       "             ('PER/CRY/CSNK1', 'present'),\n",
       "             ('PER/CRY/CSNK1/CLOCK', 'present'),\n",
       "             ('PER/CRY/CSNK1/CLOCK/ARNTL', 'absent'),\n",
       "             ('PER/CRY/CSNK1/CLOCK/ARNTL', 'present'),\n",
       "             ('PER/CRY/CSNK1D', 'present'),\n",
       "             ('PER/CRY1', 'present'),\n",
       "             ('PER1', 'present'),\n",
       "             ('PER2', 'present'),\n",
       "             ('PER2/TP53', 'present'),\n",
       "             ('PRKA', 'present'),\n",
       "             ('Per1', 'present'),\n",
       "             ('Per2', 'present'),\n",
       "             ('RORG', 'present'),\n",
       "             ('Rorc', 'present'),\n",
       "             ('SIRT1', 'present'),\n",
       "             ('TP53', 'present'),\n",
       "             ('USP2', 'present'),\n",
       "             ('WEE1', 'present'),\n",
       "             ('Wee1', 'present'),\n",
       "             ('βTRCP', 'present')}): {'1112', '1122', '1212', '1222'},\n",
       "  frozenset(): {'2111',\n",
       "   '2112',\n",
       "   '2121',\n",
       "   '2122',\n",
       "   '2211',\n",
       "   '2212',\n",
       "   '2221',\n",
       "   '2222'}}}"
      ]
     },
     "execution_count": 19,
     "metadata": {},
     "output_type": "execute_result"
    }
   ],
   "source": [
    "reindex(cycle_cuts)"
   ]
  },
  {
   "cell_type": "markdown",
   "metadata": {},
   "source": [
    "## CLOCK markers"
   ]
  },
  {
   "cell_type": "code",
   "execution_count": 20,
   "metadata": {},
   "outputs": [
    {
     "data": {
      "application/vnd.jupyter.widget-view+json": {
       "model_id": "65e476d832b944e7acaff7073932382e",
       "version_major": 2,
       "version_minor": 0
      },
      "text/plain": [
       "HBox(children=(HTML(value=''), FloatProgress(value=0.0, max=4.0), HTML(value='')))"
      ]
     },
     "metadata": {},
     "output_type": "display_data"
    },
    {
     "data": {
      "application/vnd.jupyter.widget-view+json": {
       "model_id": "d84aed8e1aed4946bc5c39d145ebd380",
       "version_major": 2,
       "version_minor": 0
      },
      "text/plain": [
       "HBox(children=(HTML(value='RORG'), FloatProgress(value=0.0, max=24.0), HTML(value='')))"
      ]
     },
     "metadata": {},
     "output_type": "display_data"
    },
    {
     "name": "stdout",
     "output_type": "stream",
     "text": [
      "\n"
     ]
    },
    {
     "data": {
      "application/vnd.jupyter.widget-view+json": {
       "model_id": "2d416eb1ef3f40b99280e5401a3e1d64",
       "version_major": 2,
       "version_minor": 0
      },
      "text/plain": [
       "HBox(children=(HTML(value='SIRT1'), FloatProgress(value=0.0, max=24.0), HTML(value='')))"
      ]
     },
     "metadata": {},
     "output_type": "display_data"
    },
    {
     "name": "stdout",
     "output_type": "stream",
     "text": [
      "\n"
     ]
    },
    {
     "data": {
      "application/vnd.jupyter.widget-view+json": {
       "model_id": "10be15ae95c64d90b3ffb29b4a28e49e",
       "version_major": 2,
       "version_minor": 0
      },
      "text/plain": [
       "HBox(children=(HTML(value='ARNTL-CLOCK'), FloatProgress(value=0.0, max=24.0), HTML(value='')))"
      ]
     },
     "metadata": {},
     "output_type": "display_data"
    },
    {
     "name": "stdout",
     "output_type": "stream",
     "text": [
      "\n"
     ]
    },
    {
     "data": {
      "application/vnd.jupyter.widget-view+json": {
       "model_id": "0cfd987b276d47199eea0d4fb719ea88",
       "version_major": 2,
       "version_minor": 0
      },
      "text/plain": [
       "HBox(children=(HTML(value='PER-CRY'), FloatProgress(value=0.0, max=24.0), HTML(value='')))"
      ]
     },
     "metadata": {},
     "output_type": "display_data"
    },
    {
     "name": "stdout",
     "output_type": "stream",
     "text": [
      "\n",
      "\n"
     ]
    }
   ],
   "source": [
    "cuts = {}\n",
    "for phase in tqdm(an_clock_markers):\n",
    "    cuts[phase] = {code: list_cutsets(an, an_clock_markers[phase], cycle_ids, \n",
    "                                      exclude_initial_state=False)\n",
    "                        for code, an in tqdm(ans.items(), phase)}"
   ]
  },
  {
   "cell_type": "code",
   "execution_count": 21,
   "metadata": {},
   "outputs": [
    {
     "data": {
      "text/plain": [
       "{'RORG': 3, 'SIRT1': 1, 'ARNTL-CLOCK': 3, 'PER-CRY': 3}"
      ]
     },
     "execution_count": 21,
     "metadata": {},
     "output_type": "execute_result"
    }
   ],
   "source": [
    "{phase: len(set(r.values())) for phase, r in cuts.items()}"
   ]
  },
  {
   "cell_type": "code",
   "execution_count": 22,
   "metadata": {},
   "outputs": [
    {
     "name": "stdout",
     "output_type": "stream",
     "text": [
      "Stored 'clock_cuts' (dict)\n"
     ]
    }
   ],
   "source": [
    "clock_cuts = cuts\n",
    "%store clock_cuts"
   ]
  },
  {
   "cell_type": "code",
   "execution_count": 23,
   "metadata": {
    "scrolled": false
   },
   "outputs": [
    {
     "data": {
      "text/plain": [
       "{'RORG': {frozenset({('TP53', 'present')}): {'1111',\n",
       "   '1121',\n",
       "   '1211',\n",
       "   '1221',\n",
       "   '3111',\n",
       "   '3121',\n",
       "   '3211',\n",
       "   '3221'},\n",
       "  frozenset({('MDM2', 'present'), ('TP53', 'present')}): {'1112',\n",
       "   '1122',\n",
       "   '1212',\n",
       "   '1222',\n",
       "   '3112',\n",
       "   '3122',\n",
       "   '3212',\n",
       "   '3222'},\n",
       "  frozenset(): {'2111',\n",
       "   '2112',\n",
       "   '2121',\n",
       "   '2122',\n",
       "   '2211',\n",
       "   '2212',\n",
       "   '2221',\n",
       "   '2222'}},\n",
       " 'SIRT1': {frozenset(): {'1111',\n",
       "   '1112',\n",
       "   '1121',\n",
       "   '1122',\n",
       "   '1211',\n",
       "   '1212',\n",
       "   '1221',\n",
       "   '1222',\n",
       "   '2111',\n",
       "   '2112',\n",
       "   '2121',\n",
       "   '2122',\n",
       "   '2211',\n",
       "   '2212',\n",
       "   '2221',\n",
       "   '2222',\n",
       "   '3111',\n",
       "   '3112',\n",
       "   '3121',\n",
       "   '3122',\n",
       "   '3211',\n",
       "   '3212',\n",
       "   '3221',\n",
       "   '3222'}},\n",
       " 'ARNTL-CLOCK': {frozenset({('TP53', 'present')}): {'1111',\n",
       "   '1121',\n",
       "   '1211',\n",
       "   '1221',\n",
       "   '3111',\n",
       "   '3121',\n",
       "   '3211',\n",
       "   '3221'},\n",
       "  frozenset({('MDM2', 'present'), ('TP53', 'present')}): {'1112',\n",
       "   '1122',\n",
       "   '1212',\n",
       "   '1222',\n",
       "   '3112',\n",
       "   '3122',\n",
       "   '3212',\n",
       "   '3222'},\n",
       "  frozenset(): {'2111',\n",
       "   '2112',\n",
       "   '2121',\n",
       "   '2122',\n",
       "   '2211',\n",
       "   '2212',\n",
       "   '2221',\n",
       "   '2222'}},\n",
       " 'PER-CRY': {frozenset({('TP53', 'present')}): {'1111',\n",
       "   '1121',\n",
       "   '1211',\n",
       "   '1221',\n",
       "   '3111',\n",
       "   '3121',\n",
       "   '3211',\n",
       "   '3221'},\n",
       "  frozenset({('MDM2', 'present'), ('TP53', 'present')}): {'1112',\n",
       "   '1122',\n",
       "   '1212',\n",
       "   '1222',\n",
       "   '3112',\n",
       "   '3122',\n",
       "   '3212',\n",
       "   '3222'},\n",
       "  frozenset(): {'2111',\n",
       "   '2112',\n",
       "   '2121',\n",
       "   '2122',\n",
       "   '2211',\n",
       "   '2212',\n",
       "   '2221',\n",
       "   '2222'}}}"
      ]
     },
     "execution_count": 23,
     "metadata": {},
     "output_type": "execute_result"
    }
   ],
   "source": [
    "reindex(clock_cuts)"
   ]
  },
  {
   "cell_type": "code",
   "execution_count": null,
   "metadata": {},
   "outputs": [],
   "source": []
  }
 ],
 "metadata": {
  "kernelspec": {
   "display_name": "Python 3",
   "language": "python",
   "name": "python3"
  },
  "language_info": {
   "codemirror_mode": {
    "name": "ipython",
    "version": 3
   },
   "file_extension": ".py",
   "mimetype": "text/x-python",
   "name": "python",
   "nbconvert_exporter": "python",
   "pygments_lexer": "ipython3",
   "version": "3.9.1"
  }
 },
 "nbformat": 4,
 "nbformat_minor": 4
}
