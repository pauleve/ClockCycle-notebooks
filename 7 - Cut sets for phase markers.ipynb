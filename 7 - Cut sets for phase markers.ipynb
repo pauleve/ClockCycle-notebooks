{
 "cells": [
  {
   "cell_type": "code",
   "execution_count": null,
   "metadata": {},
   "outputs": [],
   "source": [
    "from functools import reduce\n",
    "import csbgnpy.pd.io.sbgnml\n",
    "import pypint\n",
    "import multiprocessing\n",
    "from IPython.display import display\n",
    "import networkx as nx\n",
    "from tqdm.notebook import tqdm"
   ]
  },
  {
   "cell_type": "markdown",
   "metadata": {},
   "source": [
    "## Merged map\n",
    "\n",
    "From [1 - Merge CYCLE and CLOCK](1%20-%20Merge%20CYCLE%20and%20CLOCK.ipynb)"
   ]
  },
  {
   "cell_type": "code",
   "execution_count": null,
   "metadata": {},
   "outputs": [],
   "source": [
    "merge_file = \"generated/MERGE.sbgnml\"\n",
    "merge = csbgnpy.pd.io.sbgnml.read(merge_file)"
   ]
  },
  {
   "cell_type": "code",
   "execution_count": null,
   "metadata": {},
   "outputs": [],
   "source": [
    "clock = csbgnpy.pd.io.sbgnml.read(\"generated/CLOCK.sbgnml\")\n",
    "cycle = csbgnpy.pd.io.sbgnml.read(\"generated/CYCLE.sbgnml\")\n",
    "clock_ids = set([e.id for e in clock.entities])# + [p.id for p in clock.processes])\n",
    "cycle_ids = set([e.id for e in cycle.entities])# + [p.id for p in cycle.processes])\n",
    "clock_only = clock_ids - cycle_ids\n",
    "cycle_only = cycle_ids - clock_ids"
   ]
  },
  {
   "cell_type": "markdown",
   "metadata": {},
   "source": [
    "## Markers\n",
    "\n",
    "From [2 - Markers.ipynb](2%20-%20Markers.ipynb):"
   ]
  },
  {
   "cell_type": "code",
   "execution_count": null,
   "metadata": {},
   "outputs": [],
   "source": [
    "%store -r cycle_markers\n",
    "%store -r clock_markers"
   ]
  },
  {
   "cell_type": "markdown",
   "metadata": {},
   "source": [
    "## Initial state\n",
    "\n",
    "From [3 - Initial state](3%20-%20Initial%20state.ipynb)"
   ]
  },
  {
   "cell_type": "code",
   "execution_count": null,
   "metadata": {},
   "outputs": [],
   "source": [
    "%store -r inis"
   ]
  },
  {
   "cell_type": "markdown",
   "metadata": {},
   "source": [
    "To ids:"
   ]
  },
  {
   "cell_type": "code",
   "execution_count": null,
   "metadata": {},
   "outputs": [],
   "source": [
    "inis = {code: [e.id for e in ini] for code, ini in inis.items()}"
   ]
  },
  {
   "cell_type": "markdown",
   "metadata": {},
   "source": [
    "### Conversion to internal identifiers"
   ]
  },
  {
   "cell_type": "code",
   "execution_count": null,
   "metadata": {},
   "outputs": [],
   "source": [
    "def get_map(a):\n",
    "    if a in clock_only:\n",
    "        return \"CLOCK\"\n",
    "    if a in cycle_only:\n",
    "        return \"CYCLE\"\n",
    "    return \"MERGE\"\n",
    "def pretty_node(a):\n",
    "    if a.startswith(\"epn_\"):\n",
    "        e = merge.get_entity(a, by_id=True)\n",
    "    else:\n",
    "        e = merge.get_process(a, by_id=True)\n",
    "    return \"{}::{}\".format(get_map(a), str(e))\n",
    "def get_entity_id(spec):\n",
    "    e = merge.get_entity(spec, by_string=True)\n",
    "    if not e:\n",
    "        raise Exception(f\"No entity found for '{spec}'\")\n",
    "    return e.id"
   ]
  },
  {
   "cell_type": "code",
   "execution_count": null,
   "metadata": {
    "scrolled": true
   },
   "outputs": [],
   "source": [
    "an_cycle_markers = dict([(p, [(get_entity_id(m),1) for m in ms]) \\\n",
    "                         for p,ms in cycle_markers.items()])\n",
    "an_clock_markers = dict([(p, [(get_entity_id(m),1) for m in ms]) \\\n",
    "                         for p,ms in clock_markers.items()])"
   ]
  },
  {
   "cell_type": "code",
   "execution_count": null,
   "metadata": {},
   "outputs": [],
   "source": [
    "def pretty_mutations(m):\n",
    "    return dict([(pretty_node(a), i) for (a,i) in sorted(m.items())])\n",
    "\n",
    "def has_proc(m):\n",
    "    for e in m:\n",
    "        if e.startswith(\"proc_\"):\n",
    "            return True\n",
    "    return False\n",
    "\n",
    "def unpretty_node(a):\n",
    "    name = \"::\".join(a.split(\"::\")[1:])\n",
    "    entity = merge.get_entity(name, by_string=True)\n",
    "    return entity.id\n",
    "\n",
    "def unpretty_mutations(m):\n",
    "    return dict([(unpretty_node(a), i) for (a,i) in m.items()])"
   ]
  },
  {
   "cell_type": "code",
   "execution_count": null,
   "metadata": {},
   "outputs": [],
   "source": [
    "def oneshot_mutations_for_cut(an, markers, **kwargs):\n",
    "    ms = []\n",
    "    for marker in markers:\n",
    "        ms += an.oneshot_mutations_for_cut(marker, **kwargs)\n",
    "    return ms"
   ]
  },
  {
   "cell_type": "code",
   "execution_count": null,
   "metadata": {},
   "outputs": [],
   "source": [
    "def check_mutation_for_cut(an, markers, locks):\n",
    "    for marker in markers:\n",
    "        wt_reach = an.reachability(marker)\n",
    "        mu_reach = an.lock(locks).reachability(marker)\n",
    "        if wt_reach and not mu_reach:\n",
    "            print(\"mutation is cutting {}\".format(pretty_node(marker[0])))"
   ]
  },
  {
   "cell_type": "code",
   "execution_count": null,
   "metadata": {},
   "outputs": [],
   "source": [
    "def list_interesting(ms, interest):\n",
    "    i2m = {}\n",
    "    for mi, m in enumerate(ms):\n",
    "        li = [(a,i) for (a,i) in m.items() if a in interest]\n",
    "        arity = len(m)\n",
    "        for (a,i) in li:\n",
    "            a = pretty_node(a)\n",
    "            if (a,i) not in i2m:\n",
    "                i2m[(a,i)] = set()\n",
    "            i2m[(a,i)].add(arity)\n",
    "            #if arity not in i2m[(a,i)]:\n",
    "            #    i2m[(a,i)][arity] = []\n",
    "            #i2m[(a,i)][arity].append(mi)\n",
    "    si2m = {}\n",
    "    for k, v in sorted(i2m.items()):\n",
    "        si2m[k] = v\n",
    "    return si2m"
   ]
  },
  {
   "cell_type": "code",
   "execution_count": null,
   "metadata": {},
   "outputs": [],
   "source": [
    "ans = {code: pypint.load(merge_file, initial_state=ini)\n",
    "           for code, ini in tqdm(inis.items())}"
   ]
  },
  {
   "cell_type": "code",
   "execution_count": null,
   "metadata": {},
   "outputs": [],
   "source": [
    "def list_cutsets(an, markers, scope, **opts):\n",
    "    ms = an.cutsets(markers, quiet=True, **opts)\n",
    "    return frozenset(list_interesting(ms, scope).keys())"
   ]
  },
  {
   "cell_type": "markdown",
   "metadata": {},
   "source": [
    "## CYCLE cut sets"
   ]
  },
  {
   "cell_type": "code",
   "execution_count": null,
   "metadata": {},
   "outputs": [],
   "source": [
    "cuts = {}\n",
    "for phase in tqdm(an_cycle_markers):\n",
    "    cuts[phase] = {code: list_cutsets(an, an_cycle_markers[phase], clock_ids, \n",
    "                                      exclude_initial_state=False)\n",
    "                        for code, an in tqdm(ans.items(), phase)}"
   ]
  },
  {
   "cell_type": "code",
   "execution_count": null,
   "metadata": {},
   "outputs": [],
   "source": [
    "{phase: len(set(r.values())) for phase, r in cuts.items()}"
   ]
  },
  {
   "cell_type": "code",
   "execution_count": null,
   "metadata": {},
   "outputs": [],
   "source": [
    "cycle_cuts = cuts\n",
    "%store cycle_cuts"
   ]
  },
  {
   "cell_type": "code",
   "execution_count": null,
   "metadata": {},
   "outputs": [],
   "source": [
    "def summary(spec):\n",
    "    (a,i) = spec\n",
    "    name = a.split(\"#\")[0].split('(')[-1].split(']')[-1]\n",
    "    mut = \"absent\" if i == 0 else \"present\"\n",
    "    return (name, mut)\n",
    "\n",
    "def reindex(results):\n",
    "    imutations = {}\n",
    "    for phase, mut in results.items():\n",
    "        imutations[phase] = {}\n",
    "        for code, value in mut.items():\n",
    "            value = frozenset([summary(m) for m in value])\n",
    "            if value not in imutations[phase]:\n",
    "                imutations[phase][value] = {code}\n",
    "            else:\n",
    "                imutations[phase][value].add(code)\n",
    "    return imutations"
   ]
  },
  {
   "cell_type": "code",
   "execution_count": null,
   "metadata": {},
   "outputs": [],
   "source": [
    "reindex(cycle_cuts)"
   ]
  },
  {
   "cell_type": "markdown",
   "metadata": {},
   "source": [
    "## CLOCK markers"
   ]
  },
  {
   "cell_type": "code",
   "execution_count": null,
   "metadata": {},
   "outputs": [],
   "source": [
    "cuts = {}\n",
    "for phase in tqdm(an_clock_markers):\n",
    "    cuts[phase] = {code: list_cutsets(an, an_clock_markers[phase], cycle_ids, \n",
    "                                      exclude_initial_state=False)\n",
    "                        for code, an in tqdm(ans.items(), phase)}"
   ]
  },
  {
   "cell_type": "code",
   "execution_count": null,
   "metadata": {},
   "outputs": [],
   "source": [
    "{phase: len(set(r.values())) for phase, r in cuts.items()}"
   ]
  },
  {
   "cell_type": "code",
   "execution_count": null,
   "metadata": {},
   "outputs": [],
   "source": [
    "clock_cuts = cuts\n",
    "%store clock_cuts"
   ]
  },
  {
   "cell_type": "code",
   "execution_count": null,
   "metadata": {
    "scrolled": false
   },
   "outputs": [],
   "source": [
    "reindex(clock_cuts)"
   ]
  },
  {
   "cell_type": "code",
   "execution_count": null,
   "metadata": {},
   "outputs": [],
   "source": []
  }
 ],
 "metadata": {
  "kernelspec": {
   "display_name": "Python 3",
   "language": "python",
   "name": "python3"
  },
  "language_info": {
   "codemirror_mode": {
    "name": "ipython",
    "version": 3
   },
   "file_extension": ".py",
   "mimetype": "text/x-python",
   "name": "python",
   "nbconvert_exporter": "python",
   "pygments_lexer": "ipython3",
   "version": "3.9.2"
  }
 },
 "nbformat": 4,
 "nbformat_minor": 4
}
