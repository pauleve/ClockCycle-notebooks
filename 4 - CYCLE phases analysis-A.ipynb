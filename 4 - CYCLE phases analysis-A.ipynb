{
 "cells": [
  {
   "cell_type": "code",
   "execution_count": 1,
   "metadata": {
    "scrolled": true
   },
   "outputs": [],
   "source": [
    "from IPython.display import HTML, display\n",
    "import pypint\n",
    "from tabulate import tabulate\n",
    "from tqdm.notebook import tqdm\n",
    "import json"
   ]
  },
  {
   "cell_type": "markdown",
   "metadata": {},
   "source": [
    "## Phases and markers\n",
    "\n",
    "From [2 - Markers](2%20-%20Markers.ipynb)"
   ]
  },
  {
   "cell_type": "code",
   "execution_count": 2,
   "metadata": {},
   "outputs": [
    {
     "data": {
      "text/plain": [
       "['earlyG1', 'lateG1', 'earlyS', 'lateS', 'G2', 'M']"
      ]
     },
     "execution_count": 2,
     "metadata": {},
     "output_type": "execute_result"
    }
   ],
   "source": [
    "markers = json.load(open(\"generated/markers.json\"))\n",
    "phases = list(markers.keys())\n",
    "phases"
   ]
  },
  {
   "cell_type": "markdown",
   "metadata": {},
   "source": [
    "## Initial state\n",
    "\n",
    "From [3 - Initial state](3%20-%20Initial%20state.ipynb)"
   ]
  },
  {
   "cell_type": "code",
   "execution_count": 3,
   "metadata": {},
   "outputs": [],
   "source": [
    "inis = json.load(open(\"generated/inis.json\"))"
   ]
  },
  {
   "cell_type": "markdown",
   "metadata": {},
   "source": [
    "## Dynamical models"
   ]
  },
  {
   "cell_type": "code",
   "execution_count": 4,
   "metadata": {},
   "outputs": [],
   "source": [
    "ans = {code: pypint.load(f\"generated/merge-{code}.an\") for code in inis}"
   ]
  },
  {
   "cell_type": "markdown",
   "metadata": {},
   "source": [
    "## A. Reach each phase"
   ]
  },
  {
   "cell_type": "code",
   "execution_count": 5,
   "metadata": {
    "scrolled": true
   },
   "outputs": [
    {
     "data": {
      "application/vnd.jupyter.widget-view+json": {
       "model_id": "21df11663fd94ec4afb0dc3fd54c7bba",
       "version_major": 2,
       "version_minor": 0
      },
      "text/plain": [
       "  0%|          | 0/24 [00:00<?, ?it/s]"
      ]
     },
     "metadata": {},
     "output_type": "display_data"
    }
   ],
   "source": [
    "results = []\n",
    "for code, ini in tqdm(inis.items()):\n",
    "    #print(\"Computing for precursor state {}\".format(code))\n",
    "    an = ans[code]\n",
    "    res_ini = [code]\n",
    "    for phase in phases:\n",
    "        res = []\n",
    "        for marker in markers[phase]:\n",
    "            res.append(an.reachability((marker, 1), fallback=\"mole\"))\n",
    "        res_ini.append(\"{}/{}\".format(sum(res), len(res)))\n",
    "    results.append(res_ini)\n",
    "results = sorted(results, key=lambda x: x[0])"
   ]
  },
  {
   "cell_type": "code",
   "execution_count": 8,
   "metadata": {},
   "outputs": [
    {
     "data": {
      "text/html": [
       "<table>\n",
       "<thead>\n",
       "<tr><th style=\"text-align: right;\">  Precursor state</th><th>earlyG1  </th><th>lateG1  </th><th>earlyS  </th><th>lateS  </th><th>G2  </th><th>M  </th></tr>\n",
       "</thead>\n",
       "<tbody>\n",
       "<tr><td style=\"text-align: right;\">             1111</td><td>5/5      </td><td>2/2     </td><td>1/1     </td><td>1/1    </td><td>4/4 </td><td>4/4</td></tr>\n",
       "<tr><td style=\"text-align: right;\">             1112</td><td>5/5      </td><td>2/2     </td><td>1/1     </td><td>1/1    </td><td>4/4 </td><td>4/4</td></tr>\n",
       "<tr><td style=\"text-align: right;\">             1121</td><td>5/5      </td><td>2/2     </td><td>1/1     </td><td>1/1    </td><td>4/4 </td><td>4/4</td></tr>\n",
       "<tr><td style=\"text-align: right;\">             1122</td><td>5/5      </td><td>2/2     </td><td>1/1     </td><td>1/1    </td><td>4/4 </td><td>4/4</td></tr>\n",
       "<tr><td style=\"text-align: right;\">             1211</td><td>5/5      </td><td>2/2     </td><td>1/1     </td><td>1/1    </td><td>4/4 </td><td>4/4</td></tr>\n",
       "<tr><td style=\"text-align: right;\">             1212</td><td>5/5      </td><td>2/2     </td><td>1/1     </td><td>1/1    </td><td>4/4 </td><td>4/4</td></tr>\n",
       "<tr><td style=\"text-align: right;\">             1221</td><td>5/5      </td><td>2/2     </td><td>1/1     </td><td>1/1    </td><td>4/4 </td><td>4/4</td></tr>\n",
       "<tr><td style=\"text-align: right;\">             1222</td><td>5/5      </td><td>2/2     </td><td>1/1     </td><td>1/1    </td><td>4/4 </td><td>4/4</td></tr>\n",
       "<tr><td style=\"text-align: right;\">             2111</td><td>5/5      </td><td>2/2     </td><td>1/1     </td><td>1/1    </td><td>4/4 </td><td>3/4</td></tr>\n",
       "<tr><td style=\"text-align: right;\">             2112</td><td>5/5      </td><td>2/2     </td><td>1/1     </td><td>1/1    </td><td>4/4 </td><td>3/4</td></tr>\n",
       "<tr><td style=\"text-align: right;\">             2121</td><td>5/5      </td><td>2/2     </td><td>1/1     </td><td>1/1    </td><td>4/4 </td><td>3/4</td></tr>\n",
       "<tr><td style=\"text-align: right;\">             2122</td><td>5/5      </td><td>2/2     </td><td>1/1     </td><td>1/1    </td><td>4/4 </td><td>3/4</td></tr>\n",
       "<tr><td style=\"text-align: right;\">             2211</td><td>5/5      </td><td>2/2     </td><td>1/1     </td><td>1/1    </td><td>4/4 </td><td>3/4</td></tr>\n",
       "<tr><td style=\"text-align: right;\">             2212</td><td>5/5      </td><td>2/2     </td><td>1/1     </td><td>1/1    </td><td>4/4 </td><td>3/4</td></tr>\n",
       "<tr><td style=\"text-align: right;\">             2221</td><td>5/5      </td><td>2/2     </td><td>1/1     </td><td>1/1    </td><td>4/4 </td><td>3/4</td></tr>\n",
       "<tr><td style=\"text-align: right;\">             2222</td><td>5/5      </td><td>2/2     </td><td>1/1     </td><td>1/1    </td><td>4/4 </td><td>3/4</td></tr>\n",
       "<tr><td style=\"text-align: right;\">             3111</td><td>5/5      </td><td>2/2     </td><td>1/1     </td><td>1/1    </td><td>4/4 </td><td>4/4</td></tr>\n",
       "<tr><td style=\"text-align: right;\">             3112</td><td>5/5      </td><td>2/2     </td><td>1/1     </td><td>1/1    </td><td>4/4 </td><td>4/4</td></tr>\n",
       "<tr><td style=\"text-align: right;\">             3121</td><td>5/5      </td><td>2/2     </td><td>1/1     </td><td>1/1    </td><td>4/4 </td><td>4/4</td></tr>\n",
       "<tr><td style=\"text-align: right;\">             3122</td><td>5/5      </td><td>2/2     </td><td>1/1     </td><td>1/1    </td><td>4/4 </td><td>4/4</td></tr>\n",
       "<tr><td style=\"text-align: right;\">             3211</td><td>5/5      </td><td>2/2     </td><td>1/1     </td><td>1/1    </td><td>4/4 </td><td>4/4</td></tr>\n",
       "<tr><td style=\"text-align: right;\">             3212</td><td>5/5      </td><td>2/2     </td><td>1/1     </td><td>1/1    </td><td>4/4 </td><td>4/4</td></tr>\n",
       "<tr><td style=\"text-align: right;\">             3221</td><td>5/5      </td><td>2/2     </td><td>1/1     </td><td>1/1    </td><td>4/4 </td><td>4/4</td></tr>\n",
       "<tr><td style=\"text-align: right;\">             3222</td><td>5/5      </td><td>2/2     </td><td>1/1     </td><td>1/1    </td><td>4/4 </td><td>4/4</td></tr>\n",
       "</tbody>\n",
       "</table>"
      ],
      "text/plain": [
       "<IPython.core.display.HTML object>"
      ]
     },
     "metadata": {},
     "output_type": "display_data"
    }
   ],
   "source": [
    "display(HTML(tabulate(results, headers=[\"Precursor state\"] + phases, tablefmt=\"html\")))"
   ]
  },
  {
   "cell_type": "code",
   "execution_count": null,
   "metadata": {},
   "outputs": [],
   "source": []
  }
 ],
 "metadata": {
  "kernelspec": {
   "display_name": "Python 3",
   "language": "python",
   "name": "python3"
  },
  "language_info": {
   "codemirror_mode": {
    "name": "ipython",
    "version": 3
   },
   "file_extension": ".py",
   "mimetype": "text/x-python",
   "name": "python",
   "nbconvert_exporter": "python",
   "pygments_lexer": "ipython3",
   "version": "3.9.1"
  }
 },
 "nbformat": 4,
 "nbformat_minor": 4
}
