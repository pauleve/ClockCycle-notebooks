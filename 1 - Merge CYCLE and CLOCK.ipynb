{
 "cells": [
  {
   "cell_type": "code",
   "execution_count": 1,
   "metadata": {
    "scrolled": true
   },
   "outputs": [],
   "source": [
    "import copy\n",
    "import csbgnpy.pd.io.cd\n",
    "import csbgnpy.pd.io.sbgnml\n",
    "import csbgnpy.pd.io.sbgntxt\n",
    "from csbgnpy.pd.compartment import Compartment"
   ]
  },
  {
   "cell_type": "code",
   "execution_count": 2,
   "metadata": {},
   "outputs": [],
   "source": [
    "CYCLE_MODELFILE = \"maps/RB_E2F.xml\"\n",
    "CLOCK_MODELFILE = \"maps/CircadianClock.xml\""
   ]
  },
  {
   "cell_type": "code",
   "execution_count": 3,
   "metadata": {},
   "outputs": [],
   "source": [
    "cycle = csbgnpy.pd.io.cd.read(CYCLE_MODELFILE)\n",
    "clock = csbgnpy.pd.io.cd.read(CLOCK_MODELFILE)"
   ]
  },
  {
   "cell_type": "markdown",
   "metadata": {},
   "source": [
    "# CYCLE"
   ]
  },
  {
   "cell_type": "markdown",
   "metadata": {},
   "source": [
    "## Addition of transcriptional effects\n",
    "\n",
    "When commented, only E2F1 associated to DP1 or DP1 and RB phosphorylated three times has transcriptional effects (we consider them as the most active forms of E2F1). This model corresponds to trigger2."
   ]
  },
  {
   "cell_type": "code",
   "execution_count": 4,
   "metadata": {},
   "outputs": [],
   "source": [
    "sources = []\n",
    "targets = []\n",
    "        \n",
    "sources.append((\"Complex([\"\n",
    "            \"SubMacromolecule([][][@]SWI/SNF)|\"\n",
    "            \"SubMacromolecule([][][]HDAC1)|\"\n",
    "            \"SubMacromolecule([][][@]DP1*)|\"\n",
    "            \"SubMacromolecule([][][@Ser364|@Ser31|@|@Ser403|@Lys]E2F1)|\"\n",
    "            \"SubMacromolecule([][][@|@|@|P@]pRB*)]\"\n",
    "            \"[][]pRB*/E2F1/DP1*/SWI/SNF/HDAC1#\"\n",
    "            \"Compartment(nucleus))\"))\n",
    "\n",
    "sources.append((\"Complex([\"\n",
    "            \"SubMacromolecule([][][@]SWI/SNF)|\"\n",
    "            \"SubMacromolecule([][][@]DP1*)|\"\n",
    "            \"SubMacromolecule([][][@Ser364|@Ser31|@|@Ser403|@Lys]E2F1)|\"\n",
    "            \"SubMacromolecule([][][@|@|P@|P@]pRB*)]\"\n",
    "            \"[][]pRB*/E2F1/DP1*/SWI/SNF#\"\n",
    "            \"Compartment(nucleus))\"))\n",
    "\n",
    "sources.append((\"Complex([\"\n",
    "            \"SubMacromolecule([][][@]DP1*)|\"\n",
    "            \"SubMacromolecule([][][@Ser364|@Ser31|@|@Ser403|@Lys]E2F1)|\"\n",
    "            \"SubMacromolecule([][][@|P@|P@|P@]pRB*)]\"\n",
    "            \"[][]pRB*/E2F1/DP1*#\"\n",
    "            \"Compartment(nucleus))\"))\n",
    "\n",
    "sources.append((\"Complex([\"\n",
    "            \"SubMacromolecule([][][@]DP1*)|\"\n",
    "            \"SubMacromolecule([][][@Ser364|@Ser31|@|@Ser403|@Lys]E2F1)]\"\n",
    "            \"[][]E2F1/DP1*#\"\n",
    "            \"Compartment(nucleus))\"))\n",
    "\n",
    "for source in sources:\n",
    "    assert cycle.get_entity(source, by_string = True)\n",
    "\n",
    "targets.append(\"Macromolecule([][@Thr380]cyclin E1*#Compartment(nucleus))\")\n",
    "\n",
    "targets.append(\"Macromolecule([][]cyclin A2*#Compartment(nucleus))\")\n",
    "\n",
    "targets.append(\"Macromolecule([][]cyclin B1*)\")\n",
    "\n",
    "for target in targets:\n",
    "    assert cycle.get_entity(target, by_string = True)\n",
    "\n",
    "\n",
    "emptyset = \"EmptySet()\"\n",
    "\n",
    "for i, target in enumerate(targets):\n",
    "    p = \"GenericProcess([{}][{}])\".format(emptyset, target)\n",
    "    cycle.add_process(p)\n",
    "    for i, source in enumerate(sources):\n",
    "        if not \"cyclin A2*\" in target or i == 2 or i == 3:\n",
    "            m = \"Stimulation({}|{})\".format(source, p)\n",
    "            cycle.add_modulation(m)"
   ]
  },
  {
   "cell_type": "code",
   "execution_count": 5,
   "metadata": {},
   "outputs": [],
   "source": [
    "!mkdir -p generated\n",
    "csbgnpy.pd.io.sbgnml.write(cycle, \"generated/RBE2F_bmc_triggers.sbgnml\")"
   ]
  },
  {
   "cell_type": "markdown",
   "metadata": {},
   "source": [
    "## Re-labelling\n",
    "\n",
    "### Re-labelling of compartements\n",
    "\n",
    "The \"nucleus\" compartement is renamed to \"nucleoplasm\". In CYCLE, we add the compartment \"cytoplasm\" to all EPNs that are in no compartment, to match with CLOCK"
   ]
  },
  {
   "cell_type": "code",
   "execution_count": 6,
   "metadata": {},
   "outputs": [],
   "source": [
    "cycle.query_compartments(\"nucleus\")[0].label = \"nucleoplasm\"\n",
    "cytoplasm = Compartment(label=\"cytoplasm\")\n",
    "cycle.add_compartment(cytoplasm)\n",
    "for e in cycle.entities:\n",
    "    if e.compartment is None:\n",
    "        e.compartment = cytoplasm"
   ]
  },
  {
   "cell_type": "markdown",
   "metadata": {},
   "source": [
    "### Re-labelling of entities\n",
    "\n",
    "We rename entities to match with CLOCK"
   ]
  },
  {
   "cell_type": "code",
   "execution_count": 7,
   "metadata": {},
   "outputs": [],
   "source": [
    "cycle.replace_label(\"p16INK4a\\*\", \"p16INK4a\")"
   ]
  },
  {
   "cell_type": "code",
   "execution_count": 8,
   "metadata": {},
   "outputs": [],
   "source": [
    "cycle.replace_label(\"p53\\*\", \"p53\")"
   ]
  },
  {
   "cell_type": "code",
   "execution_count": 9,
   "metadata": {},
   "outputs": [],
   "source": [
    "cycle.replace_label(\"p21Cip*\", \"p21Cip\")"
   ]
  },
  {
   "cell_type": "code",
   "execution_count": 10,
   "metadata": {},
   "outputs": [],
   "source": [
    "cycle.replace_label(\"cyclin B1\\*\", \"CCNB1\")"
   ]
  },
  {
   "cell_type": "code",
   "execution_count": 11,
   "metadata": {},
   "outputs": [],
   "source": [
    "cycle.replace_label(\"CDC2/\", \"CDK1/\")"
   ]
  },
  {
   "cell_type": "code",
   "execution_count": 12,
   "metadata": {},
   "outputs": [],
   "source": [
    "cycle.replace_label(\"CDC2$\", \"CDK1\")"
   ]
  },
  {
   "cell_type": "code",
   "execution_count": 13,
   "metadata": {},
   "outputs": [],
   "source": [
    "cycle.replace_sv_var(\"Ser 1981\", \"Ser1981\")"
   ]
  },
  {
   "cell_type": "code",
   "execution_count": 14,
   "metadata": {},
   "outputs": [],
   "source": [
    "cycle.replace_label(\"CDK1/CCNB1\", \"CCNB1/CDK1\")"
   ]
  },
  {
   "cell_type": "markdown",
   "metadata": {},
   "source": [
    "\n",
    "\n",
    "## Remove redundant entities\n",
    "\n",
    "### Remove p53/MDM2 complexes\n",
    "\n",
    "The process is better described in CLOCK.\n",
    "Complexes in both compartments should be removed."
   ]
  },
  {
   "cell_type": "code",
   "execution_count": 15,
   "metadata": {},
   "outputs": [],
   "source": [
    "for e in cycle.query_entities(\"p53/MDM2\"):\n",
    "    cycle.remove_entity(e)"
   ]
  },
  {
   "cell_type": "markdown",
   "metadata": {},
   "source": [
    "##  Sites\n",
    "\n",
    "### Sites of p53\n",
    "\n",
    "We extend the sites of p53 with two undefined state variables (unset value, undefined variable) for ubiquitination"
   ]
  },
  {
   "cell_type": "code",
   "execution_count": 16,
   "metadata": {},
   "outputs": [],
   "source": [
    "for e in cycle.query_entities(\"\\[.*\\|.*\\]p53\"):\n",
    "    e.svs += [csbgnpy.pd.sv.StateVariable(var = csbgnpy.pd.sv.UndefinedVar(1)), \n",
    "                    csbgnpy.pd.sv.StateVariable(var = csbgnpy.pd.sv.UndefinedVar(2))]"
   ]
  },
  {
   "cell_type": "markdown",
   "metadata": {},
   "source": [
    "## Replace WEE1"
   ]
  },
  {
   "cell_type": "code",
   "execution_count": 17,
   "metadata": {
    "scrolled": true
   },
   "outputs": [],
   "source": [
    "cycle.replace_entity(\"Macromolecule([][@]WEE1#Compartment(nucleoplasm))\", \"Macromolecule([][@Ser53|@Ser472]WEE1#Compartment(nucleoplasm))\")\n",
    "cycle.add_modulation(\"Catalysis(Macromolecule([][P@S317|P@S345]CHEK1#Compartment(nucleoplasm))|GenericProcess([1:Macromolecule([][@Ser53|@Ser472]WEE1#Compartment(nucleoplasm))][1:Macromolecule([][@Ser53|P@Ser472]WEE1#Compartment(nucleoplasm))]))\")\n",
    "cycle.add_modulation(\"Catalysis(Complex([SubMacromolecule([][]CCNB1)|SubMacromolecule([][@Tyr15|P@Thr161|@Thr14]CDK1)][][]CCNB1/CDK1#Compartment(nucleoplasm))|GenericProcess([1:Macromolecule([][@Ser53|@Ser472]WEE1#Compartment(nucleoplasm))][1:Macromolecule([][P@Ser53|@Ser472]WEE1#Compartment(nucleoplasm))]))\")\n",
    "cycle.add_modulation(\"Catalysis(Macromolecule([][@Ser53|P@Ser472]WEE1#Compartment(nucleoplasm))|GenericProcess([1:Complex([SubMacromolecule([][@Tyr15|@Thr161|@Thr14]CDK1)|SubMacromolecule([][]CCNB1)][][]CCNB1/CDK1#Compartment(nucleoplasm))][1:Complex([SubMacromolecule([][]CCNB1)|SubMacromolecule([][P@Tyr15|@Thr161|@Thr14]CDK1)][][]CCNB1/CDK1#Compartment(nucleoplasm))]))\")\n",
    "cycle.remove_entity(\"Macromolecule([][P@]WEE1#Compartment(nucleoplasm))\")"
   ]
  },
  {
   "cell_type": "markdown",
   "metadata": {},
   "source": [
    "## Fix DP1"
   ]
  },
  {
   "cell_type": "code",
   "execution_count": 18,
   "metadata": {},
   "outputs": [],
   "source": [
    "p = cycle.query_processes(\"\\[1:Macromolecule.*DP1.*cytoplasm.*\\]\\[1:Macromolecule.*DP1.*nucleoplasm.*\\]\")[0]\n",
    "cycle.remove_process(p)\n",
    "\n",
    "p = \"GenericProcess([1:Macromolecule([][@]DP1*#Compartment([]nucleoplasm))][1:Macromolecule([][@]DP1*#Compartment([]cytoplasm))])\"\n",
    "cycle.add_process(p)\n",
    "\n",
    "p = cycle.query_processes(\"\\[1:Macromolecule.*P.*DP1.*\\]\\[1:Macromolecule.*DP1.*\\]\")[0]\n",
    "mod = \"Catalysis(Macromolecule(PP2A#Compartment(nucloeplasm))|{})\".format(p)\n",
    "cycle.add_modulation(mod)"
   ]
  },
  {
   "cell_type": "markdown",
   "metadata": {},
   "source": [
    "# CLOCK"
   ]
  },
  {
   "cell_type": "markdown",
   "metadata": {},
   "source": [
    "## Add effect of PP-p53 on transcription of p21\n",
    "\n",
    "Transcription of p21 is only in CLOCK, PP-p53 is only in CYCLE."
   ]
  },
  {
   "cell_type": "code",
   "execution_count": 19,
   "metadata": {},
   "outputs": [
    {
     "name": "stdout",
     "output_type": "stream",
     "text": [
      "NecessaryStimulation(AndOperator([NucleicAcidFeature([][]p21cip#Compartment([]nucleoplasm))|OrOperator([AndOperator([Macromolecule([][]RORG#Compartment([]nucleoplasm))|NotOperator([Macromolecule([][@|P@S55|@T274]NR1D1#Compartment([]nucleoplasm))])])|Macromolecule([][@|@|P@Ser15|P@Ser20]p53#Compartment([]nucleoplasm))])])|GenericProcess([1:NucleicAcidFeature([][]p21cip#Compartment([]nucleoplasm))][1:NucleicAcidFeature([RNA][]p21cip#Compartment([]cytoplasm))]))\n"
     ]
    }
   ],
   "source": [
    "mods = clock.query_modulations(\"\\[.*\\]\\[1:NucleicAcidFeature\\(.*p21cip.*\\)\\]\")\n",
    "for mod in mods:\n",
    "    clock.remove_modulation(mod)\n",
    "\n",
    "p = \"GenericProcess([1:NucleicAcidFeature([][]p21cip#Compartment([]nucleoplasm))][1:NucleicAcidFeature([RNA][]p21cip#Compartment([]cytoplasm))])\"\n",
    "p53 = \"Macromolecule([][@|@|P@Ser15|P@Ser20]p53#Compartment([]nucleoplasm))\"\n",
    "rorg = \"Macromolecule([][]RORG#Compartment([]nucleoplasm))\"\n",
    "nr1d1 = \"Macromolecule([][@T274|P@S55|@]NR1D1#Compartment([]nucleoplasm))\"\n",
    "p21gene = \"NucleicAcidFeature([][]p21cip#Compartment([]nucleoplasm))\"\n",
    "mod = \"NecessaryStimulation(AndOperator([{}|OrOperator([{}|AndOperator([{}|NotOperator([{}])])])])|{})\".format(p21gene, p53, rorg, nr1d1, p)\n",
    "\n",
    "assert clock.get_process(p, by_string=True) is not None\n",
    "assert cycle.get_entity(p53, by_string=True) is not None # PP-p53 is only in CYCLE\n",
    "assert clock.get_entity(rorg, by_string=True) is not None\n",
    "assert clock.get_entity(nr1d1, by_string=True) is not None\n",
    "assert clock.get_entity(p21gene, by_string=True) is not None\n",
    "\n",
    "clock.add_modulation(mod)\n",
    "print(str(clock.get_modulation(mod, by_string=True)))"
   ]
  },
  {
   "cell_type": "markdown",
   "metadata": {},
   "source": [
    "## Modify logical function that stimulates transcription of Per2"
   ]
  },
  {
   "cell_type": "markdown",
   "metadata": {},
   "source": [
    "Production of mRNA-PER2 is stimulated by the logical function: GC or HSF1 or (CLOCK-BMAL1 and not PC)"
   ]
  },
  {
   "cell_type": "code",
   "execution_count": 20,
   "metadata": {
    "scrolled": true
   },
   "outputs": [
    {
     "name": "stdout",
     "output_type": "stream",
     "text": [
      "Complex([SubMacromolecule([][@|@S121|@S661]PER1)|SubMacromolecule([][@|@S280|@S71]CRY1)|SubMacromolecule([][@|@S558]CRY2)|SubMacromolecule([][@|Ac@L538|@S17|P@S90|@T21]BMAL1)|SubMacromolecule([][ADPr@]CLOCK)|SubMacromolecule([][Ac@|@|@S662]PER2)|SubMacromolecule([][]CSNK1δ)|SubMacromolecule([][]CSNK1ε)][][]PER/CRY/CSNK1/CLOCK/BMAL1#Compartment([]nucleoplasm))\n"
     ]
    }
   ],
   "source": [
    "for e in clock.entities:\n",
    "    if \"BMAL1\" in str(e) and \"PER2\" in str(e):\n",
    "        print(e)"
   ]
  },
  {
   "cell_type": "code",
   "execution_count": 21,
   "metadata": {},
   "outputs": [
    {
     "name": "stdout",
     "output_type": "stream",
     "text": [
      "Stimulation(OrOperator([AndOperator([Complex([SubMacromolecule([][@|Ac@L538|@S17|P@S90|@T21]BMAL1)|SubMacromolecule([][ADPr@]CLOCK)|SubMacromolecule([][]CK2α)][][]BMAL1/CLOCK/CK2α#Compartment([]nucleoplasm))|NotOperator([Complex([SubMacromolecule([][@|@S121|@S661]PER1)|SubMacromolecule([][@|@S280|@S71]CRY1)|SubMacromolecule([][@|@S558]CRY2)|SubMacromolecule([][@|Ac@L538|@S17|P@S90|@T21]BMAL1)|SubMacromolecule([][ADPr@]CLOCK)|SubMacromolecule([][Ac@|@|@S662]PER2)|SubMacromolecule([][]CSNK1δ)|SubMacromolecule([][]CSNK1ε)][][]PER/CRY/CSNK1/CLOCK/BMAL1#Compartment([]nucleoplasm))])])|Complex([SubMacromolecule([receptor][Ac@lys480]GCR)|SubSimpleChemical([][]GC)][][]GCR/GC#Compartment([]nucleoplasm))|Macromolecule([][]HSF1#Compartment([]nucleoplasm))])|GenericProcess([1:NucleicAcidFeature([][]Per2#Compartment([]nucleoplasm))][1:NucleicAcidFeature([RNA][]Per2#Compartment([]cytoplasm))]))\n"
     ]
    }
   ],
   "source": [
    "mods = clock.query_modulations(\"\\(.*\\|GenericProcess\\(\\[.*\\]\\[1:.*\\[RNA\\]\\[\\]Per2#Compartment\\(\\[\\]cytoplasm\\)\\)\\]\\)\\)\")\n",
    "\n",
    "proc = mods[0].target\n",
    "\n",
    "for m in mods:\n",
    "    clock.remove_modulation(m)\n",
    "      \n",
    "gc = \"Complex([SubMacromolecule([receptor][Ac@lys480]GCR)|SubSimpleChemical([][]GC)][][]GCR/GC#Compartment([]nucleoplasm))\"\n",
    "hsf1 = \"Macromolecule([][]HSF1#Compartment(nucleoplasm))\"\n",
    "bmal_clock = \"Complex([SubMacromolecule([][@T21|@S17|P@S90|Ac@L538|@]BMAL1)|SubMacromolecule([][ADPr@]CLOCK)|SubMacromolecule([][]CK2α)][][]BMAL1/CLOCK/CK2α#Compartment([]nucleoplasm))\"\n",
    "pc = \"Complex([SubMacromolecule([][@S280|@S71|@]CRY1)|SubMacromolecule([][@S558|@]CRY2)|SubMacromolecule([][@S661|@S121|@]PER1)| \\\n",
    "        SubMacromolecule([][@T21|@S17|P@S90|Ac@L538|@]BMAL1)|SubMacromolecule([][ADPr@]CLOCK)| \\\n",
    "        SubMacromolecule([][Ac@|@S662|@]PER2)|SubMacromolecule([][]CSNK1δ)| \\\n",
    "        SubMacromolecule([][]CSNK1ε)][][]PER/CRY/CSNK1/CLOCK/BMAL1#Compartment([]nucleoplasm))\"\n",
    "\n",
    "assert clock.get_entity(gc, by_string=True) is not None\n",
    "assert clock.get_entity(hsf1, by_string=True) is not None\n",
    "assert clock.get_entity(bmal_clock, by_string=True) is not None\n",
    "assert clock.get_entity(pc, by_string=True) is not None\n",
    "\n",
    "lo = \"OrOperator([{}|{}|AndOperator([{}|NotOperator([{}])])])\".format(gc, hsf1, bmal_clock, pc)\n",
    "mod = \"Stimulation({}|{})\".format(lo, proc)\n",
    "\n",
    "clock.add_modulation(mod)\n",
    "print(str(clock.get_modulation(mod, by_string=True)))"
   ]
  },
  {
   "cell_type": "markdown",
   "metadata": {},
   "source": [
    "## Replace inhibitions by absolute inhibitions\n",
    "\n",
    "Default logic rule is: at least one activator and no inhibitor."
   ]
  },
  {
   "cell_type": "code",
   "execution_count": 22,
   "metadata": {},
   "outputs": [],
   "source": [
    "mods = clock.query_modulations(\"Inhibition\")\n",
    "for m in mods:\n",
    "    clock.replace_modulation(m, str(m).replace(\"Inhibition\", \"AbsoluteInhibition\"))    "
   ]
  },
  {
   "cell_type": "markdown",
   "metadata": {},
   "source": [
    "# MERGE"
   ]
  },
  {
   "cell_type": "code",
   "execution_count": 23,
   "metadata": {},
   "outputs": [],
   "source": [
    "merge = cycle.union(clock)"
   ]
  },
  {
   "cell_type": "markdown",
   "metadata": {},
   "source": [
    "## Renew IDs"
   ]
  },
  {
   "cell_type": "code",
   "execution_count": 24,
   "metadata": {},
   "outputs": [],
   "source": [
    "merge.renew_ids()\n",
    "inter = clock.intersection(cycle)\n",
    "clock_new = merge.difference(cycle.difference(inter))\n",
    "cycle_new = merge.difference(clock.difference(inter))\n",
    "\n",
    "assert cycle == cycle_new\n",
    "assert clock == clock_new"
   ]
  },
  {
   "cell_type": "markdown",
   "metadata": {},
   "source": [
    "## Write SBGN-ML files"
   ]
  },
  {
   "cell_type": "code",
   "execution_count": 25,
   "metadata": {},
   "outputs": [],
   "source": [
    "csbgnpy.pd.io.sbgnml.write(cycle_new, \"generated/CYCLE.sbgnml\")\n",
    "csbgnpy.pd.io.sbgnml.write(clock_new, \"generated/CLOCK.sbgnml\")\n",
    "csbgnpy.pd.io.sbgnml.write(merge, \"generated/MERGE.sbgnml\")"
   ]
  },
  {
   "cell_type": "markdown",
   "metadata": {},
   "source": [
    "## Write CD files"
   ]
  },
  {
   "cell_type": "code",
   "execution_count": 26,
   "metadata": {},
   "outputs": [],
   "source": [
    "nets = [(cycle, cycle_new), (clock, clock_new)]\n",
    "files = [(CYCLE_MODELFILE, \"generated/CYCLE.xml\"), (CLOCK_MODELFILE, \"generated/CLOCK.xml\")]\n",
    "rep = []\n",
    "for i, couple in enumerate(nets):\n",
    "    rep.append({})\n",
    "    for c in couple[0].compartments:\n",
    "        cc = couple[1].get_compartment(c, by_compartment = True)\n",
    "        rep[i][str(c.id)] = str(cc.id) if cc else None\n",
    "    for e in couple[0].entities:\n",
    "        ee = couple[1].get_entity(e, by_entity = True)\n",
    "        rep[i][str(e.id)] = str(ee.id)  if ee else None\n",
    "        if hasattr(e, \"svs\"):\n",
    "            for sv in e.svs:\n",
    "                svsv = ee.get_sv(sv, by_sv = True) if ee else None\n",
    "                rep[i][str(sv.id)] = str(svsv.id) if svsv else None\n",
    "for i, couple in enumerate(files):\n",
    "    f = open(files[i][0])\n",
    "    s = f.read()\n",
    "    f.close()\n",
    "    for k in rep[i].keys():\n",
    "        s = s.replace('\"{}\"'.format(k), '\"{}\"'.format(rep[i][k]))\n",
    "        s = s.replace('\"{},'.format(k), '\"{},'.format(rep[i][k]))\n",
    "        s = s.replace(',{}\"'.format(k), ',{}\"'.format(rep[i][k]))\n",
    "        s = s.replace(',{},'.format(k), ',{},'.format(rep[i][k]))\n",
    "        s = s.replace(\">{}<\".format(k), \">{}<\".format(rep[i][k]))\n",
    "    f = open(files[i][1], 'w')\n",
    "    f.write(s)\n",
    "    f.close()"
   ]
  }
 ],
 "metadata": {
  "kernelspec": {
   "display_name": "Python 3",
   "language": "python",
   "name": "python3"
  },
  "language_info": {
   "codemirror_mode": {
    "name": "ipython",
    "version": 3
   },
   "file_extension": ".py",
   "mimetype": "text/x-python",
   "name": "python",
   "nbconvert_exporter": "python",
   "pygments_lexer": "ipython3",
   "version": "3.8.5"
  }
 },
 "nbformat": 4,
 "nbformat_minor": 4
}
