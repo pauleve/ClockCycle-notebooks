{
 "cells": [
  {
   "cell_type": "code",
   "execution_count": 1,
   "metadata": {},
   "outputs": [
    {
     "data": {
      "text/markdown": [
       "This notebook has been executed using the docker image `pauleve/clockcycle:v0`"
      ],
      "text/plain": [
       "<IPython.core.display.Markdown object>"
      ]
     },
     "metadata": {},
     "output_type": "display_data"
    }
   ],
   "source": [
    "from functools import reduce\n",
    "import csbgnpy.pd.io.sbgnml\n",
    "import pypint\n",
    "import multiprocessing\n",
    "from IPython.display import display\n",
    "import networkx as nx"
   ]
  },
  {
   "cell_type": "markdown",
   "metadata": {},
   "source": [
    "## Merged map\n",
    "\n",
    "From [1 - Merge CYCLE and CLOCK](1%20-%20Merge%20CYCLE%20and%20CLOCK.ipynb)"
   ]
  },
  {
   "cell_type": "code",
   "execution_count": 2,
   "metadata": {},
   "outputs": [],
   "source": [
    "merge_file = \"generated/MERGE.sbgnml\"\n",
    "merge = csbgnpy.pd.io.sbgnml.read(merge_file)"
   ]
  },
  {
   "cell_type": "code",
   "execution_count": 3,
   "metadata": {},
   "outputs": [],
   "source": [
    "clock = csbgnpy.pd.io.sbgnml.read(\"generated/CLOCK.sbgnml\")\n",
    "cycle = csbgnpy.pd.io.sbgnml.read(\"generated/CYCLE.sbgnml\")\n",
    "clock_ids = set([e.id for e in clock.entities])# + [p.id for p in clock.processes])\n",
    "cycle_ids = set([e.id for e in cycle.entities])# + [p.id for p in cycle.processes])\n",
    "clock_only = clock_ids - cycle_ids\n",
    "cycle_only = cycle_ids - clock_ids"
   ]
  },
  {
   "cell_type": "markdown",
   "metadata": {},
   "source": [
    "## Markers\n",
    "\n",
    "From [2 - Markers.ipynb](2%20-%20Markers.ipynb):"
   ]
  },
  {
   "cell_type": "code",
   "execution_count": 4,
   "metadata": {},
   "outputs": [],
   "source": [
    "%store -r cycle_markers\n",
    "%store -r clock_markers"
   ]
  },
  {
   "cell_type": "markdown",
   "metadata": {},
   "source": [
    "## Initial state\n",
    "\n",
    "From [3 - Initial state](3%20-%20Initial%20state.ipynb)"
   ]
  },
  {
   "cell_type": "code",
   "execution_count": 5,
   "metadata": {},
   "outputs": [],
   "source": [
    "%store -r ini"
   ]
  },
  {
   "cell_type": "markdown",
   "metadata": {},
   "source": [
    "To ids:"
   ]
  },
  {
   "cell_type": "code",
   "execution_count": 6,
   "metadata": {},
   "outputs": [],
   "source": [
    "ini = [e.id for e in ini]"
   ]
  },
  {
   "cell_type": "markdown",
   "metadata": {},
   "source": [
    "### Conversion to internal identifiers"
   ]
  },
  {
   "cell_type": "code",
   "execution_count": 7,
   "metadata": {},
   "outputs": [],
   "source": [
    "inirb = list(cycle_ids.intersection(ini))"
   ]
  },
  {
   "cell_type": "code",
   "execution_count": 8,
   "metadata": {},
   "outputs": [],
   "source": [
    "def get_map(a):\n",
    "    if a in clock_only:\n",
    "        return \"CLOCK\"\n",
    "    if a in cycle_only:\n",
    "        return \"CYCLE\"\n",
    "    return \"MERGE\"\n",
    "def pretty_node(a):\n",
    "    if a.startswith(\"epn_\"):\n",
    "        e = merge.get_entity(a, by_id=True)\n",
    "    else:\n",
    "        e = merge.get_process(a, by_id=True)\n",
    "    return \"{}::{}\".format(get_map(a), str(e))"
   ]
  },
  {
   "cell_type": "code",
   "execution_count": 9,
   "metadata": {},
   "outputs": [
    {
     "data": {
      "text/plain": [
       "['CYCLE::Complex([SubMacromolecule([][@]DP1*)|SubMacromolecule([][@|@Lys|@Ser31|@Ser364|@Ser403]E2F1)|SubMacromolecule([][@|@|@|@]pRB*)][][]pRB*/E2F1/DP1*#Compartment([]nucleoplasm))',\n",
       " 'CYCLE::Complex([SubMacromolecule([][]BMI1*)|SubMacromolecule([][]MEL-18*)|SubMacromolecule([][]PHC1)|SubMacromolecule([][]RING1)|SubMacromolecule([][]RYBP)][][]RYBP/RING1/BMI1*/ MEL-18*/PHC1#Compartment([]nucleoplasm))',\n",
       " 'CYCLE::Macromolecule([][*@NF|@Thr172]CDK4#Compartment([]cytoplasm))',\n",
       " 'CYCLE::Macromolecule([][@S317|@S345]CHEK1#Compartment([]nucleoplasm))',\n",
       " 'MERGE::Macromolecule([][@S395]MDM2#Compartment([]cytoplasm))',\n",
       " 'CYCLE::Macromolecule([][@Ser1981]ATM#Compartment([]nucleoplasm))',\n",
       " 'CYCLE::Macromolecule([][@T145|@Thr57]p21Cip*#Compartment([]nucleoplasm))',\n",
       " 'CYCLE::Macromolecule([][@Thr14|@Thr161|@Tyr15]CDK1#Compartment([]cytoplasm))',\n",
       " 'CYCLE::Macromolecule([][@Thr157|@Thr187]p27Kip1*#Compartment([]nucleoplasm))',\n",
       " 'CYCLE::Macromolecule([][@Thr160|@Tyr14|@Tyr15]CDK2#Compartment([]nucleoplasm))',\n",
       " 'CYCLE::Macromolecule([][@Thr170]CDK7#Compartment([]nucleoplasm))',\n",
       " 'CYCLE::Macromolecule([][@Thr286]cyclin D1*#Compartment([]cytoplasm))',\n",
       " 'CYCLE::Macromolecule([][@Thr68]CHEK2#Compartment([]nucleoplasm))',\n",
       " 'CYCLE::Macromolecule([][@Thr]CDK6#Compartment([]cytoplasm))',\n",
       " 'CYCLE::Macromolecule([][@]CDC20#Compartment([]nucleoplasm))',\n",
       " 'CYCLE::Macromolecule([][@]CDH1#Compartment([]nucleoplasm))',\n",
       " 'CYCLE::Macromolecule([][@]GSK3B#Compartment([]nucleoplasm))',\n",
       " 'CYCLE::Macromolecule([][@]NBS1#Compartment([]nucleoplasm))',\n",
       " 'CYCLE::Macromolecule([][@]PKMYT1#Compartment([]cytoplasm))',\n",
       " 'CYCLE::Macromolecule([][@]SWI/SNF#Compartment([]nucleoplasm))',\n",
       " 'CYCLE::Macromolecule([][@]p107*#Compartment([]nucleoplasm))',\n",
       " 'CYCLE::Macromolecule([][@]p130*#Compartment([]cytoplasm))',\n",
       " 'CYCLE::Macromolecule([][@|@Ser216]CDC25C#Compartment([]cytoplasm))',\n",
       " 'MERGE::Macromolecule([][@|@|@Ser15|@Ser20]p53#Compartment([]cytoplasm))',\n",
       " 'CYCLE::Macromolecule([][]AKT1#Compartment([]nucleoplasm))',\n",
       " 'CLOCK::Macromolecule([][]AMPK#Compartment([]cytoplasm))',\n",
       " 'CYCLE::Macromolecule([][]APC#Compartment([]nucleoplasm))',\n",
       " 'MERGE::Macromolecule([][]ATR#Compartment([]nucleoplasm))',\n",
       " 'CYCLE::Macromolecule([][]BAT8#Compartment([]nucleoplasm))',\n",
       " 'CYCLE::Macromolecule([][]CDC14#Compartment([]nucleoplasm))',\n",
       " 'CYCLE::Macromolecule([][]CDC37#Compartment([]cytoplasm))',\n",
       " 'CYCLE::Macromolecule([][]CDK3#Compartment([]nucleoplasm))',\n",
       " 'CYCLE::Macromolecule([][]CDKN3#Compartment([]nucleoplasm))',\n",
       " 'CLOCK::Macromolecule([][]CK2α#Compartment([]nucleoplasm))',\n",
       " 'CYCLE::Macromolecule([][]CREBBP#Compartment([]nucleoplasm))',\n",
       " 'CLOCK::Macromolecule([][]CSNK1δ#Compartment([]cytoplasm))',\n",
       " 'CLOCK::Macromolecule([][]CSNK1ε#Compartment([]cytoplasm))',\n",
       " 'CYCLE::Macromolecule([][]DP2*#Compartment([]cytoplasm))',\n",
       " 'CLOCK::Macromolecule([][]DYRK1A#Compartment([]cytoplasm))',\n",
       " 'CYCLE::Macromolecule([][]E2F4#Compartment([]cytoplasm))',\n",
       " 'CYCLE::Macromolecule([][]E2F5#Compartment([]nucleoplasm))',\n",
       " 'CYCLE::Macromolecule([][]E2F6#Compartment([]nucleoplasm))',\n",
       " 'CYCLE::Macromolecule([][]E2F7#Compartment([]nucleoplasm))',\n",
       " 'CYCLE::Macromolecule([][]E2F8#Compartment([]nucleoplasm))',\n",
       " 'CYCLE::Macromolecule([][]EED#Compartment([]nucleoplasm))',\n",
       " 'CYCLE::Macromolecule([][]EHMT1#Compartment([]nucleoplasm))',\n",
       " 'CYCLE::Macromolecule([][]EP300#Compartment([]nucleoplasm))',\n",
       " 'CYCLE::Macromolecule([][]EPC1#Compartment([]nucleoplasm))',\n",
       " 'CYCLE::Macromolecule([][]EZH2#Compartment([]nucleoplasm))',\n",
       " 'CLOCK::Macromolecule([][]FBXL3#Compartment([]cytoplasm))',\n",
       " 'CLOCK::Macromolecule([][]FBXW7#Compartment([]cytoplasm))',\n",
       " 'CLOCK::Macromolecule([][]GSK3B#Compartment([]nucleoplasm))',\n",
       " 'CLOCK::Macromolecule([][]HAUSP#Compartment([]cytoplasm))',\n",
       " 'CLOCK::Macromolecule([][]HAUSP#Compartment([]nucleoplasm))',\n",
       " 'CYCLE::Macromolecule([][]HDAC1#Compartment([]nucleoplasm))',\n",
       " 'CYCLE::Macromolecule([][]HP1gamma*#Compartment([]nucleoplasm))',\n",
       " 'CLOCK::Macromolecule([][]HSF1#Compartment([]nucleoplasm))',\n",
       " 'MERGE::Macromolecule([][]HSP90#Compartment([]cytoplasm))',\n",
       " 'CLOCK::Macromolecule([][]HUWE1#Compartment([]cytoplasm))',\n",
       " 'CYCLE::Macromolecule([][]MAX#Compartment([]nucleoplasm))',\n",
       " 'CYCLE::Macromolecule([][]MGA#Compartment([]nucleoplasm))',\n",
       " 'CLOCK::Macromolecule([][]MIZ1#Compartment([]nucleoplasm))',\n",
       " 'CYCLE::Macromolecule([][]MNAT1#Compartment([]nucleoplasm))',\n",
       " 'CLOCK::Macromolecule([][]MYC#Compartment([]nucleoplasm))',\n",
       " 'CLOCK::Macromolecule([][]MYCBP2#Compartment([]cytoplasm))',\n",
       " 'CLOCK::Macromolecule([][]NMNAT#Compartment([]nucleoplasm))',\n",
       " 'CLOCK::Macromolecule([][]NONO#Compartment([]nucleoplasm))',\n",
       " 'CYCLE::Macromolecule([][]PCAF#Compartment([]nucleoplasm))',\n",
       " 'CYCLE::Macromolecule([][]PCNA#Compartment([]nucleoplasm))',\n",
       " 'CYCLE::Macromolecule([][]PP1#Compartment([]nucleoplasm))',\n",
       " 'CYCLE::Macromolecule([][]PP2A#Compartment([]nucloeplasm))',\n",
       " 'CYCLE::Macromolecule([][]SERTAD1#Compartment([]cytoplasm))',\n",
       " 'CYCLE::Macromolecule([][]SIN3B#Compartment([]nucleoplasm))',\n",
       " 'CYCLE::Macromolecule([][]SUV39H1#Compartment([]nucleoplasm))',\n",
       " 'CYCLE::Macromolecule([][]TFIIH*#Compartment([]nucleoplasm))',\n",
       " 'CYCLE::Macromolecule([][]TOPBP1#Compartment([]nucleoplasm))',\n",
       " 'CLOCK::Macromolecule([][]UBE3A#Compartment([]cytoplasm))',\n",
       " 'CLOCK::Macromolecule([][]USP2#Compartment([]cytoplasm))',\n",
       " 'CYCLE::Macromolecule([][]cyclin C*#Compartment([]nucleoplasm))',\n",
       " 'CYCLE::Macromolecule([][]cyclin H*#Compartment([]nucleoplasm))',\n",
       " 'CYCLE::Macromolecule([][]p14ARF*#Compartment([]nucleoplasm))',\n",
       " 'CYCLE::Macromolecule([][]p15INK4b*#Compartment([]cytoplasm))',\n",
       " 'CYCLE::Macromolecule([][]p18INK4c*#Compartment([]nucleoplasm))',\n",
       " 'CYCLE::Macromolecule([][]p19INK4d*#Compartment([]nucleoplasm))',\n",
       " 'CYCLE::Macromolecule([][]p57KIP2*#Compartment([]nucleoplasm))',\n",
       " 'CLOCK::Macromolecule([][]βTRCP#Compartment([]cytoplasm))',\n",
       " 'CLOCK::Macromolecule([][inactive@]PARP-1#Compartment([]nucleoplasm))',\n",
       " 'CLOCK::Macromolecule([][inactive@|@]SIRT1#Compartment([]nucleoplasm))',\n",
       " 'CLOCK::Macromolecule([receptor][@lys480]GCR#Compartment([]cytoplasm))',\n",
       " 'CLOCK::NucleicAcidFeature([][]Bmal1#Compartment([]nucleoplasm))',\n",
       " 'CLOCK::NucleicAcidFeature([][]Ciart#Compartment([]nucleoplasm))',\n",
       " 'CLOCK::NucleicAcidFeature([][]Clock#Compartment([]nucleoplasm))',\n",
       " 'CLOCK::NucleicAcidFeature([][]Cry1#Compartment([]nucleoplasm))',\n",
       " 'CLOCK::NucleicAcidFeature([][]Cry2#Compartment([]nucleoplasm))',\n",
       " 'CLOCK::NucleicAcidFeature([][]Hsp70#Compartment([]nucleoplasm))',\n",
       " 'CLOCK::NucleicAcidFeature([][]Nampt#Compartment([]nucleoplasm))',\n",
       " 'CLOCK::NucleicAcidFeature([][]Nr1d1#Compartment([]nucleoplasm))',\n",
       " 'CLOCK::NucleicAcidFeature([][]Per1#Compartment([]nucleoplasm))',\n",
       " 'CLOCK::NucleicAcidFeature([][]Per2#Compartment([]nucleoplasm))',\n",
       " 'CLOCK::NucleicAcidFeature([][]Rorc#Compartment([]nucleoplasm))',\n",
       " 'CLOCK::NucleicAcidFeature([][]Wee1#Compartment([]nucleoplasm))',\n",
       " 'CLOCK::NucleicAcidFeature([][]p16/Ink4a#Compartment([]nucleoplasm))',\n",
       " 'CLOCK::NucleicAcidFeature([][]p21cip#Compartment([]nucleoplasm))',\n",
       " 'CLOCK::SimpleChemical([][]GC#Compartment([]extracellular))',\n",
       " 'CLOCK::SimpleChemical([][]NAD+#Compartment([]nucleoplasm))',\n",
       " 'CLOCK::UnspecifiedEntity(Heat#Compartment([]extracellular))']"
      ]
     },
     "execution_count": 9,
     "metadata": {},
     "output_type": "execute_result"
    }
   ],
   "source": [
    "[pretty_node(e) for e in ini]"
   ]
  },
  {
   "cell_type": "code",
   "execution_count": 10,
   "metadata": {},
   "outputs": [],
   "source": [
    "an = pypint.load(merge_file, initial_state=ini)"
   ]
  },
  {
   "cell_type": "code",
   "execution_count": 11,
   "metadata": {},
   "outputs": [
    {
     "data": {
      "text/html": [
       "<a href='generated/MERGE.an' target='_blank'>generated/MERGE.an</a><br>"
      ],
      "text/plain": [
       "/notebook/generated/MERGE.an"
      ]
     },
     "execution_count": 11,
     "metadata": {},
     "output_type": "execute_result"
    }
   ],
   "source": [
    "an.save_as(\"generated/MERGE.an\")"
   ]
  },
  {
   "cell_type": "code",
   "execution_count": 12,
   "metadata": {},
   "outputs": [],
   "source": [
    "def get_entity_id(spec):\n",
    "    e = merge.get_entity(spec, by_string=True)\n",
    "    if not e:\n",
    "        raise Exception(f\"No entity found for '{spec}'\")\n",
    "    return e.id"
   ]
  },
  {
   "cell_type": "code",
   "execution_count": 13,
   "metadata": {
    "scrolled": true
   },
   "outputs": [],
   "source": [
    "an_cycle_markers = dict([(p, [(get_entity_id(m),1) for m in ms]) \\\n",
    "                         for p,ms in cycle_markers.items()])\n",
    "an_clock_markers = dict([(p, [(get_entity_id(m),1) for m in ms]) \\\n",
    "                         for p,ms in clock_markers.items()])"
   ]
  },
  {
   "cell_type": "code",
   "execution_count": 14,
   "metadata": {},
   "outputs": [],
   "source": [
    "def pretty_mutations(m):\n",
    "    return dict([(pretty_node(a), i) for (a,i) in sorted(m.items())])\n",
    "\n",
    "def has_proc(m):\n",
    "    for e in m:\n",
    "        if e.startswith(\"proc_\"):\n",
    "            return True\n",
    "    return False\n",
    "\n",
    "def unpretty_node(a):\n",
    "    name = \"::\".join(a.split(\"::\")[1:])\n",
    "    entity = merge.get_entity(name, by_string=True)\n",
    "    return entity.id\n",
    "\n",
    "def unpretty_mutations(m):\n",
    "    return dict([(unpretty_node(a), i) for (a,i) in m.items()])"
   ]
  },
  {
   "cell_type": "code",
   "execution_count": 15,
   "metadata": {},
   "outputs": [],
   "source": [
    "def oneshot_mutations_for_cut(an, markers, **kwargs):\n",
    "    ms = []\n",
    "    for marker in markers:\n",
    "        ms += an.oneshot_mutations_for_cut(marker, **kwargs)\n",
    "    return ms"
   ]
  },
  {
   "cell_type": "code",
   "execution_count": 16,
   "metadata": {},
   "outputs": [],
   "source": [
    "def check_mutation_for_cut(an, markers, locks):\n",
    "    for marker in markers:\n",
    "        wt_reach = an.reachability(marker)\n",
    "        mu_reach = an.lock(locks).reachability(marker)\n",
    "        if wt_reach and not mu_reach:\n",
    "            print(\"mutation is cutting {}\".format(pretty_node(marker[0])))"
   ]
  },
  {
   "cell_type": "code",
   "execution_count": 17,
   "metadata": {},
   "outputs": [],
   "source": [
    "def list_interesting(ms, interest):\n",
    "    i2m = {}\n",
    "    for mi, m in enumerate(ms):\n",
    "        li = [(a,i) for (a,i) in m.items() if a in interest]\n",
    "        arity = len(m)\n",
    "        for (a,i) in li:\n",
    "            a = pretty_node(a)\n",
    "            if (a,i) not in i2m:\n",
    "                i2m[(a,i)] = set()\n",
    "            i2m[(a,i)].add(arity)\n",
    "            #if arity not in i2m[(a,i)]:\n",
    "            #    i2m[(a,i)][arity] = []\n",
    "            #i2m[(a,i)][arity].append(mi)\n",
    "    si2m = {}\n",
    "    for k, v in sorted(i2m.items()):\n",
    "        si2m[k] = v\n",
    "    return si2m"
   ]
  },
  {
   "cell_type": "code",
   "execution_count": 18,
   "metadata": {},
   "outputs": [],
   "source": [
    "ms = {}"
   ]
  },
  {
   "cell_type": "markdown",
   "metadata": {},
   "source": [
    "## CYCLE markers"
   ]
  },
  {
   "cell_type": "code",
   "execution_count": 19,
   "metadata": {},
   "outputs": [
    {
     "data": {
      "text/markdown": [
       "This computation is an *under-approximation*: returned mutations are all valid, but they may be non-minimal, and some solutions may be missed."
      ],
      "text/plain": [
       "<IPython.core.display.Markdown object>"
      ]
     },
     "metadata": {},
     "output_type": "display_data"
    },
    {
     "data": {
      "text/markdown": [
       "Limiting solutions to mutations of at most 3 automata. Use `maxsize` argument to change."
      ],
      "text/plain": [
       "<IPython.core.display.Markdown object>"
      ]
     },
     "metadata": {},
     "output_type": "display_data"
    },
    {
     "data": {
      "text/plain": [
       "{('MERGE::Macromolecule([][]HSP90#Compartment([]cytoplasm))', 0): {3}}"
      ]
     },
     "execution_count": 19,
     "metadata": {},
     "output_type": "execute_result"
    }
   ],
   "source": [
    "ms = an.oneshot_mutations_for_cut(an_cycle_markers[\"G0\"], maxsize=3)\n",
    "list_interesting(ms, clock_ids)"
   ]
  },
  {
   "cell_type": "code",
   "execution_count": 20,
   "metadata": {},
   "outputs": [
    {
     "data": {
      "text/markdown": [
       "This computation is an *under-approximation*: returned mutations are all valid, but they may be non-minimal, and some solutions may be missed."
      ],
      "text/plain": [
       "<IPython.core.display.Markdown object>"
      ]
     },
     "metadata": {},
     "output_type": "display_data"
    },
    {
     "data": {
      "text/markdown": [
       "Limiting solutions to mutations of at most 3 automata. Use `maxsize` argument to change."
      ],
      "text/plain": [
       "<IPython.core.display.Markdown object>"
      ]
     },
     "metadata": {},
     "output_type": "display_data"
    },
    {
     "data": {
      "text/plain": [
       "{('MERGE::Macromolecule([][]HSP90#Compartment([]cytoplasm))', 0): {1}}"
      ]
     },
     "execution_count": 20,
     "metadata": {},
     "output_type": "execute_result"
    }
   ],
   "source": [
    "ms = an.oneshot_mutations_for_cut(an_cycle_markers[\"earlyG1\"], maxsize=3)\n",
    "list_interesting(ms, clock_ids)"
   ]
  },
  {
   "cell_type": "code",
   "execution_count": 21,
   "metadata": {},
   "outputs": [
    {
     "data": {
      "text/markdown": [
       "This computation is an *under-approximation*: returned mutations are all valid, but they may be non-minimal, and some solutions may be missed."
      ],
      "text/plain": [
       "<IPython.core.display.Markdown object>"
      ]
     },
     "metadata": {},
     "output_type": "display_data"
    },
    {
     "data": {
      "text/markdown": [
       "Limiting solutions to mutations of at most 3 automata. Use `maxsize` argument to change."
      ],
      "text/plain": [
       "<IPython.core.display.Markdown object>"
      ]
     },
     "metadata": {},
     "output_type": "display_data"
    },
    {
     "data": {
      "text/plain": [
       "{('MERGE::Macromolecule([][]HSP90#Compartment([]cytoplasm))', 0): {2, 3}}"
      ]
     },
     "execution_count": 21,
     "metadata": {},
     "output_type": "execute_result"
    }
   ],
   "source": [
    "ms = an.oneshot_mutations_for_cut(an_cycle_markers[\"lateG1\"], maxsize=3)\n",
    "list_interesting(ms, clock_ids)"
   ]
  },
  {
   "cell_type": "code",
   "execution_count": 22,
   "metadata": {},
   "outputs": [
    {
     "data": {
      "text/markdown": [
       "This computation is an *under-approximation*: returned mutations are all valid, but they may be non-minimal, and some solutions may be missed."
      ],
      "text/plain": [
       "<IPython.core.display.Markdown object>"
      ]
     },
     "metadata": {},
     "output_type": "display_data"
    },
    {
     "data": {
      "text/markdown": [
       "Limiting solutions to mutations of at most 3 automata. Use `maxsize` argument to change."
      ],
      "text/plain": [
       "<IPython.core.display.Markdown object>"
      ]
     },
     "metadata": {},
     "output_type": "display_data"
    },
    {
     "data": {
      "text/plain": [
       "{}"
      ]
     },
     "execution_count": 22,
     "metadata": {},
     "output_type": "execute_result"
    }
   ],
   "source": [
    "ms = an.oneshot_mutations_for_cut(an_cycle_markers[\"earlyS\"], maxsize=3)\n",
    "list_interesting(ms, clock_ids)"
   ]
  },
  {
   "cell_type": "code",
   "execution_count": 23,
   "metadata": {
    "scrolled": true
   },
   "outputs": [
    {
     "data": {
      "text/markdown": [
       "This computation is an *under-approximation*: returned mutations are all valid, but they may be non-minimal, and some solutions may be missed."
      ],
      "text/plain": [
       "<IPython.core.display.Markdown object>"
      ]
     },
     "metadata": {},
     "output_type": "display_data"
    },
    {
     "data": {
      "text/markdown": [
       "Limiting solutions to mutations of at most 3 automata. Use `maxsize` argument to change."
      ],
      "text/plain": [
       "<IPython.core.display.Markdown object>"
      ]
     },
     "metadata": {},
     "output_type": "display_data"
    },
    {
     "data": {
      "text/plain": [
       "{('MERGE::Macromolecule([][]HSP90#Compartment([]cytoplasm))', 0): {2, 3}}"
      ]
     },
     "execution_count": 23,
     "metadata": {},
     "output_type": "execute_result"
    }
   ],
   "source": [
    "ms = an.oneshot_mutations_for_cut(an_cycle_markers[\"lateS\"], maxsize=3)\n",
    "list_interesting(ms, clock_ids)"
   ]
  },
  {
   "cell_type": "code",
   "execution_count": 24,
   "metadata": {
    "scrolled": false
   },
   "outputs": [
    {
     "data": {
      "text/markdown": [
       "This computation is an *under-approximation*: returned mutations are all valid, but they may be non-minimal, and some solutions may be missed."
      ],
      "text/plain": [
       "<IPython.core.display.Markdown object>"
      ]
     },
     "metadata": {},
     "output_type": "display_data"
    },
    {
     "data": {
      "text/markdown": [
       "Limiting solutions to mutations of at most 8 automata. Use `maxsize` argument to change."
      ],
      "text/plain": [
       "<IPython.core.display.Markdown object>"
      ]
     },
     "metadata": {},
     "output_type": "display_data"
    },
    {
     "data": {
      "text/plain": [
       "{('CLOCK::Complex([SubMacromolecule([][@|@L538|@S17|P@S90|@T21]BMAL1)|SubMacromolecule([][]CK2α)][][]BMAL1/CK2a#Compartment([]nucleoplasm))',\n",
       "  0): {3, 4},\n",
       " ('CLOCK::Complex([SubMacromolecule([][@|@S121|@S661]PER1)|SubMacromolecule([][@|@S280|@S71]CRY1)|SubMacromolecule([][@|@S558]CRY2)|SubMacromolecule([][@|Ac@L538|@S17|P@S90|@T21]BMAL1)|SubMacromolecule([][ADPr@]CLOCK)|SubMacromolecule([][Ac@|@|@S662]PER2)|SubMacromolecule([][]CSNK1δ)|SubMacromolecule([][]CSNK1ε)][][]PER/CRY/CSNK1/CLOCK/BMAL1#Compartment([]nucleoplasm))',\n",
       "  1): {3, 4},\n",
       " ('CLOCK::Complex([SubMacromolecule([][@|Ac@L538|@S17|P@S90|@T21]BMAL1)|SubMacromolecule([][ADPr@]CLOCK)|SubMacromolecule([][]CK2α)][][]BMAL1/CLOCK/CK2α#Compartment([]nucleoplasm))',\n",
       "  0): {3, 4},\n",
       " ('CLOCK::Complex([SubMacromolecule([][]MIZ1)|SubMacromolecule([][]MYC)][][]MYC/MIZ1#Compartment([]nucleoplasm))',\n",
       "  1): {3, 4},\n",
       " ('CLOCK::Macromolecule([][@Ser472|@Ser53]WEE1#Compartment([]cytoplasm))',\n",
       "  0): {3, 4},\n",
       " ('CLOCK::Macromolecule([][@|@L538|@S17|@S90|@T21]BMAL1#Compartment([]cytoplasm))',\n",
       "  0): {3, 4},\n",
       " ('CLOCK::Macromolecule([][@|@L538|@S17|@S90|@T21]BMAL1#Compartment([]nucleoplasm))',\n",
       "  0): {3, 4},\n",
       " ('CLOCK::Macromolecule([][@|@L538|@S17|P@S90|@T21]BMAL1#Compartment([]nucleoplasm))',\n",
       "  0): {3, 4},\n",
       " ('CLOCK::Macromolecule([][@|P@S55|@T274]NR1D1#Compartment([]nucleoplasm))',\n",
       "  1): {3, 4},\n",
       " ('CLOCK::Macromolecule([][ADPr@]CLOCK#Compartment([]nucleoplasm))', 0): {3,\n",
       "  4},\n",
       " ('CLOCK::Macromolecule([][]CK2α#Compartment([]nucleoplasm))', 0): {3, 4},\n",
       " ('CLOCK::Macromolecule([][]CLOCK#Compartment([]cytoplasm))', 0): {3, 4},\n",
       " ('CLOCK::Macromolecule([][]CLOCK#Compartment([]nucleoplasm))', 0): {3, 4},\n",
       " ('CLOCK::Macromolecule([][]MIZ1#Compartment([]nucleoplasm))', 0): {3, 4},\n",
       " ('CLOCK::Macromolecule([][active@]PARP-1#Compartment([]nucleoplasm))', 0): {3,\n",
       "  4},\n",
       " ('CLOCK::Macromolecule([][inactive@]PARP-1#Compartment([]nucleoplasm))',\n",
       "  0): {3, 4},\n",
       " ('CLOCK::NucleicAcidFeature([RNA][]Bmal1#Compartment([]cytoplasm))', 0): {3,\n",
       "  4},\n",
       " ('CLOCK::NucleicAcidFeature([RNA][]Clock#Compartment([]cytoplasm))', 0): {3,\n",
       "  4},\n",
       " ('CLOCK::NucleicAcidFeature([RNA][]Wee1#Compartment([]cytoplasm))', 0): {3,\n",
       "  4},\n",
       " ('CLOCK::NucleicAcidFeature([][]Bmal1#Compartment([]nucleoplasm))', 0): {3,\n",
       "  4},\n",
       " ('CLOCK::NucleicAcidFeature([][]Clock#Compartment([]nucleoplasm))', 0): {3,\n",
       "  4},\n",
       " ('CLOCK::NucleicAcidFeature([][]Wee1#Compartment([]nucleoplasm))', 0): {3, 4},\n",
       " ('CLOCK::SimpleChemical([][]NAD+#Compartment([]nucleoplasm))', 0): {3, 4},\n",
       " ('MERGE::Macromolecule([][@Ser472|@Ser53]WEE1#Compartment([]nucleoplasm))',\n",
       "  0): {3, 4}}"
      ]
     },
     "execution_count": 24,
     "metadata": {},
     "output_type": "execute_result"
    }
   ],
   "source": [
    "ms = an.oneshot_mutations_for_cut(an_cycle_markers[\"G2\"], maxsize=8)\n",
    "list_interesting(ms, clock_ids)"
   ]
  },
  {
   "cell_type": "code",
   "execution_count": 25,
   "metadata": {},
   "outputs": [
    {
     "data": {
      "text/markdown": [
       "This computation is an *under-approximation*: returned mutations are all valid, but they may be non-minimal, and some solutions may be missed."
      ],
      "text/plain": [
       "<IPython.core.display.Markdown object>"
      ]
     },
     "metadata": {},
     "output_type": "display_data"
    },
    {
     "data": {
      "text/markdown": [
       "Limiting solutions to mutations of at most 8 automata. Use `maxsize` argument to change."
      ],
      "text/plain": [
       "<IPython.core.display.Markdown object>"
      ]
     },
     "metadata": {},
     "output_type": "display_data"
    },
    {
     "data": {
      "text/plain": [
       "{('CLOCK::Complex([SubMacromolecule([][@|@L538|@S17|P@S90|@T21]BMAL1)|SubMacromolecule([][]CK2α)][][]BMAL1/CK2a#Compartment([]nucleoplasm))',\n",
       "  0): {1},\n",
       " ('CLOCK::Complex([SubMacromolecule([][@|@S121|@S661]PER1)|SubMacromolecule([][@|@S280|@S71]CRY1)|SubMacromolecule([][@|@S558]CRY2)|SubMacromolecule([][@|Ac@L538|@S17|P@S90|@T21]BMAL1)|SubMacromolecule([][ADPr@]CLOCK)|SubMacromolecule([][Ac@|@|@S662]PER2)|SubMacromolecule([][]CSNK1δ)|SubMacromolecule([][]CSNK1ε)][][]PER/CRY/CSNK1/CLOCK/BMAL1#Compartment([]nucleoplasm))',\n",
       "  1): {1},\n",
       " ('CLOCK::Complex([SubMacromolecule([][@|Ac@L538|@S17|P@S90|@T21]BMAL1)|SubMacromolecule([][ADPr@]CLOCK)|SubMacromolecule([][]CK2α)][][]BMAL1/CLOCK/CK2α#Compartment([]nucleoplasm))',\n",
       "  0): {1},\n",
       " ('CLOCK::Complex([SubMacromolecule([][]MIZ1)|SubMacromolecule([][]MYC)][][]MYC/MIZ1#Compartment([]nucleoplasm))',\n",
       "  1): {1},\n",
       " ('CLOCK::Macromolecule([][@Ser472|@Ser53]WEE1#Compartment([]cytoplasm))',\n",
       "  0): {1},\n",
       " ('CLOCK::Macromolecule([][@|@L538|@S17|@S90|@T21]BMAL1#Compartment([]cytoplasm))',\n",
       "  0): {1},\n",
       " ('CLOCK::Macromolecule([][@|@L538|@S17|@S90|@T21]BMAL1#Compartment([]nucleoplasm))',\n",
       "  0): {1},\n",
       " ('CLOCK::Macromolecule([][@|@L538|@S17|P@S90|@T21]BMAL1#Compartment([]nucleoplasm))',\n",
       "  0): {1},\n",
       " ('CLOCK::Macromolecule([][@|P@S55|@T274]NR1D1#Compartment([]nucleoplasm))',\n",
       "  1): {1},\n",
       " ('CLOCK::Macromolecule([][ADPr@]CLOCK#Compartment([]nucleoplasm))', 0): {1},\n",
       " ('CLOCK::Macromolecule([][]CK2α#Compartment([]nucleoplasm))', 0): {1},\n",
       " ('CLOCK::Macromolecule([][]CLOCK#Compartment([]cytoplasm))', 0): {1},\n",
       " ('CLOCK::Macromolecule([][]CLOCK#Compartment([]nucleoplasm))', 0): {1},\n",
       " ('CLOCK::Macromolecule([][]MIZ1#Compartment([]nucleoplasm))', 0): {1},\n",
       " ('CLOCK::Macromolecule([][active@]PARP-1#Compartment([]nucleoplasm))',\n",
       "  0): {1},\n",
       " ('CLOCK::Macromolecule([][inactive@]PARP-1#Compartment([]nucleoplasm))',\n",
       "  0): {1},\n",
       " ('CLOCK::NucleicAcidFeature([RNA][]Bmal1#Compartment([]cytoplasm))', 0): {1},\n",
       " ('CLOCK::NucleicAcidFeature([RNA][]Clock#Compartment([]cytoplasm))', 0): {1},\n",
       " ('CLOCK::NucleicAcidFeature([RNA][]Wee1#Compartment([]cytoplasm))', 0): {1},\n",
       " ('CLOCK::NucleicAcidFeature([][]Bmal1#Compartment([]nucleoplasm))', 0): {1},\n",
       " ('CLOCK::NucleicAcidFeature([][]Clock#Compartment([]nucleoplasm))', 0): {1},\n",
       " ('CLOCK::NucleicAcidFeature([][]Wee1#Compartment([]nucleoplasm))', 0): {1},\n",
       " ('CLOCK::SimpleChemical([][]NAD+#Compartment([]nucleoplasm))', 0): {1},\n",
       " ('MERGE::Complex([SubMacromolecule([][@Thr14|@Thr161|@Tyr15]CDK1)|SubMacromolecule([][]CCNB1)][][]CCNB1/CDK1#Compartment([]cytoplasm))',\n",
       "  0): {1},\n",
       " ('MERGE::Macromolecule([][@Ser472|@Ser53]WEE1#Compartment([]nucleoplasm))',\n",
       "  0): {1}}"
      ]
     },
     "execution_count": 25,
     "metadata": {},
     "output_type": "execute_result"
    }
   ],
   "source": [
    "ms = an.oneshot_mutations_for_cut(an_cycle_markers[\"M\"], maxsize=8)\n",
    "list_interesting(ms, clock_ids)"
   ]
  },
  {
   "cell_type": "markdown",
   "metadata": {},
   "source": [
    "## CLOCK markers"
   ]
  },
  {
   "cell_type": "code",
   "execution_count": 26,
   "metadata": {},
   "outputs": [
    {
     "data": {
      "text/plain": [
       "dict_keys(['RORG', 'SIRT1', 'BMAL1-CLOCK', 'PER12-CRY12'])"
      ]
     },
     "execution_count": 26,
     "metadata": {},
     "output_type": "execute_result"
    }
   ],
   "source": [
    "an_clock_markers.keys()"
   ]
  },
  {
   "cell_type": "code",
   "execution_count": 27,
   "metadata": {},
   "outputs": [
    {
     "data": {
      "text/markdown": [
       "This computation is an *under-approximation*: returned mutations are all valid, but they may be non-minimal, and some solutions may be missed."
      ],
      "text/plain": [
       "<IPython.core.display.Markdown object>"
      ]
     },
     "metadata": {},
     "output_type": "display_data"
    },
    {
     "data": {
      "text/markdown": [
       "Limiting solutions to mutations of at most 8 automata. Use `maxsize` argument to change."
      ],
      "text/plain": [
       "<IPython.core.display.Markdown object>"
      ]
     },
     "metadata": {},
     "output_type": "display_data"
    },
    {
     "data": {
      "text/plain": [
       "[]"
      ]
     },
     "execution_count": 27,
     "metadata": {},
     "output_type": "execute_result"
    }
   ],
   "source": [
    "ms = an.oneshot_mutations_for_cut(an_clock_markers[\"RORG\"], maxsize=8)\n",
    "[pretty_mutations(m) for m in ms if cycle_ids.intersection(m)]"
   ]
  },
  {
   "cell_type": "code",
   "execution_count": 28,
   "metadata": {
    "scrolled": true
   },
   "outputs": [
    {
     "data": {
      "text/markdown": [
       "This computation is an *under-approximation*: returned mutations are all valid, but they may be non-minimal, and some solutions may be missed."
      ],
      "text/plain": [
       "<IPython.core.display.Markdown object>"
      ]
     },
     "metadata": {},
     "output_type": "display_data"
    },
    {
     "data": {
      "text/markdown": [
       "Limiting solutions to mutations of at most 8 automata. Use `maxsize` argument to change."
      ],
      "text/plain": [
       "<IPython.core.display.Markdown object>"
      ]
     },
     "metadata": {},
     "output_type": "display_data"
    },
    {
     "data": {
      "text/plain": [
       "[]"
      ]
     },
     "execution_count": 28,
     "metadata": {},
     "output_type": "execute_result"
    }
   ],
   "source": [
    "ms = an.oneshot_mutations_for_cut(an_clock_markers[\"SIRT1\"], maxsize=8)\n",
    "[pretty_mutations(m) for m in ms if cycle_ids.intersection(m)]"
   ]
  },
  {
   "cell_type": "code",
   "execution_count": 29,
   "metadata": {},
   "outputs": [
    {
     "data": {
      "text/markdown": [
       "This computation is an *under-approximation*: returned mutations are all valid, but they may be non-minimal, and some solutions may be missed."
      ],
      "text/plain": [
       "<IPython.core.display.Markdown object>"
      ]
     },
     "metadata": {},
     "output_type": "display_data"
    },
    {
     "data": {
      "text/markdown": [
       "Limiting solutions to mutations of at most 8 automata. Use `maxsize` argument to change."
      ],
      "text/plain": [
       "<IPython.core.display.Markdown object>"
      ]
     },
     "metadata": {},
     "output_type": "display_data"
    },
    {
     "data": {
      "text/plain": [
       "[]"
      ]
     },
     "execution_count": 29,
     "metadata": {},
     "output_type": "execute_result"
    }
   ],
   "source": [
    "ms = an.oneshot_mutations_for_cut(an_clock_markers[\"BMAL1-CLOCK\"], maxsize=8)\n",
    "[pretty_mutations(m) for m in ms if cycle_ids.intersection(m)]"
   ]
  },
  {
   "cell_type": "code",
   "execution_count": 30,
   "metadata": {},
   "outputs": [
    {
     "data": {
      "text/markdown": [
       "This computation is an *under-approximation*: returned mutations are all valid, but they may be non-minimal, and some solutions may be missed."
      ],
      "text/plain": [
       "<IPython.core.display.Markdown object>"
      ]
     },
     "metadata": {},
     "output_type": "display_data"
    },
    {
     "data": {
      "text/markdown": [
       "Limiting solutions to mutations of at most 8 automata. Use `maxsize` argument to change."
      ],
      "text/plain": [
       "<IPython.core.display.Markdown object>"
      ]
     },
     "metadata": {},
     "output_type": "display_data"
    },
    {
     "data": {
      "text/plain": [
       "[]"
      ]
     },
     "execution_count": 30,
     "metadata": {},
     "output_type": "execute_result"
    }
   ],
   "source": [
    "ms = an.oneshot_mutations_for_cut(an_clock_markers[\"PER12-CRY12\"], maxsize=8)\n",
    "[pretty_mutations(m) for m in ms if cycle_ids.intersection(m)]"
   ]
  }
 ],
 "metadata": {
  "kernelspec": {
   "display_name": "Python 3",
   "language": "python",
   "name": "python3"
  },
  "language_info": {
   "codemirror_mode": {
    "name": "ipython",
    "version": 3
   },
   "file_extension": ".py",
   "mimetype": "text/x-python",
   "name": "python",
   "nbconvert_exporter": "python",
   "pygments_lexer": "ipython3",
   "version": "3.8.3"
  }
 },
 "nbformat": 4,
 "nbformat_minor": 4
}
