{
 "cells": [
  {
   "cell_type": "code",
   "execution_count": null,
   "metadata": {
    "scrolled": true
   },
   "outputs": [],
   "source": [
    "from IPython.display import HTML, display\n",
    "import csbgnpy.pd.io.sbgnml\n",
    "import pypint\n",
    "from tabulate import tabulate"
   ]
  },
  {
   "cell_type": "markdown",
   "metadata": {},
   "source": [
    "## Merged map\n",
    "\n",
    "From [1 - Merge CYCLE and CLOCK](1%20-%20Merge%20CYCLE%20and%20CLOCK.ipynb)"
   ]
  },
  {
   "cell_type": "code",
   "execution_count": null,
   "metadata": {},
   "outputs": [],
   "source": [
    "merge_file = \"generated/MERGE.sbgnml\"\n",
    "merge = csbgnpy.pd.io.sbgnml.read(merge_file)"
   ]
  },
  {
   "cell_type": "markdown",
   "metadata": {},
   "source": [
    "## Phases and markers\n",
    "\n",
    "From [2 - Markers](2%20-%20Markers.ipynb)"
   ]
  },
  {
   "cell_type": "code",
   "execution_count": null,
   "metadata": {},
   "outputs": [],
   "source": [
    "%store -r clock_markers\n",
    "%store -r clock_phases"
   ]
  },
  {
   "cell_type": "markdown",
   "metadata": {},
   "source": [
    "To ids:"
   ]
  },
  {
   "cell_type": "code",
   "execution_count": null,
   "metadata": {},
   "outputs": [],
   "source": [
    "markers = {phase: [merge.get_entity(e, by_string=True).id for e in ms]\n",
    "               for phase, ms in clock_markers.items()}"
   ]
  },
  {
   "cell_type": "markdown",
   "metadata": {},
   "source": [
    "## Initial state\n",
    "\n",
    "From [3 - Initial state](3%20-%20Initial%20state.ipynb)"
   ]
  },
  {
   "cell_type": "code",
   "execution_count": null,
   "metadata": {},
   "outputs": [],
   "source": [
    "%store -r inis"
   ]
  },
  {
   "cell_type": "markdown",
   "metadata": {},
   "source": [
    "To ids:"
   ]
  },
  {
   "cell_type": "code",
   "execution_count": null,
   "metadata": {},
   "outputs": [],
   "source": [
    "inis = {code: [e.id for e in ini] for code, ini in inis.items()}"
   ]
  },
  {
   "cell_type": "markdown",
   "metadata": {},
   "source": [
    "## Dynamical models"
   ]
  },
  {
   "cell_type": "code",
   "execution_count": null,
   "metadata": {},
   "outputs": [],
   "source": [
    "ans = [pypint.load(merge_file, initial_state=ini) for ini in inis.values()]"
   ]
  },
  {
   "cell_type": "markdown",
   "metadata": {},
   "source": [
    "## A. Reach each phase"
   ]
  },
  {
   "cell_type": "code",
   "execution_count": null,
   "metadata": {
    "scrolled": true
   },
   "outputs": [],
   "source": [
    "results = []\n",
    "for i, (code, ini) in enumerate(inis.items()):\n",
    "    print(\"Computing for precursor state {}\".format(code))\n",
    "    an = ans[i]\n",
    "    res_ini = [code]\n",
    "    for phase in markers:\n",
    "        res = []\n",
    "        for marker in markers[phase]:\n",
    "            res.append(an.reachability((marker, 1), fallback=\"mole\"))\n",
    "        res_ini.append(\"{}/{}\".format(sum(res), len(res)))\n",
    "    results.append(res_ini)\n",
    "results = sorted(results, key=lambda x: x[0])"
   ]
  },
  {
   "cell_type": "code",
   "execution_count": null,
   "metadata": {},
   "outputs": [],
   "source": [
    "display(HTML(tabulate(results, headers=[\"Precursor state\"] + list(markers.keys()), tablefmt=\"html\")))"
   ]
  },
  {
   "cell_type": "markdown",
   "metadata": {},
   "source": [
    "## B. Reach each phase with other phases to zero"
   ]
  },
  {
   "cell_type": "code",
   "execution_count": null,
   "metadata": {
    "scrolled": true
   },
   "outputs": [],
   "source": [
    "results = []\n",
    "for i, (code, ini) in enumerate(inis.items()):\n",
    "    print(\"Computing for precursor state {}\".format(code))\n",
    "    an = ans[i]\n",
    "    res_ini = [code]\n",
    "    for phase in markers:\n",
    "        res = []\n",
    "        for marker in markers[phase]:\n",
    "            l = [(marker, 1)]\n",
    "            for other_phase in markers:\n",
    "                if other_phase != phase:\n",
    "                    l += [(marker2, 0) for marker2 in markers[other_phase]]\n",
    "            res.append(an.reachability(dict(l), reduce_for_goal=True, fallback=\"mole\"))\n",
    "        res_ini.append(\"{}/{}\".format(sum(res), len(res)))\n",
    "    results.append(res_ini)\n",
    "results = sorted(results, key=lambda x: x[0])"
   ]
  },
  {
   "cell_type": "code",
   "execution_count": null,
   "metadata": {
    "scrolled": true
   },
   "outputs": [],
   "source": [
    "display(HTML(tabulate(results, headers=[\"Precursor state\"] + list(markers.keys()), tablefmt=\"html\")))"
   ]
  },
  {
   "cell_type": "markdown",
   "metadata": {},
   "source": [
    "## C. Reach each phase with previous phase(s) disabled"
   ]
  },
  {
   "cell_type": "code",
   "execution_count": null,
   "metadata": {},
   "outputs": [],
   "source": [
    "results = []\n",
    "couples = [([\"RORG\"], \"SIRT1\"), ([\"SIRT1\"], \"BMAL1-CLOCK\"), ([\"RORG\"], \"BMAL1-CLOCK\"), ([\"BMAL1-CLOCK\"], \"PER-CRY\"), ([\"PER-CRY\"], \"RORG\")]\n",
    "for i, (code, ini) in enumerate(inis.items()):\n",
    "    print(\"Computing for precursor state {}\".format(code))\n",
    "    an = ans[i]\n",
    "    res_ini = [code]\n",
    "    for phases_disabled, phase in couples:\n",
    "        res = []\n",
    "        an_disabled = an.disable([(marker, 1) for phase_disabled in phases_disabled for marker in markers[phase_disabled]])\n",
    "        for marker in markers[phase]:\n",
    "            res.append(an_disabled.reachability((marker, 1), fallback=\"mole\"))\n",
    "        res_ini.append(\"{}/{}\".format(sum(res), len(res)))    \n",
    "    results.append(res_ini)\n",
    "results = sorted(results, key=lambda x: x[0])"
   ]
  },
  {
   "cell_type": "code",
   "execution_count": null,
   "metadata": {
    "scrolled": true
   },
   "outputs": [],
   "source": [
    "display(HTML(tabulate(results, headers=[\"Precursor state\"] + [\"{} -> {}\".format(\", \".join(phases_disabled), phase) for phases_disabled, phase in couples], tablefmt=\"html\")))"
   ]
  },
  {
   "cell_type": "markdown",
   "metadata": {},
   "source": [
    "## D. Reach each phase with all markers to 1"
   ]
  },
  {
   "cell_type": "code",
   "execution_count": null,
   "metadata": {},
   "outputs": [],
   "source": [
    "results = []\n",
    "for i, (code, ini) in enumerate(inis.items()):\n",
    "    print(\"Computing for precursor state {}\".format(code))\n",
    "    an = ans[i]\n",
    "    res_ini = [code]\n",
    "    seq = []\n",
    "    for phase in markers:\n",
    "        l = [(marker, 1) for marker in markers[phase]]\n",
    "        res_ini.append(str(an.reachability(dict(l), reduce_for_goal=True, fallback=\"mole\")))\n",
    "    results.append(res_ini)\n",
    "results = sorted(results, key=lambda x: x[0])"
   ]
  },
  {
   "cell_type": "code",
   "execution_count": null,
   "metadata": {},
   "outputs": [],
   "source": [
    "display(HTML(tabulate(results, headers=[\"Precursor state\"] + list(markers.keys()), tablefmt=\"html\")))"
   ]
  },
  {
   "cell_type": "markdown",
   "metadata": {},
   "source": [
    "## E. Reach each phase sequentially with all markers to 1"
   ]
  },
  {
   "cell_type": "code",
   "execution_count": null,
   "metadata": {},
   "outputs": [],
   "source": [
    "results = []\n",
    "for i, (code, ini) in enumerate(inis.items()):\n",
    "    print(\"Computing for precursor state {}\".format(code))\n",
    "    an = ans[i]\n",
    "    res_ini = [code]\n",
    "    seq = []\n",
    "    for phase in markers:\n",
    "        l = [(marker, 1) for marker in markers[phase]]\n",
    "        seq.append(dict(l))\n",
    "    res_ini.append(str(an.reachability(goal=pypint.Goal(*seq), reduce_for_goal=True, fallback=\"mole\")))\n",
    "    results.append(res_ini)\n",
    "results = sorted(results, key=lambda x: x[0])"
   ]
  },
  {
   "cell_type": "code",
   "execution_count": null,
   "metadata": {
    "scrolled": true
   },
   "outputs": [],
   "source": [
    "display(HTML(tabulate(results, headers=[\"Precursor state\", \"Reachable\"], tablefmt=\"html\")))"
   ]
  },
  {
   "cell_type": "markdown",
   "metadata": {},
   "source": [
    "## F. Reach each phase sequentially with all markers to 1 and other phases to 0"
   ]
  },
  {
   "cell_type": "code",
   "execution_count": null,
   "metadata": {},
   "outputs": [],
   "source": [
    "results = []\n",
    "for i, (code, ini) in enumerate(inis.items()):\n",
    "    print(\"Computing for precursor state {}\".format(code))\n",
    "    an = ans[i]\n",
    "    res_ini = [code]\n",
    "    seq = []\n",
    "    for phase in markers:\n",
    "        l = [(marker, 1) for marker in markers[phase]]\n",
    "        for other_phase in markers:\n",
    "            if other_phase != phase:\n",
    "                l += [(marker2, 0) for marker2 in markers[other_phase]]\n",
    "        seq.append(dict(l))\n",
    "    res_ini.append(str(an.reachability(goal=pypint.Goal(*seq), reduce_for_goal=True, fallback=\"mole\")))\n",
    "    results.append(res_ini)\n",
    "results = sorted(results, key=lambda x: x[0])"
   ]
  },
  {
   "cell_type": "code",
   "execution_count": null,
   "metadata": {
    "scrolled": false
   },
   "outputs": [],
   "source": [
    "display(HTML(tabulate(results, headers=[\"Precursor state\", \"Reachable\"], tablefmt=\"html\")))"
   ]
  },
  {
   "cell_type": "markdown",
   "metadata": {},
   "source": [
    "## G. Reach each phase sequentially with all markers to 1 and other phases to zero n times (n > 1)"
   ]
  },
  {
   "cell_type": "code",
   "execution_count": null,
   "metadata": {},
   "outputs": [],
   "source": [
    "results = []\n",
    "n = 4\n",
    "for i, (code, ini) in enumerate(inis.items()):\n",
    "    print(\"Computing for precursor state {}\".format(code))\n",
    "    an = ans[i]\n",
    "    res_ini = [code]\n",
    "    seq = []\n",
    "    for phase in markers:\n",
    "        l = [(marker, 1) for marker in markers[phase]]\n",
    "        for other_phase in markers:\n",
    "            if other_phase != phase:\n",
    "                l += [(marker2, 0) for marker2 in markers[other_phase]]\n",
    "        seq.append(dict(l))\n",
    "    seq = seq * n\n",
    "    res_ini.append(str(an.reachability(goal=pypint.Goal(*seq), reduce_for_goal=True, fallback=\"mole\")))\n",
    "    results.append(res_ini)\n",
    "results = sorted(results, key=lambda x: x[0])"
   ]
  },
  {
   "cell_type": "code",
   "execution_count": null,
   "metadata": {
    "scrolled": false
   },
   "outputs": [],
   "source": [
    "display(HTML(tabulate(results, headers=[\"Precursor state\", \"Reachable\"], tablefmt=\"html\")))"
   ]
  },
  {
   "cell_type": "code",
   "execution_count": null,
   "metadata": {},
   "outputs": [],
   "source": []
  }
 ],
 "metadata": {
  "kernelspec": {
   "display_name": "Python 3",
   "language": "python",
   "name": "python3"
  },
  "language_info": {
   "codemirror_mode": {
    "name": "ipython",
    "version": 3
   },
   "file_extension": ".py",
   "mimetype": "text/x-python",
   "name": "python",
   "nbconvert_exporter": "python",
   "pygments_lexer": "ipython3",
   "version": "3.9.2"
  }
 },
 "nbformat": 4,
 "nbformat_minor": 4
}
