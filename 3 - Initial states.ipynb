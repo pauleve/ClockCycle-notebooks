{
 "cells": [
  {
   "cell_type": "code",
   "execution_count": 1,
   "metadata": {},
   "outputs": [],
   "source": [
    "import csbgnpy.pd.io.cd\n",
    "import csbgnpy.pd.io.sbgnml\n",
    "import sbgn2an.utils\n",
    "import sbgn2an.ini"
   ]
  },
  {
   "cell_type": "markdown",
   "metadata": {},
   "source": [
    "## Merged map\n",
    "\n",
    "From [1 - Merge CYCLE and CLOCK](1%20-%20Merge%20CYCLE%20and%20CLOCK.ipynb)"
   ]
  },
  {
   "cell_type": "code",
   "execution_count": 2,
   "metadata": {},
   "outputs": [],
   "source": [
    "merge = csbgnpy.pd.io.sbgnml.read(\"generated/MERGE.sbgnml\")"
   ]
  },
  {
   "cell_type": "markdown",
   "metadata": {},
   "source": [
    "## Precursor states"
   ]
  },
  {
   "cell_type": "markdown",
   "metadata": {},
   "source": [
    "We compute all precursor states that respect the constraints given in the paper, and that contains the pRB:E2F1:DP2 complex."
   ]
  },
  {
   "cell_type": "code",
   "execution_count": 3,
   "metadata": {
    "scrolled": false
   },
   "outputs": [
    {
     "name": "stdout",
     "output_type": "stream",
     "text": [
      "24\n"
     ]
    }
   ],
   "source": [
    "inis = sbgn2an.ini.get_ini(merge, in_ini=[merge.get_entity(\"Complex([SubMacromolecule([][@|@|@|@]pRB*)|SubMacromolecule([][@]DP1*)|SubMacromolecule([][@Ser364|@Ser31|@Ser403|@Lys|@]E2F1)][][]pRB*/E2F1/DP1*#Compartment(nucleoplasm))\", by_string=True)])\n",
    "print(len(inis))"
   ]
  },
  {
   "cell_type": "markdown",
   "metadata": {},
   "source": [
    "We obtain 24 possible precursor states.\n",
    "We check the difference between each initial state.\n",
    "For this we first compute the intersection of all precursor states."
   ]
  },
  {
   "cell_type": "code",
   "execution_count": 4,
   "metadata": {},
   "outputs": [],
   "source": [
    "inter = set([e.id for e in inis[0]])\n",
    "for ini in inis[1:]:\n",
    "    inter = inter.intersection(set([e.id for e in ini]))"
   ]
  },
  {
   "cell_type": "code",
   "execution_count": 5,
   "metadata": {
    "scrolled": true
   },
   "outputs": [
    {
     "name": "stdout",
     "output_type": "stream",
     "text": [
      "[106, 106, 106, 106, 106, 106, 106, 106, 106, 106, 106, 106, 106, 106, 106, 106, 106, 106, 106, 106, 106, 106, 106, 106]\n",
      "102\n"
     ]
    }
   ],
   "source": [
    "print([len(ini) for ini in inis])\n",
    "print(len(inter))"
   ]
  },
  {
   "cell_type": "markdown",
   "metadata": {},
   "source": [
    "Each of the 24 precursor states is constituted of 106 entities, 102 of which are common to all precursor states.\n",
    "Hence we check the nature of the entities that do not belong to all initial states."
   ]
  },
  {
   "cell_type": "code",
   "execution_count": 6,
   "metadata": {
    "scrolled": false
   },
   "outputs": [
    {
     "name": "stdout",
     "output_type": "stream",
     "text": [
      "['Macromolecule([][]DP2*#Compartment([]nucleoplasm))', 'SimpleChemical([][]NAM#Compartment([]nucleoplasm))', 'SimpleChemical([][]NMN#Compartment([]nucleoplasm))', 'Macromolecule([][]E2F4#Compartment([]cytoplasm))', 'Macromolecule([][@|@|@Ser15|@Ser20]TP53#Compartment([]nucleoplasm))', 'Macromolecule([][]E2F4#Compartment([]nucleoplasm))', 'SimpleChemical([][]NAD+#Compartment([]nucleoplasm))', 'Macromolecule([][]DP2*#Compartment([]cytoplasm))', 'Macromolecule([][@|@|@Ser15|@Ser20]TP53#Compartment([]cytoplasm))']\n"
     ]
    }
   ],
   "source": [
    "tot_diff = set([])\n",
    "for ini in inis:\n",
    "    ini = set([e.id for e in ini])\n",
    "    diff = ini.difference(inter)\n",
    "    tot_diff = tot_diff.union(diff)\n",
    "    \n",
    "print([str(merge.get_entity(e, by_id=True)) for e in tot_diff])\n"
   ]
  },
  {
   "cell_type": "markdown",
   "metadata": {},
   "source": [
    "For each initial state, the 4 entities that do not belong to all initial states are to be chosen as follows (2 x 2 x 2 x 3 = 24 possibilities): \n",
    "\n",
    "* TP53: \"Macromolecule([][@|@|@Ser15|@Ser20]TP53#Compartment([]cytoplasm))\" or \"Macromolecule([][@|@|@Ser15|@Ser20]TP53#Compartment([]nucleoplasm))\"\n",
    "* E2F4: \"Macromolecule([][]E2F4#Compartment([]cytoplasm))\" or \"Macromolecule([][]E2F4#Compartment([]nucleoplasm))\"\n",
    "* DP2: \"Macromolecule([][]DP2\\*#Compartment([]cytoplasm))\" or \"Macromolecule([][]DP2*#Compartment([]nucleoplasm))\"\n",
    "* NAD+/NAM/NMN: \"SimpleChemical([][]NAD+#Compartment([]nucleoplasm))\" or \"SimpleChemical([][]NAM#Compartment([]nucleoplasm))\" or \"SimpleChemical([][]NMN#Compartment([]nucleoplasm))\"\n",
    "\n",
    "For p53, E2F4, DP2, the entities have two localizations (cytoplasm and nucleoplasm) and cycling translocation processes from one localization to the other.\n",
    "For the NAD+/NAM/NMN entities, there is a cycle producing the three entities (NAD+->NAM->NMN->NAD+).\n",
    "\n",
    "We consider all initial states. Each initial state is encoded following the choice made for each of the four entities:"
   ]
  },
  {
   "cell_type": "code",
   "execution_count": 7,
   "metadata": {
    "scrolled": true
   },
   "outputs": [
    {
     "name": "stdout",
     "output_type": "stream",
     "text": [
      "Stored 'inis' (dict)\n"
     ]
    }
   ],
   "source": [
    "nad = [\"SimpleChemical([][]NAD+#Compartment([]nucleoplasm))\", \"SimpleChemical([][]NAM#Compartment([]nucleoplasm))\", \"SimpleChemical([][]NMN#Compartment([]nucleoplasm))\"] # code: [1XXX, 2XXX, 3XXX]\n",
    "e2f4 = [\"Macromolecule([][]E2F4#Compartment([]cytoplasm))\", \"Macromolecule([][]E2F4#Compartment([]nucleoplasm))\"] # code: [X1XX, X2XX]\n",
    "dp2 = [\"Macromolecule([][]DP2*#Compartment([]cytoplasm))\", \"Macromolecule([][]DP2*#Compartment([]nucleoplasm))\"] # code: [XX1X, XX2X]\n",
    "p53 = [\"Macromolecule([][@|@|@Ser15|@Ser20]TP53#Compartment([]cytoplasm))\", \"Macromolecule([][@|@|@Ser15|@Ser20]TP53#Compartment([]nucleoplasm))\"] # code: [XXX1, XXX2]\n",
    "choices = [nad, e2f4, dp2, p53]\n",
    "\n",
    "dinis = {}\n",
    "\n",
    "for ini in inis:\n",
    "    sini = [str(e) for e in ini]\n",
    "    code = []\n",
    "    for i in range(len(choices)):\n",
    "        for j in range(len(choices[i])):\n",
    "            if choices[i][j] in sini:\n",
    "                code.append(j + 1)\n",
    "    assert len(code) == 4\n",
    "    dinis[\"\".join([str(e) for e in code])] = ini\n",
    "\n",
    "inis = dinis\n",
    "%store inis"
   ]
  },
  {
   "cell_type": "markdown",
   "metadata": {},
   "source": [
    "### Inputs of CLOCK in the precursor states"
   ]
  },
  {
   "cell_type": "code",
   "execution_count": 8,
   "metadata": {},
   "outputs": [],
   "source": [
    "inputs = [\"UnspecifiedEntity(Heat#Compartment([]extracellular))\", \"SimpleChemical([][]GC#Compartment([]extracellular))\"]"
   ]
  },
  {
   "cell_type": "code",
   "execution_count": 9,
   "metadata": {},
   "outputs": [
    {
     "name": "stdout",
     "output_type": "stream",
     "text": [
      "3121 2/2\n",
      "3221 2/2\n",
      "1121 2/2\n",
      "1221 2/2\n",
      "3111 2/2\n",
      "3211 2/2\n",
      "1111 2/2\n",
      "1211 2/2\n",
      "3122 2/2\n",
      "1122 2/2\n",
      "3222 2/2\n",
      "1222 2/2\n",
      "3112 2/2\n",
      "1112 2/2\n",
      "3212 2/2\n",
      "1212 2/2\n",
      "2121 2/2\n",
      "2221 2/2\n",
      "2122 2/2\n",
      "2222 2/2\n",
      "2111 2/2\n",
      "2112 2/2\n",
      "2211 2/2\n",
      "2212 2/2\n"
     ]
    }
   ],
   "source": [
    "for code, ini in inis.items():\n",
    "    print(code, \"{}/{}\".format(len([e for e in inputs if merge.get_entity(e, by_string=True) in ini]), len(inputs)))"
   ]
  },
  {
   "cell_type": "code",
   "execution_count": null,
   "metadata": {},
   "outputs": [],
   "source": []
  }
 ],
 "metadata": {
  "kernelspec": {
   "display_name": "Python 3",
   "language": "python",
   "name": "python3"
  },
  "language_info": {
   "codemirror_mode": {
    "name": "ipython",
    "version": 3
   },
   "file_extension": ".py",
   "mimetype": "text/x-python",
   "name": "python",
   "nbconvert_exporter": "python",
   "pygments_lexer": "ipython3",
   "version": "3.9.1"
  }
 },
 "nbformat": 4,
 "nbformat_minor": 2
}
