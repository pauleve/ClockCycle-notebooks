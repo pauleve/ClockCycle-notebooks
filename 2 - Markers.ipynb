{
 "cells": [
  {
   "cell_type": "code",
   "execution_count": 1,
   "metadata": {},
   "outputs": [],
   "source": [
    "import csbgnpy.pd.io.sbgnml"
   ]
  },
  {
   "cell_type": "markdown",
   "metadata": {},
   "source": [
    "## CYCLE\n",
    "\n",
    "From [1 - Merge CYCLE and CLOCK](1%20-%20Merge%20CYCLE%20and%20CLOCK.ipynb)"
   ]
  },
  {
   "cell_type": "code",
   "execution_count": 2,
   "metadata": {},
   "outputs": [],
   "source": [
    "cycle = csbgnpy.pd.io.sbgnml.read(\"generated/CYCLE.sbgnml\")"
   ]
  },
  {
   "cell_type": "code",
   "execution_count": 3,
   "metadata": {},
   "outputs": [
    {
     "name": "stdout",
     "output_type": "stream",
     "text": [
      "Stored 'cycle_phases' (list)\n",
      "Stored 'cycle_markers' (dict)\n"
     ]
    }
   ],
   "source": [
    "cycle_phases = [\"G0\", \"earlyG1\", \"lateG1\", \"earlyS\", \"lateS\", \"G2\", \"M\"]\n",
    "%store cycle_phases\n",
    "\n",
    "markers = {}\n",
    "markers[\"G0\"] = [\"Complex([SubMacromolecule([][@]p130*)|SubMacromolecule([][]E2F4)|SubMacromolecule([][]DP2*)][][]p130*/E2F4/DP2*#Compartment(cytoplasm))\",\n",
    "        \"Complex([SubMacromolecule([][@]p107*)|SubMacromolecule([][]E2F4)|SubMacromolecule([][]DP2*)][][]p107*/E2F4/DP2*#Compartment(nucleoplasm))\"]\n",
    "\n",
    "markers[\"earlyG1\"] = [\"Complex([SubMacromolecule([][@Thr286]cyclin D1*)|SubMacromolecule([][P@Thr]CDK6)|SubMacromolecule([][@Thr187|@Thr157]p27Kip1*)][][]cyclin D1*/CDK6/CDKN1B#Compartment(nucleoplasm))\",\n",
    "        \"Complex([SubMacromolecule([][@|@|@|@]pRB*)|SubMacromolecule([][@Ser364|@Ser31|@|@Ser403|@Lys]E2F1)|SubMacromolecule([][@]DP1*)|SubMacromolecule([][@]SWI/SNF)|SubMacromolecule([][]HDAC1)][][]pRB*/E2F1/DP1*/SWI/SNF/HDAC1#Compartment(nucleoplasm))\",\n",
    "        \"Complex([SubMacromolecule([][@]SWI/SNF)|SubMacromolecule([][]HDAC1)|SubMacromolecule([][]SUV39H1)|SubMacromolecule([][@|@|@|@]pRB*)|SubMacromolecule([][@]DP1*)|SubMacromolecule([][@Ser364|@Ser31|@|@Ser403|@Lys]E2F1)][][]SWI/SNF/HDAC1/SUV39H1/ pRB*/E2F1/DP1*#Compartment(nucleoplasm))\",\n",
    "        \"Complex([SubMacromolecule([][@Thr286]cyclin D1*)|SubMacromolecule([][P@Thr172|@NF]CDK4)|SubMacromolecule([][@Thr187|@Thr157]p27Kip1*)][][]cyclin D1*/CDK4/CDKN1B#Compartment(nucleoplasm))\",\n",
    "        \"Complex([SubMacromolecule([][@|@|@|@]pRB*)|SubMacromolecule([][@]DP1*)|SubMacromolecule([][@]SWI/SNF)|SubMacromolecule([][]HDAC1)|SubMacromolecule([][]SUV39H1)|SubMacromolecule([][]HP1gamma*)|SubMacromolecule([][@Ser364|@Ser31|@|@Ser403|@Lys]E2F1)][][]pRB*/E2F1/DP1*/SWI/SNF/ HDAC1/SUV39H1/HP1gamma*#Compartment(nucleoplasm))\"]\n",
    "\n",
    "markers[\"lateG1\"] = [\"Complex([SubMacromolecule([][@|@|@|P@]pRB*)|SubMacromolecule([][@]DP1*)|SubMacromolecule([][@]SWI/SNF)|SubMacromolecule([][]HDAC1)|SubMacromolecule([][@Ser364|@Ser31|@|@Ser403|@Lys]E2F1)][][]pRB*/E2F1/DP1*/SWI/SNF/HDAC1#Compartment(nucleoplasm))\",\n",
    "        \"Complex([SubMacromolecule([][@|@|P@|P@]pRB*)|SubMacromolecule([][@]DP1*)|SubMacromolecule([][@]SWI/SNF)|SubMacromolecule([][@Ser364|@Ser31|@|@Ser403|@Lys]E2F1)][][]pRB*/E2F1/DP1*/SWI/SNF#Compartment(nucleoplasm))\"]\n",
    "\n",
    "markers[\"earlyS\"] = [\"Complex([SubMacromolecule([][@Thr380]cyclin E1*)|SubMacromolecule([][@Tyr14|P@Thr160|@Tyr15]CDK2)][][]cyclin E1*/CDK2#Compartment(nucleoplasm))\"]\n",
    "\n",
    "markers[\"lateS\"] = [\"Complex([SubMacromolecule([][@Tyr14|P@Thr160|@Tyr15]CDK2)|SubMacromolecule([][]cyclin A2*)][][]cyclin A2*/CDK2#Compartment(nucleoplasm))\"]\n",
    "\n",
    "markers[\"G2\"] = [\"Complex([SubMacromolecule([][]CCNB1)|SubMacromolecule([][P@Tyr15|@Thr161|@Thr14]CDK1)][][]CCNB1/CDK1#Compartment(cytoplasm))\",\n",
    "        \"Complex([SubMacromolecule([][P@Tyr15|@Thr161|P@Thr14]CDK1)|SubMacromolecule([][]CCNB1)][][]CCNB1/CDK1#Compartment(cytoplasm))\",\n",
    "        \"Complex([SubMacromolecule([][@Tyr15|@Thr161|@Thr14]CDK1)|SubMacromolecule([][]CCNB1)][][]CCNB1/CDK1#Compartment(cytoplasm))\",\n",
    "        \"Complex([SubMacromolecule([][@Tyr15|@Thr161|P@Thr14]CDK1)|SubMacromolecule([][]CCNB1)][][]CCNB1/CDK1#Compartment(cytoplasm))\"]\n",
    "\n",
    "markers[\"M\"] = [\"Macromolecule([][P@|@Ser216]CDC25C#Compartment(nucleoplasm))\",\n",
    "        \"Macromolecule([][P@Ser53|@Ser472]WEE1#Compartment(nucleoplasm))\",\n",
    "        \"Complex([SubMacromolecule([][]CCNB1)|SubMacromolecule([][@Tyr15|P@Thr161|@Thr14]CDK1)][][]CCNB1/CDK1#Compartment(nucleoplasm))\",\n",
    "        \"Macromolecule([][P@]CDC20#Compartment(nucleoplasm))\"]\n",
    "\n",
    "for ms in markers.values():\n",
    "    for m in ms:\n",
    "        assert cycle.get_entity(m, by_string=True), f\"Unknown entity {m}\"\n",
    "\n",
    "cycle_markers = markers\n",
    "%store cycle_markers"
   ]
  },
  {
   "cell_type": "markdown",
   "metadata": {},
   "source": [
    "## CLOCK\n",
    "\n",
    "From [1 - Merge CYCLE and CLOCK](1%20-%20Merge%20CYCLE%20and%20CLOCK.ipynb)"
   ]
  },
  {
   "cell_type": "code",
   "execution_count": 4,
   "metadata": {},
   "outputs": [],
   "source": [
    "clock = csbgnpy.pd.io.sbgnml.read(\"generated/CLOCK.sbgnml\")"
   ]
  },
  {
   "cell_type": "code",
   "execution_count": 5,
   "metadata": {},
   "outputs": [
    {
     "name": "stdout",
     "output_type": "stream",
     "text": [
      "Stored 'clock_phases' (list)\n",
      "Stored 'clock_markers' (dict)\n"
     ]
    }
   ],
   "source": [
    "clock_phases = [\"RORG\", \"SIRT1\", \"BMAL1-CLOCK\", \"PER12-CRY12\"]\n",
    "%store clock_phases\n",
    "\n",
    "markers = {}\n",
    "markers[\"RORG\"] = [\"Macromolecule([][]RORG#Compartment([]nucleoplasm))\"]\n",
    "\n",
    "markers[\"SIRT1\"] = [\"Macromolecule([][active@|@]SIRT1#Compartment([]nucleoplasm))\"]\n",
    "\n",
    "markers[\"BMAL1-CLOCK\"] = [\"Complex([SubMacromolecule([][@|Ac@L538|@S17|P@S90|@T21]BMAL1)|SubMacromolecule([][ADPr@]CLOCK)|SubMacromolecule([][]CK2α)][][]BMAL1/CLOCK/CK2α#Compartment([]nucleoplasm))\"]\n",
    "\n",
    "markers[\"PER12-CRY12\"] = [\"Complex([SubMacromolecule([][@|@S121|@S661]PER1)|SubMacromolecule([][@|@S280|@S71]CRY1)|SubMacromolecule([][@|@S558]CRY2)|SubMacromolecule([][@|Ac@L538|@S17|P@S90|@T21]BMAL1)|SubMacromolecule([][ADPr@]CLOCK)|SubMacromolecule([][Ac@|@|@S662]PER2)|SubMacromolecule([][]CSNK1δ)|SubMacromolecule([][]CSNK1ε)][][]PER/CRY/CSNK1/CLOCK/BMAL1#Compartment([]nucleoplasm))\"]\n",
    "                          \n",
    "for ms in markers.values():\n",
    "    for m in ms:\n",
    "        assert clock.get_entity(m, by_string=True), f\"Unknown entity {m}\"\n",
    "\n",
    "clock_markers = markers\n",
    "%store clock_markers"
   ]
  }
 ],
 "metadata": {
  "kernelspec": {
   "display_name": "Python 3",
   "language": "python",
   "name": "python3"
  },
  "language_info": {
   "codemirror_mode": {
    "name": "ipython",
    "version": 3
   },
   "file_extension": ".py",
   "mimetype": "text/x-python",
   "name": "python",
   "nbconvert_exporter": "python",
   "pygments_lexer": "ipython3",
   "version": "3.8.5"
  }
 },
 "nbformat": 4,
 "nbformat_minor": 4
}
