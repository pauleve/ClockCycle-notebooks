{
 "cells": [
  {
   "cell_type": "code",
   "execution_count": 1,
   "metadata": {},
   "outputs": [],
   "source": [
    "%load_ext autoreload\n",
    "%autoreload 2"
   ]
  },
  {
   "cell_type": "code",
   "execution_count": 2,
   "metadata": {
    "scrolled": true
   },
   "outputs": [
    {
     "data": {
      "text/markdown": [
       "This notebook has been executed using the docker image `pauleve/clockcycle:v0`"
      ],
      "text/plain": [
       "<IPython.core.display.Markdown object>"
      ]
     },
     "metadata": {},
     "output_type": "display_data"
    }
   ],
   "source": [
    "import csbgnpy.pd.io.sbgnml\n",
    "import pypint"
   ]
  },
  {
   "cell_type": "markdown",
   "metadata": {},
   "source": [
    "## Merged map\n",
    "\n",
    "From [1 - Merge CYCLE and CLOCK](1%20-%20Merge%20CYCLE%20and%20CLOCK.ipynb)"
   ]
  },
  {
   "cell_type": "code",
   "execution_count": 3,
   "metadata": {},
   "outputs": [],
   "source": [
    "merge_file = \"generated/MERGE.sbgnml\"\n",
    "merge = csbgnpy.pd.io.sbgnml.read(merge_file)"
   ]
  },
  {
   "cell_type": "markdown",
   "metadata": {},
   "source": [
    "## Phases and markers\n",
    "\n",
    "From [2 - Markers](2%20-%20Markers.ipynb)"
   ]
  },
  {
   "cell_type": "code",
   "execution_count": 4,
   "metadata": {},
   "outputs": [],
   "source": [
    "%store -r cycle_markers\n",
    "%store -r cycle_phases"
   ]
  },
  {
   "cell_type": "markdown",
   "metadata": {},
   "source": [
    "To ids:"
   ]
  },
  {
   "cell_type": "code",
   "execution_count": 5,
   "metadata": {},
   "outputs": [],
   "source": [
    "markers = {phase: [merge.get_entity(e, by_string=True).id for e in ms]\n",
    "               for phase, ms in cycle_markers.items()}"
   ]
  },
  {
   "cell_type": "markdown",
   "metadata": {},
   "source": [
    "## Initial state\n",
    "\n",
    "From [3 - Initial state](3%20-%20Initial%20state.ipynb)"
   ]
  },
  {
   "cell_type": "code",
   "execution_count": 6,
   "metadata": {},
   "outputs": [],
   "source": [
    "%store -r ini"
   ]
  },
  {
   "cell_type": "markdown",
   "metadata": {},
   "source": [
    "To ids:"
   ]
  },
  {
   "cell_type": "code",
   "execution_count": 7,
   "metadata": {},
   "outputs": [],
   "source": [
    "ini = [e.id for e in ini]"
   ]
  },
  {
   "cell_type": "markdown",
   "metadata": {},
   "source": [
    "## Dynamical model"
   ]
  },
  {
   "cell_type": "code",
   "execution_count": 8,
   "metadata": {},
   "outputs": [],
   "source": [
    "an = pypint.load(merge_file, initial_state=ini)"
   ]
  },
  {
   "cell_type": "markdown",
   "metadata": {},
   "source": [
    "## A. Reach each phase"
   ]
  },
  {
   "cell_type": "code",
   "execution_count": 9,
   "metadata": {
    "scrolled": true
   },
   "outputs": [
    {
     "name": "stdout",
     "output_type": "stream",
     "text": [
      "G0 2/2\n",
      "earlyG1 5/5\n",
      "lateG1 2/2\n",
      "earlyS 1/1\n",
      "lateS 1/1\n",
      "G2 4/4\n",
      "M 4/4\n"
     ]
    }
   ],
   "source": [
    "for phase in markers:\n",
    "    res = []\n",
    "    for marker in markers[phase]:\n",
    "        res.append(an.reachability((marker, 1), fallback=\"mole\"))\n",
    "    print(phase, \"{}/{}\".format(sum(res), len(res)))"
   ]
  },
  {
   "cell_type": "markdown",
   "metadata": {},
   "source": [
    "## B. Reach each phase with other phases to zero"
   ]
  },
  {
   "cell_type": "code",
   "execution_count": 10,
   "metadata": {
    "scrolled": true
   },
   "outputs": [
    {
     "name": "stdout",
     "output_type": "stream",
     "text": [
      "G0 2/2\n",
      "earlyG1 5/5\n",
      "lateG1 2/2\n",
      "earlyS 1/1\n",
      "lateS 1/1\n",
      "G2 4/4\n",
      "M 4/4\n"
     ]
    }
   ],
   "source": [
    "for phase in markers:\n",
    "    res = []\n",
    "    for marker in markers[phase]:\n",
    "        l = [(marker, 1)]\n",
    "        for other_phase in markers:\n",
    "            if other_phase != phase:\n",
    "                l += [(marker2, 0) for marker2 in markers[other_phase]]\n",
    "        res.append(an.reachability((marker, 1), fallback=\"mole\"))\n",
    "    print(phase, \"{}/{}\".format(sum(res), len(res)))        "
   ]
  },
  {
   "cell_type": "markdown",
   "metadata": {},
   "source": [
    "## C. Reach each phase with previous phase(s) disabled"
   ]
  },
  {
   "cell_type": "code",
   "execution_count": 11,
   "metadata": {},
   "outputs": [
    {
     "name": "stdout",
     "output_type": "stream",
     "text": [
      "earlyG1 -> lateG1 0/2\n",
      "lateG1 -> earlyS 0/1\n",
      "earlyS -> lateS 0/1\n",
      "lateS -> G2 4/4\n",
      "G2 -> M 0/4\n",
      "M -> earlyG1 5/5\n"
     ]
    }
   ],
   "source": [
    "couples = [([\"earlyG1\"], \"lateG1\"), ([\"lateG1\"], \"earlyS\"), ([\"earlyS\"], \"lateS\"), ([\"lateS\"], \"G2\"), ([\"G2\"], \"M\"), ([\"M\"], \"earlyG1\")]\n",
    "for phases_disabled, phase in couples:\n",
    "    res = []\n",
    "    an_disabled = an.disable([(marker, 1) for phase_disabled in phases_disabled for marker in markers[phase_disabled]])\n",
    "    for marker in markers[phase]:\n",
    "        res.append(an_disabled.reachability((marker, 1), fallback=\"mole\"))\n",
    "    print(\", \".join(phases_disabled), \"->\", phase, \"{}/{}\".format(sum(res), len(res)))    "
   ]
  },
  {
   "cell_type": "code",
   "execution_count": null,
   "metadata": {},
   "outputs": [],
   "source": []
  }
 ],
 "metadata": {
  "kernelspec": {
   "display_name": "Python 3",
   "language": "python",
   "name": "python3"
  },
  "language_info": {
   "codemirror_mode": {
    "name": "ipython",
    "version": 3
   },
   "file_extension": ".py",
   "mimetype": "text/x-python",
   "name": "python",
   "nbconvert_exporter": "python",
   "pygments_lexer": "ipython3",
   "version": "3.8.3"
  }
 },
 "nbformat": 4,
 "nbformat_minor": 4
}
