{
 "cells": [
  {
   "cell_type": "code",
   "execution_count": 1,
   "metadata": {
    "scrolled": true
   },
   "outputs": [],
   "source": [
    "from IPython.display import HTML, display\n",
    "import csbgnpy.pd.io.sbgnml\n",
    "import pypint\n",
    "from tabulate import tabulate\n",
    "import pintsim"
   ]
  },
  {
   "cell_type": "markdown",
   "metadata": {},
   "source": [
    "## Merged map\n",
    "\n",
    "From [1 - Merge CYCLE and CLOCK](1%20-%20Merge%20CYCLE%20and%20CLOCK.ipynb)"
   ]
  },
  {
   "cell_type": "code",
   "execution_count": 2,
   "metadata": {},
   "outputs": [],
   "source": [
    "merge_file = \"generated/MERGE.sbgnml\"\n",
    "merge = csbgnpy.pd.io.sbgnml.read(merge_file)"
   ]
  },
  {
   "cell_type": "markdown",
   "metadata": {},
   "source": [
    "## Phases and markers\n",
    "\n",
    "From [2 - Markers](2%20-%20Markers.ipynb)"
   ]
  },
  {
   "cell_type": "code",
   "execution_count": 3,
   "metadata": {},
   "outputs": [],
   "source": [
    "%store -r cycle_markers\n",
    "%store -r cycle_phases"
   ]
  },
  {
   "cell_type": "markdown",
   "metadata": {},
   "source": [
    "To ids:"
   ]
  },
  {
   "cell_type": "code",
   "execution_count": 4,
   "metadata": {},
   "outputs": [],
   "source": [
    "markers = {phase: [merge.get_entity(e, by_string=True).id for e in ms]\n",
    "               for phase, ms in cycle_markers.items()}"
   ]
  },
  {
   "cell_type": "markdown",
   "metadata": {},
   "source": [
    "## Initial state\n",
    "\n",
    "From [3 - Initial state](3%20-%20Initial%20state.ipynb)"
   ]
  },
  {
   "cell_type": "code",
   "execution_count": 5,
   "metadata": {},
   "outputs": [],
   "source": [
    "%store -r inis"
   ]
  },
  {
   "cell_type": "markdown",
   "metadata": {},
   "source": [
    "To ids:"
   ]
  },
  {
   "cell_type": "code",
   "execution_count": 6,
   "metadata": {},
   "outputs": [],
   "source": [
    "inis = {code: [e.id for e in ini] for code, ini in inis.items()}"
   ]
  },
  {
   "cell_type": "markdown",
   "metadata": {},
   "source": [
    "## Dynamical models"
   ]
  },
  {
   "cell_type": "code",
   "execution_count": 7,
   "metadata": {},
   "outputs": [],
   "source": [
    "ans = [pypint.load(merge_file, initial_state=ini) for ini in inis.values()]"
   ]
  },
  {
   "cell_type": "markdown",
   "metadata": {},
   "source": [
    "## A. Reach markers"
   ]
  },
  {
   "cell_type": "code",
   "execution_count": 8,
   "metadata": {
    "scrolled": true
   },
   "outputs": [
    {
     "name": "stdout",
     "output_type": "stream",
     "text": [
      "Computing for precursor state 1111\n",
      "Computing for precursor state 1112\n",
      "Computing for precursor state 1121\n",
      "Computing for precursor state 1122\n",
      "Computing for precursor state 1211\n",
      "Computing for precursor state 1212\n",
      "Computing for precursor state 1221\n",
      "Computing for precursor state 1222\n",
      "Computing for precursor state 2111\n",
      "Computing for precursor state 2112\n",
      "Computing for precursor state 2121\n",
      "Computing for precursor state 2122\n",
      "Computing for precursor state 2211\n",
      "Computing for precursor state 2212\n",
      "Computing for precursor state 2221\n",
      "Computing for precursor state 2222\n",
      "Computing for precursor state 3111\n",
      "Computing for precursor state 3112\n",
      "Computing for precursor state 3121\n",
      "Computing for precursor state 3122\n",
      "Computing for precursor state 3211\n",
      "Computing for precursor state 3212\n",
      "Computing for precursor state 3221\n",
      "Computing for precursor state 3222\n"
     ]
    }
   ],
   "source": [
    "results = []\n",
    "for i, (code, ini) in enumerate(sorted(inis.items())):\n",
    "    print(\"Computing for precursor state {}\".format(code))\n",
    "    an = ans[i]\n",
    "    res_ini = [code]\n",
    "    for phase in markers:\n",
    "        res = []\n",
    "        for marker in markers[phase]:\n",
    "            res.append(an.reachability((marker, 1), fallback=\"mole\"))\n",
    "        res_ini.append(\"{}/{}\".format(sum(res), len(res)))\n",
    "    results.append(res_ini)\n",
    "results = sorted(results, key=lambda x: x[0])"
   ]
  },
  {
   "cell_type": "code",
   "execution_count": 9,
   "metadata": {},
   "outputs": [
    {
     "data": {
      "text/html": [
       "<table>\n",
       "<thead>\n",
       "<tr><th style=\"text-align: right;\">  Precursor state</th><th>earlyG1  </th><th>lateG1  </th><th>earlyS  </th><th>lateS  </th><th>G2  </th><th>M  </th></tr>\n",
       "</thead>\n",
       "<tbody>\n",
       "<tr><td style=\"text-align: right;\">             1111</td><td>5/5      </td><td>2/2     </td><td>1/1     </td><td>1/1    </td><td>4/4 </td><td>4/4</td></tr>\n",
       "<tr><td style=\"text-align: right;\">             1112</td><td>5/5      </td><td>2/2     </td><td>1/1     </td><td>1/1    </td><td>4/4 </td><td>4/4</td></tr>\n",
       "<tr><td style=\"text-align: right;\">             1121</td><td>5/5      </td><td>2/2     </td><td>1/1     </td><td>1/1    </td><td>4/4 </td><td>4/4</td></tr>\n",
       "<tr><td style=\"text-align: right;\">             1122</td><td>5/5      </td><td>2/2     </td><td>1/1     </td><td>1/1    </td><td>4/4 </td><td>4/4</td></tr>\n",
       "<tr><td style=\"text-align: right;\">             1211</td><td>5/5      </td><td>2/2     </td><td>1/1     </td><td>1/1    </td><td>4/4 </td><td>4/4</td></tr>\n",
       "<tr><td style=\"text-align: right;\">             1212</td><td>5/5      </td><td>2/2     </td><td>1/1     </td><td>1/1    </td><td>4/4 </td><td>4/4</td></tr>\n",
       "<tr><td style=\"text-align: right;\">             1221</td><td>5/5      </td><td>2/2     </td><td>1/1     </td><td>1/1    </td><td>4/4 </td><td>4/4</td></tr>\n",
       "<tr><td style=\"text-align: right;\">             1222</td><td>5/5      </td><td>2/2     </td><td>1/1     </td><td>1/1    </td><td>4/4 </td><td>4/4</td></tr>\n",
       "<tr><td style=\"text-align: right;\">             2111</td><td>5/5      </td><td>2/2     </td><td>1/1     </td><td>1/1    </td><td>4/4 </td><td>4/4</td></tr>\n",
       "<tr><td style=\"text-align: right;\">             2112</td><td>5/5      </td><td>2/2     </td><td>1/1     </td><td>1/1    </td><td>4/4 </td><td>4/4</td></tr>\n",
       "<tr><td style=\"text-align: right;\">             2121</td><td>5/5      </td><td>2/2     </td><td>1/1     </td><td>1/1    </td><td>4/4 </td><td>4/4</td></tr>\n",
       "<tr><td style=\"text-align: right;\">             2122</td><td>5/5      </td><td>2/2     </td><td>1/1     </td><td>1/1    </td><td>4/4 </td><td>4/4</td></tr>\n",
       "<tr><td style=\"text-align: right;\">             2211</td><td>5/5      </td><td>2/2     </td><td>1/1     </td><td>1/1    </td><td>4/4 </td><td>4/4</td></tr>\n",
       "<tr><td style=\"text-align: right;\">             2212</td><td>5/5      </td><td>2/2     </td><td>1/1     </td><td>1/1    </td><td>4/4 </td><td>4/4</td></tr>\n",
       "<tr><td style=\"text-align: right;\">             2221</td><td>5/5      </td><td>2/2     </td><td>1/1     </td><td>1/1    </td><td>4/4 </td><td>4/4</td></tr>\n",
       "<tr><td style=\"text-align: right;\">             2222</td><td>5/5      </td><td>2/2     </td><td>1/1     </td><td>1/1    </td><td>4/4 </td><td>4/4</td></tr>\n",
       "<tr><td style=\"text-align: right;\">             3111</td><td>5/5      </td><td>2/2     </td><td>1/1     </td><td>1/1    </td><td>4/4 </td><td>3/4</td></tr>\n",
       "<tr><td style=\"text-align: right;\">             3112</td><td>5/5      </td><td>2/2     </td><td>1/1     </td><td>1/1    </td><td>4/4 </td><td>3/4</td></tr>\n",
       "<tr><td style=\"text-align: right;\">             3121</td><td>5/5      </td><td>2/2     </td><td>1/1     </td><td>1/1    </td><td>4/4 </td><td>3/4</td></tr>\n",
       "<tr><td style=\"text-align: right;\">             3122</td><td>5/5      </td><td>2/2     </td><td>1/1     </td><td>1/1    </td><td>4/4 </td><td>3/4</td></tr>\n",
       "<tr><td style=\"text-align: right;\">             3211</td><td>5/5      </td><td>2/2     </td><td>1/1     </td><td>1/1    </td><td>4/4 </td><td>3/4</td></tr>\n",
       "<tr><td style=\"text-align: right;\">             3212</td><td>5/5      </td><td>2/2     </td><td>1/1     </td><td>1/1    </td><td>4/4 </td><td>3/4</td></tr>\n",
       "<tr><td style=\"text-align: right;\">             3221</td><td>5/5      </td><td>2/2     </td><td>1/1     </td><td>1/1    </td><td>4/4 </td><td>3/4</td></tr>\n",
       "<tr><td style=\"text-align: right;\">             3222</td><td>5/5      </td><td>2/2     </td><td>1/1     </td><td>1/1    </td><td>4/4 </td><td>3/4</td></tr>\n",
       "</tbody>\n",
       "</table>"
      ],
      "text/plain": [
       "<IPython.core.display.HTML object>"
      ]
     },
     "metadata": {},
     "output_type": "display_data"
    }
   ],
   "source": [
    "display(HTML(tabulate(results, headers=[\"Precursor state\"] + list(markers.keys()), tablefmt=\"html\")))"
   ]
  },
  {
   "cell_type": "markdown",
   "metadata": {},
   "source": [
    "## B. Reach phases"
   ]
  },
  {
   "cell_type": "code",
   "execution_count": 10,
   "metadata": {
    "scrolled": false
   },
   "outputs": [
    {
     "name": "stdout",
     "output_type": "stream",
     "text": [
      "Computing for precursor state 1111\n",
      "Computing for precursor state 1112\n",
      "Computing for precursor state 1121\n",
      "Computing for precursor state 1122\n",
      "Computing for precursor state 1211\n",
      "Computing for precursor state 1212\n",
      "Computing for precursor state 1221\n",
      "Computing for precursor state 1222\n",
      "Computing for precursor state 2111\n",
      "Computing for precursor state 2112\n",
      "Computing for precursor state 2121\n",
      "Computing for precursor state 2122\n",
      "Computing for precursor state 2211\n",
      "Computing for precursor state 2212\n",
      "Computing for precursor state 2221\n",
      "Computing for precursor state 2222\n",
      "Computing for precursor state 3111\n",
      "Computing for precursor state 3112\n",
      "Computing for precursor state 3121\n",
      "Computing for precursor state 3122\n",
      "Computing for precursor state 3211\n",
      "Computing for precursor state 3212\n",
      "Computing for precursor state 3221\n",
      "Computing for precursor state 3222\n"
     ]
    }
   ],
   "source": [
    "results = []\n",
    "for i, (code, ini) in enumerate(sorted(inis.items())):\n",
    "    print(\"Computing for precursor state {}\".format(code))\n",
    "    an = ans[i]\n",
    "    res_ini = [code]\n",
    "    for phase in markers:\n",
    "        res = []\n",
    "        for marker in markers[phase]:\n",
    "            l = [(marker, 1)]\n",
    "            for other_phase in markers:\n",
    "                if other_phase != phase:\n",
    "                    l += [(marker2, 0) for marker2 in markers[other_phase]]\n",
    "            if phase != \"M\":\n",
    "                res.append(an.reachability(dict(l), reduce_for_goal=True, fallback=\"mole\"))\n",
    "            elif marker != \"epn_134\" or not code.startswith(\"2\"):\n",
    "                # We saw in analysis A. that marker \"epn_134\" of phase M is not reachable for precursor states starting with \"2\".\n",
    "                # Reachability of all markers of phase M for the other precursor states,\n",
    "                # and of all markers of phase M but \"epn_134\" for precursor states starting with \"2\" can\n",
    "                # only be tested using simulation. They are all reachable.\n",
    "                # Traces for these reachability properties can be found in file \"CYCLE_traces_M.txt\"\n",
    "                reached, trace = pintsim.reachability(an, ini, dict(l), n_workers=32, max_length=1000, max_repeat=100000)\n",
    "                res.append(reached)\n",
    "        res_ini.append(\"{}/{}\".format(sum(res), len(res)))\n",
    "    results.append(res_ini)\n",
    "results = sorted(results, key=lambda x: x[0])"
   ]
  },
  {
   "cell_type": "code",
   "execution_count": 11,
   "metadata": {
    "scrolled": false
   },
   "outputs": [
    {
     "data": {
      "text/html": [
       "<table>\n",
       "<thead>\n",
       "<tr><th style=\"text-align: right;\">  Precursor state</th><th>earlyG1  </th><th>lateG1  </th><th>earlyS  </th><th>lateS  </th><th>G2  </th><th>M  </th></tr>\n",
       "</thead>\n",
       "<tbody>\n",
       "<tr><td style=\"text-align: right;\">             1111</td><td>5/5      </td><td>2/2     </td><td>1/1     </td><td>1/1    </td><td>4/4 </td><td>4/4</td></tr>\n",
       "<tr><td style=\"text-align: right;\">             1112</td><td>5/5      </td><td>2/2     </td><td>1/1     </td><td>1/1    </td><td>4/4 </td><td>4/4</td></tr>\n",
       "<tr><td style=\"text-align: right;\">             1121</td><td>5/5      </td><td>2/2     </td><td>1/1     </td><td>1/1    </td><td>4/4 </td><td>4/4</td></tr>\n",
       "<tr><td style=\"text-align: right;\">             1122</td><td>5/5      </td><td>2/2     </td><td>1/1     </td><td>1/1    </td><td>4/4 </td><td>4/4</td></tr>\n",
       "<tr><td style=\"text-align: right;\">             1211</td><td>5/5      </td><td>2/2     </td><td>1/1     </td><td>1/1    </td><td>4/4 </td><td>4/4</td></tr>\n",
       "<tr><td style=\"text-align: right;\">             1212</td><td>5/5      </td><td>2/2     </td><td>1/1     </td><td>1/1    </td><td>4/4 </td><td>4/4</td></tr>\n",
       "<tr><td style=\"text-align: right;\">             1221</td><td>5/5      </td><td>2/2     </td><td>1/1     </td><td>1/1    </td><td>4/4 </td><td>4/4</td></tr>\n",
       "<tr><td style=\"text-align: right;\">             1222</td><td>5/5      </td><td>2/2     </td><td>1/1     </td><td>1/1    </td><td>4/4 </td><td>4/4</td></tr>\n",
       "<tr><td style=\"text-align: right;\">             2111</td><td>5/5      </td><td>2/2     </td><td>1/1     </td><td>1/1    </td><td>4/4 </td><td>3/3</td></tr>\n",
       "<tr><td style=\"text-align: right;\">             2112</td><td>5/5      </td><td>2/2     </td><td>1/1     </td><td>1/1    </td><td>4/4 </td><td>3/3</td></tr>\n",
       "<tr><td style=\"text-align: right;\">             2121</td><td>5/5      </td><td>2/2     </td><td>1/1     </td><td>1/1    </td><td>4/4 </td><td>3/3</td></tr>\n",
       "<tr><td style=\"text-align: right;\">             2122</td><td>5/5      </td><td>2/2     </td><td>1/1     </td><td>1/1    </td><td>4/4 </td><td>3/3</td></tr>\n",
       "<tr><td style=\"text-align: right;\">             2211</td><td>5/5      </td><td>2/2     </td><td>1/1     </td><td>1/1    </td><td>4/4 </td><td>3/3</td></tr>\n",
       "<tr><td style=\"text-align: right;\">             2212</td><td>5/5      </td><td>2/2     </td><td>1/1     </td><td>1/1    </td><td>4/4 </td><td>3/3</td></tr>\n",
       "<tr><td style=\"text-align: right;\">             2221</td><td>5/5      </td><td>2/2     </td><td>1/1     </td><td>1/1    </td><td>4/4 </td><td>3/3</td></tr>\n",
       "<tr><td style=\"text-align: right;\">             2222</td><td>5/5      </td><td>2/2     </td><td>1/1     </td><td>1/1    </td><td>4/4 </td><td>3/3</td></tr>\n",
       "<tr><td style=\"text-align: right;\">             3111</td><td>5/5      </td><td>2/2     </td><td>1/1     </td><td>1/1    </td><td>4/4 </td><td>4/4</td></tr>\n",
       "<tr><td style=\"text-align: right;\">             3112</td><td>5/5      </td><td>2/2     </td><td>1/1     </td><td>1/1    </td><td>4/4 </td><td>4/4</td></tr>\n",
       "<tr><td style=\"text-align: right;\">             3121</td><td>5/5      </td><td>2/2     </td><td>1/1     </td><td>1/1    </td><td>4/4 </td><td>4/4</td></tr>\n",
       "<tr><td style=\"text-align: right;\">             3122</td><td>5/5      </td><td>2/2     </td><td>1/1     </td><td>1/1    </td><td>4/4 </td><td>4/4</td></tr>\n",
       "<tr><td style=\"text-align: right;\">             3211</td><td>5/5      </td><td>2/2     </td><td>1/1     </td><td>1/1    </td><td>4/4 </td><td>4/4</td></tr>\n",
       "<tr><td style=\"text-align: right;\">             3212</td><td>5/5      </td><td>2/2     </td><td>1/1     </td><td>1/1    </td><td>4/4 </td><td>4/4</td></tr>\n",
       "<tr><td style=\"text-align: right;\">             3221</td><td>5/5      </td><td>2/2     </td><td>1/1     </td><td>1/1    </td><td>4/4 </td><td>4/4</td></tr>\n",
       "<tr><td style=\"text-align: right;\">             3222</td><td>5/5      </td><td>2/2     </td><td>1/1     </td><td>1/1    </td><td>4/4 </td><td>4/4</td></tr>\n",
       "</tbody>\n",
       "</table>"
      ],
      "text/plain": [
       "<IPython.core.display.HTML object>"
      ]
     },
     "metadata": {},
     "output_type": "display_data"
    }
   ],
   "source": [
    "display(HTML(tabulate(results, headers=[\"Precursor state\"] + list(markers.keys()), tablefmt=\"html\")))"
   ]
  },
  {
   "cell_type": "markdown",
   "metadata": {},
   "source": [
    "## C. Reach phases with previous phase disabled"
   ]
  },
  {
   "cell_type": "code",
   "execution_count": 12,
   "metadata": {},
   "outputs": [
    {
     "name": "stdout",
     "output_type": "stream",
     "text": [
      "Computing for precursor state 1111\n",
      "Computing for precursor state 1112\n",
      "Computing for precursor state 1121\n",
      "Computing for precursor state 1122\n",
      "Computing for precursor state 1211\n",
      "Computing for precursor state 1212\n",
      "Computing for precursor state 1221\n",
      "Computing for precursor state 1222\n",
      "Computing for precursor state 2111\n",
      "Computing for precursor state 2112\n",
      "Computing for precursor state 2121\n",
      "Computing for precursor state 2122\n",
      "Computing for precursor state 2211\n",
      "Computing for precursor state 2212\n",
      "Computing for precursor state 2221\n",
      "Computing for precursor state 2222\n",
      "Computing for precursor state 3111\n",
      "Computing for precursor state 3112\n",
      "Computing for precursor state 3121\n",
      "Computing for precursor state 3122\n",
      "Computing for precursor state 3211\n",
      "Computing for precursor state 3212\n",
      "Computing for precursor state 3221\n",
      "Computing for precursor state 3222\n"
     ]
    }
   ],
   "source": [
    "results = []\n",
    "couples = [([\"earlyG1\"], \"lateG1\"), ([\"lateG1\"], \"earlyS\"), ([\"earlyS\"], \"lateS\"), ([\"lateS\"], \"G2\"), ([\"G2\"], \"M\"), ([\"M\"], \"earlyG1\")]\n",
    "for i, (code, ini) in enumerate(sorted(inis.items())):\n",
    "    print(\"Computing for precursor state {}\".format(code))\n",
    "    an = ans[i]\n",
    "    res_ini = [code]\n",
    "    for phases_disabled, phase in couples:\n",
    "        res = []\n",
    "        an_disabled = an.disable([(marker, 1) for phase_disabled in phases_disabled for marker in markers[phase_disabled]])\n",
    "        for marker in markers[phase]:\n",
    "            l = [(marker, 1)]\n",
    "            for other_phase in markers:\n",
    "                if other_phase != phase:\n",
    "                    l += [(marker2, 0) for marker2 in markers[other_phase]]\n",
    "            res.append(an_disabled.reachability(dict(l), fallback=\"mole\"))\n",
    "        res_ini.append(\"{}/{}\".format(sum(res), len(res)))    \n",
    "    results.append(res_ini)\n",
    "results = sorted(results, key=lambda x: x[0])"
   ]
  },
  {
   "cell_type": "code",
   "execution_count": 13,
   "metadata": {
    "scrolled": true
   },
   "outputs": [
    {
     "data": {
      "text/html": [
       "<table>\n",
       "<thead>\n",
       "<tr><th style=\"text-align: right;\">  Precursor state</th><th>earlyG1 -&gt; lateG1  </th><th>lateG1 -&gt; earlyS  </th><th>earlyS -&gt; lateS  </th><th>lateS -&gt; G2  </th><th>G2 -&gt; M  </th><th>M -&gt; earlyG1  </th></tr>\n",
       "</thead>\n",
       "<tbody>\n",
       "<tr><td style=\"text-align: right;\">             1111</td><td>0/2                </td><td>0/1               </td><td>0/1              </td><td>4/4          </td><td>0/4      </td><td>5/5           </td></tr>\n",
       "<tr><td style=\"text-align: right;\">             1112</td><td>0/2                </td><td>0/1               </td><td>0/1              </td><td>4/4          </td><td>0/4      </td><td>5/5           </td></tr>\n",
       "<tr><td style=\"text-align: right;\">             1121</td><td>0/2                </td><td>0/1               </td><td>0/1              </td><td>4/4          </td><td>0/4      </td><td>5/5           </td></tr>\n",
       "<tr><td style=\"text-align: right;\">             1122</td><td>0/2                </td><td>0/1               </td><td>0/1              </td><td>4/4          </td><td>0/4      </td><td>5/5           </td></tr>\n",
       "<tr><td style=\"text-align: right;\">             1211</td><td>0/2                </td><td>0/1               </td><td>0/1              </td><td>4/4          </td><td>0/4      </td><td>5/5           </td></tr>\n",
       "<tr><td style=\"text-align: right;\">             1212</td><td>0/2                </td><td>0/1               </td><td>0/1              </td><td>4/4          </td><td>0/4      </td><td>5/5           </td></tr>\n",
       "<tr><td style=\"text-align: right;\">             1221</td><td>0/2                </td><td>0/1               </td><td>0/1              </td><td>4/4          </td><td>0/4      </td><td>5/5           </td></tr>\n",
       "<tr><td style=\"text-align: right;\">             1222</td><td>0/2                </td><td>0/1               </td><td>0/1              </td><td>4/4          </td><td>0/4      </td><td>5/5           </td></tr>\n",
       "<tr><td style=\"text-align: right;\">             2111</td><td>0/2                </td><td>0/1               </td><td>0/1              </td><td>4/4          </td><td>0/4      </td><td>5/5           </td></tr>\n",
       "<tr><td style=\"text-align: right;\">             2112</td><td>0/2                </td><td>0/1               </td><td>0/1              </td><td>4/4          </td><td>0/4      </td><td>5/5           </td></tr>\n",
       "<tr><td style=\"text-align: right;\">             2121</td><td>0/2                </td><td>0/1               </td><td>0/1              </td><td>4/4          </td><td>0/4      </td><td>5/5           </td></tr>\n",
       "<tr><td style=\"text-align: right;\">             2122</td><td>0/2                </td><td>0/1               </td><td>0/1              </td><td>4/4          </td><td>0/4      </td><td>5/5           </td></tr>\n",
       "<tr><td style=\"text-align: right;\">             2211</td><td>0/2                </td><td>0/1               </td><td>0/1              </td><td>4/4          </td><td>0/4      </td><td>5/5           </td></tr>\n",
       "<tr><td style=\"text-align: right;\">             2212</td><td>0/2                </td><td>0/1               </td><td>0/1              </td><td>4/4          </td><td>0/4      </td><td>5/5           </td></tr>\n",
       "<tr><td style=\"text-align: right;\">             2221</td><td>0/2                </td><td>0/1               </td><td>0/1              </td><td>4/4          </td><td>0/4      </td><td>5/5           </td></tr>\n",
       "<tr><td style=\"text-align: right;\">             2222</td><td>0/2                </td><td>0/1               </td><td>0/1              </td><td>4/4          </td><td>0/4      </td><td>5/5           </td></tr>\n",
       "<tr><td style=\"text-align: right;\">             3111</td><td>0/2                </td><td>0/1               </td><td>0/1              </td><td>4/4          </td><td>0/4      </td><td>5/5           </td></tr>\n",
       "<tr><td style=\"text-align: right;\">             3112</td><td>0/2                </td><td>0/1               </td><td>0/1              </td><td>4/4          </td><td>0/4      </td><td>5/5           </td></tr>\n",
       "<tr><td style=\"text-align: right;\">             3121</td><td>0/2                </td><td>0/1               </td><td>0/1              </td><td>4/4          </td><td>0/4      </td><td>5/5           </td></tr>\n",
       "<tr><td style=\"text-align: right;\">             3122</td><td>0/2                </td><td>0/1               </td><td>0/1              </td><td>4/4          </td><td>0/4      </td><td>5/5           </td></tr>\n",
       "<tr><td style=\"text-align: right;\">             3211</td><td>0/2                </td><td>0/1               </td><td>0/1              </td><td>4/4          </td><td>0/4      </td><td>5/5           </td></tr>\n",
       "<tr><td style=\"text-align: right;\">             3212</td><td>0/2                </td><td>0/1               </td><td>0/1              </td><td>4/4          </td><td>0/4      </td><td>5/5           </td></tr>\n",
       "<tr><td style=\"text-align: right;\">             3221</td><td>0/2                </td><td>0/1               </td><td>0/1              </td><td>4/4          </td><td>0/4      </td><td>5/5           </td></tr>\n",
       "<tr><td style=\"text-align: right;\">             3222</td><td>0/2                </td><td>0/1               </td><td>0/1              </td><td>4/4          </td><td>0/4      </td><td>5/5           </td></tr>\n",
       "</tbody>\n",
       "</table>"
      ],
      "text/plain": [
       "<IPython.core.display.HTML object>"
      ]
     },
     "metadata": {},
     "output_type": "display_data"
    }
   ],
   "source": [
    "display(HTML(tabulate(results, headers=[\"Precursor state\"] + [\"{} -> {}\".format(\", \".join(phases_disabled), phase) for phases_disabled, phase in couples], tablefmt=\"html\")))"
   ]
  }
 ],
 "metadata": {
  "kernelspec": {
   "display_name": "Python 3",
   "language": "python",
   "name": "python3"
  },
  "language_info": {
   "codemirror_mode": {
    "name": "ipython",
    "version": 3
   },
   "file_extension": ".py",
   "mimetype": "text/x-python",
   "name": "python",
   "nbconvert_exporter": "python",
   "pygments_lexer": "ipython3",
   "version": "3.9.1"
  }
 },
 "nbformat": 4,
 "nbformat_minor": 4
}
